{
 "cells": [
  {
   "cell_type": "markdown",
   "metadata": {},
   "source": [
    "<!-- Notebook Header Start -->\n",
    "\n",
    "<h1 align=\"center\">Changes to Noxious Stimuli by means of Dorsal Root Ganglion Stimulation</h1>\n",
    "\n",
    "<p align=\"center\">\n",
    "  <strong>Author:</strong> Karl Bates<br>\n",
    "  <strong>Date:</strong> 2024-12-06<br>\n",
    "  <strong>Affiliation:</strong> Carnegie Mellon University, Cohen-Karni Lab  || Neuromechatronics Lab\n",
    "</p>\n",
    "\n",
    "---\n",
    "\n",
    "\n",
    "## 📊 Notebook Outline\n",
    "\n",
    "* **Importing libraries & data**\n",
    "* **Preprocess neurophysiology recordings for spike sorting**\n",
    "* **Package preprocessed data for spike sorting using Kilosort4**\n",
    "* **Run Kilosort to extract spike activity**\n",
    "* **Calculate average firing rate of each cluster during noxious stimuli**\n",
    "* **Compare the firing rates of clusters before and after noxious stimuli**\n",
    "\n",
    "## 📚 References & Additional Resources\n",
    "\n",
    "- [Kilosort4 docs](https://github.com/MouseLand/Kilosort/tree/main)\n",
    "- [SpikeInterface docs](https://github.com/SpikeInterface)\n",
    "\n",
    "---\n",
    "\n",
    "<!-- Notebook Header End -->\n"
   ]
  },
  {
   "cell_type": "markdown",
   "metadata": {},
   "source": [
    "# ➡ Importing Libraries & Data\n",
    "---"
   ]
  },
  {
   "cell_type": "code",
   "execution_count": null,
   "metadata": {},
   "outputs": [],
   "source": [
    "# standard imports\n",
    "from pathlib import Path\n",
    "import os\n",
    "from kilosort import io\n",
    "import numpy as np\n",
    "\n",
    "# custom importss\n",
    "from automations import RM1\n",
    "from automations import SpikeInterface_wrapper\n",
    "from automations import Kilosort_wrapper\n",
    "from automations import plots"
   ]
  },
  {
   "cell_type": "markdown",
   "metadata": {},
   "source": [
    "### probe definition\n",
    "\n",
    "Using the spreadsheet, `Adapter_pinout.xlsx`, the contact ID's can be traced to the \"device channel\", and we can assign them on the probe. \n",
    "\n",
    "In this case, our channel indices correspond to the aux inputs to the intan headstage.\n",
    "\n",
    "refer to the notebook, `RM1_pipeline.ipynb` within  the `dev_notebook` folder"
   ]
  },
  {
   "cell_type": "code",
   "execution_count": null,
   "metadata": {},
   "outputs": [],
   "source": [
    "PROBE_DIRECTORY = Path(r'D:\\Data\\CMU.80 Data\\88 Analyzed Data\\88.001 A1x32-Edge-5mm-20-177-A32\\A1x32-Edge-5mm-20-177-A32.prb')"
   ]
  },
  {
   "cell_type": "markdown",
   "metadata": {},
   "source": [
    "### filepath definitions"
   ]
  },
  {
   "cell_type": "code",
   "execution_count": null,
   "metadata": {},
   "outputs": [],
   "source": [
    "# NOTE Specify the path where the data will be copied to, and where Kilosort4 results will be saved.\n",
    "# in this case, the data is saved in a folder with multiple rats\n",
    "DATA_DIRECTORY = Path(fr'D:\\Data\\CMU.80 Data\\82 External Data\\82.002 Sample Rat Data from RM1 Project')  \n",
    "# Create path if it doesn't exist\n",
    "DATA_DIRECTORY.mkdir(parents=True, exist_ok=True)\n",
    "\n",
    "# NOTE Specify the path where the data will be copied to, and where Kilosort4 results will be saved.\n",
    "# save data to the inbox; make sure that the folders: binary & figures exist\n",
    "SAVE_DIRECTORY_DW322 = Path(fr'D:\\Data\\CMU.80 Data\\88 Analyzed Data\\88.006 Von Vrey Analysis\\DW322') \n",
    "SAVE_DIRECTORY_DW323 = Path(fr'D:\\Data\\CMU.80 Data\\88 Analyzed Data\\88.006 Von Vrey Analysis\\DW323') \n",
    "SAVE_DIRECTORY_DW327 = Path(fr'D:\\Data\\CMU.80 Data\\88 Analyzed Data\\88.006 Von Vrey Analysis\\DW327') \n",
    "# Create paths if they don't exist\n",
    "SAVE_DIRECTORY_DW322.mkdir(parents=True, exist_ok=True)\n",
    "SAVE_DIRECTORY_DW323.mkdir(parents=True, exist_ok=True)\n",
    "SAVE_DIRECTORY_DW327.mkdir(parents=True, exist_ok=True)\n"
   ]
  },
  {
   "cell_type": "markdown",
   "metadata": {},
   "source": [
    "# 📈 Preprocess data using SpikeInterface\n",
    "\n",
    "This is used to determine which trial is most likely to produce good units in a spike sorting analysis\n",
    "\n",
    "---"
   ]
  },
  {
   "cell_type": "markdown",
   "metadata": {},
   "source": [
    "### 🐀 importing the rat"
   ]
  },
  {
   "cell_type": "code",
   "execution_count": null,
   "metadata": {},
   "outputs": [],
   "source": [
    "DW322 = RM1.Rat(DATA_DIRECTORY, PROBE_DIRECTORY, \"DW322\")\n",
    "DW323 = RM1.Rat(DATA_DIRECTORY, PROBE_DIRECTORY, \"DW323\")\n",
    "DW327 = RM1.Rat(DATA_DIRECTORY, PROBE_DIRECTORY, \"DW327\")"
   ]
  },
  {
   "cell_type": "markdown",
   "metadata": {},
   "source": [
    "### 📄 metadata"
   ]
  },
  {
   "cell_type": "markdown",
   "metadata": {},
   "source": [
    "#### DW322"
   ]
  },
  {
   "cell_type": "code",
   "execution_count": null,
   "metadata": {},
   "outputs": [],
   "source": [
    "DW322.qst_experiment_notes"
   ]
  },
  {
   "cell_type": "code",
   "execution_count": null,
   "metadata": {},
   "outputs": [],
   "source": [
    "DW322.qst_trial_notes"
   ]
  },
  {
   "cell_type": "markdown",
   "metadata": {},
   "source": [
    "#### DW323"
   ]
  },
  {
   "cell_type": "code",
   "execution_count": null,
   "metadata": {},
   "outputs": [],
   "source": [
    "DW323.qst_experiment_notes"
   ]
  },
  {
   "cell_type": "code",
   "execution_count": null,
   "metadata": {},
   "outputs": [],
   "source": [
    "DW323.qst_trial_notes"
   ]
  },
  {
   "cell_type": "markdown",
   "metadata": {},
   "source": [
    "#### DW327"
   ]
  },
  {
   "cell_type": "code",
   "execution_count": null,
   "metadata": {},
   "outputs": [],
   "source": [
    "DW327.qst_experiment_notes"
   ]
  },
  {
   "cell_type": "code",
   "execution_count": null,
   "metadata": {},
   "outputs": [],
   "source": [
    "DW327.qst_trial_notes"
   ]
  },
  {
   "cell_type": "markdown",
   "metadata": {},
   "source": [
    "### ↩ preprocess spinal cord data & export results to binary\n",
    "\n",
    "⚠ !!this section is commented out, since I already have this done!!\n",
    "I don't remove"
   ]
  },
  {
   "cell_type": "markdown",
   "metadata": {},
   "source": [
    "preprocess"
   ]
  },
  {
   "cell_type": "code",
   "execution_count": null,
   "metadata": {},
   "outputs": [],
   "source": [
    "DW322.get_sc_data()\n",
    "DW322.get_analog_data()\n",
    "DW322.remove_drg_stim_window_sc()\n",
    "DW322.remove_drg_stim_window_analog()\n",
    "\n",
    "DW323.get_sc_data()\n",
    "DW323.get_analog_data()\n",
    "DW323.remove_drg_stim_window_sc()\n",
    "DW323.remove_drg_stim_window_analog()\n",
    "\n",
    "DW327.get_sc_data()\n",
    "DW327.get_analog_data()\n",
    "DW327.remove_drg_stim_window_sc()\n",
    "DW327.remove_drg_stim_window_analog()"
   ]
  },
  {
   "cell_type": "markdown",
   "metadata": {},
   "source": [
    "export to binary"
   ]
  },
  {
   "cell_type": "markdown",
   "metadata": {},
   "source": [
    "DW322"
   ]
  },
  {
   "cell_type": "code",
   "execution_count": null,
   "metadata": {},
   "outputs": [],
   "source": [
    "signals_DW322 = SpikeInterface_wrapper(DW322, SAVE_DIRECTORY_DW322)\n",
    "# trials = [\"VF_1_240918_143256\",\n",
    "#           \"VF_2_240918_143936\",\n",
    "#           \"VF_3_240918_144658\",\n",
    "#           \"VF_4_240918_145638\",\n",
    "#           \"VF_5_240918_150137\",\n",
    "#           \"VF_6_240918_150811\",\n",
    "#           \"VF_7_240918_151516\",\n",
    "#           \"VF_8_240918_152056\",\n",
    "#           \"VF_9_240918_152753\"]\n",
    "# signals_DW322.save_spinalcord_data_to_binary(TRIAL_NAMES=trials)"
   ]
  },
  {
   "cell_type": "markdown",
   "metadata": {},
   "source": [
    "DW323"
   ]
  },
  {
   "cell_type": "code",
   "execution_count": null,
   "metadata": {},
   "outputs": [],
   "source": [
    "signals_DW323 = SpikeInterface_wrapper(DW323, SAVE_DIRECTORY_DW323)\n",
    "# trials = [\"VF_1_240911_164342\",\n",
    "#           \"VF_2_240911_165039\",\n",
    "#           \"VF_3_240911_165617\",\n",
    "#           \"VF_4_240911_170446\",\n",
    "#           \"VF_5_240911_171014\",\n",
    "#           \"VF_6_240911_171505\",\n",
    "#           \"VF_7_240911_180931\"]\n",
    "# signals_DW323.save_spinalcord_data_to_binary(TRIAL_NAMES=trials)"
   ]
  },
  {
   "cell_type": "markdown",
   "metadata": {},
   "source": [
    "DW327"
   ]
  },
  {
   "cell_type": "code",
   "execution_count": null,
   "metadata": {},
   "outputs": [],
   "source": [
    "signals_DW327 = SpikeInterface_wrapper(DW327, SAVE_DIRECTORY_DW327)\n",
    "# trials = [\"VF_1_241125_153746\",\n",
    "#           \"VF_2_241125_154307\",\n",
    "#           \"VF_3_241125_154841\",\n",
    "#           \"VF_4_241125_155417\",\n",
    "#           \"VF_5_241125_155941\",\n",
    "#           \"VF_6_241125_160515\",\n",
    "#           \"VF_7_241125_161126\",\n",
    "#           \"VF_8_241125_161626\",\n",
    "#           \"VF_9_241125_162141\",\n",
    "#           \"VF_10_241125_162725\"\n",
    "#         ]\n",
    "# signals_DW327.save_spinalcord_data_to_binary(TRIAL_NAMES=trials)"
   ]
  },
  {
   "cell_type": "markdown",
   "metadata": {},
   "source": [
    "# 🧠 Extract spikes with Kilosort4, import the results back into Python for analysis\n",
    "\n",
    "⚠ !!this section is commented out, since I already have this done!!\n",
    "\n",
    "---"
   ]
  },
  {
   "cell_type": "code",
   "execution_count": null,
   "metadata": {},
   "outputs": [],
   "source": [
    "def my_custom_criteria(cluster_labels, st, clu, est_contam_rate, fs):\n",
    "    # Example criteria: Contamination rate < 0.1 and firing rate between 0.5 and 50 Hz\n",
    "    contam_good = est_contam_rate < 0.2\n",
    "    fr_good = np.zeros(cluster_labels.size, dtype=bool)\n",
    "    for i, c in enumerate(cluster_labels):\n",
    "        spikes = st[clu == c]\n",
    "        fr = spikes.size / ((spikes.max() - spikes.min()) / fs)\n",
    "        if 0.5 <= fr <= 50:\n",
    "            fr_good[i] = True\n",
    "    return np.logical_and(contam_good, fr_good)"
   ]
  },
  {
   "cell_type": "code",
   "execution_count": null,
   "metadata": {},
   "outputs": [],
   "source": [
    "### DW322\n",
    "spikes_DW322 = Kilosort_wrapper(SAVE_DIRECTORY_DW322, PROBE_DIRECTORY)\n",
    "# # Run Kilosort and apply custom labels with custom criteria\n",
    "# spikes.run_kilosort_trial_summary(new_settings=\"vf_settings\",custom_criteria=my_custom_criteria)\n",
    "\n",
    "### DW323\n",
    "spikes_DW323 = Kilosort_wrapper(SAVE_DIRECTORY_DW323, PROBE_DIRECTORY)\n",
    "# # Run Kilosort and apply custom labels with your custom criteria\n",
    "# spikes.run_kilosort_trial_summary(new_settings=\"vf_settings\",custom_criteria=my_custom_criteria)\n",
    "\n",
    "### DW327\n",
    "spikes_DW237 = Kilosort_wrapper(SAVE_DIRECTORY_DW327, PROBE_DIRECTORY)\n",
    "# # Run Kilosort and apply custom labels with your custom criteria\n",
    "# spikes.run_kilosort_trial_summary(new_settings=\"vf_settings\",custom_criteria=my_custom_criteria)"
   ]
  },
  {
   "cell_type": "markdown",
   "metadata": {},
   "source": [
    "extract results\n",
    "\n",
    "(again, I've already run kilosort so I can skip right to extracting the results)"
   ]
  },
  {
   "cell_type": "code",
   "execution_count": null,
   "metadata": {},
   "outputs": [],
   "source": [
    "spikes_DW322.extract_kilosort_outputs()\n",
    "spikes_DW323.extract_kilosort_outputs()\n",
    "spikes_DW237.extract_kilosort_outputs()"
   ]
  },
  {
   "cell_type": "markdown",
   "metadata": {},
   "source": [
    "##### explanation of output files\n",
    "- **`ops`**: Loads the Kilosort options dictionary, which includes parameters and processing information.\n",
    "- **`cluster_amplitudes` & `contamination_percentage`**: Load cluster amplitudes and contamination percentages from TSV files.\n",
    "- **`channel_mapping`**: Loads the mapping of electrode channels.\n",
    "- **`templates`**: Loads the spike waveform templates.\n",
    "- **`chan_best`**: Identifies the best (most representative) channel for each template by finding the channel with the maximum energy (sum of squared amplitudes).\n",
    "- **`amplitudes`**: Loads the amplitudes of detected spikes.\n",
    "- **`spike_times`**: Loads spike times, typically in sample indices.\n",
    "- **`spike_clusters`**: Loads cluster assignments for each spike.\n",
    "- **`firing_rates`**: Calculates the firing rate for each unit (cluster) by counting the number of spikes and normalizing by the total recording time.\n",
    "- **`dshift`**: Extracts the drift shift values from the options dictionary, which indicates the movement of the recording probe over time."
   ]
  },
  {
   "cell_type": "markdown",
   "metadata": {},
   "source": [
    "# 📊 Calculate rate per cluster\n",
    "\n",
    "---"
   ]
  },
  {
   "cell_type": "markdown",
   "metadata": {},
   "source": [
    "### Extract windows of time where Von Frey stimulus is applied, calculate average stimulus and ECAP"
   ]
  },
  {
   "cell_type": "code",
   "execution_count": null,
   "metadata": {},
   "outputs": [],
   "source": [
    "from automations import analysis_functions"
   ]
  },
  {
   "cell_type": "code",
   "execution_count": null,
   "metadata": {},
   "outputs": [],
   "source": [
    "VF_test = analysis_functions.VonFreyAnalysis(DW327, signals_DW327, spikes_DW237)\n",
    "# VF_test.extract_von_frey_windows() # this works, but it also rungs when I run the extract_cluster_firing_rates\n",
    "VF_test.compute_unit_firing_rates()"
   ]
  },
  {
   "cell_type": "code",
   "execution_count": null,
   "metadata": {},
   "outputs": [],
   "source": [
    "VF_test.von_frey_time_windows[\"VF_10_241125_162725\"]"
   ]
  },
  {
   "cell_type": "code",
   "execution_count": null,
   "metadata": {},
   "outputs": [],
   "source": [
    "VF_test.cluster_firing_rates[\"VF_10_241125_162725\"]"
   ]
  },
  {
   "cell_type": "code",
   "execution_count": null,
   "metadata": {},
   "outputs": [],
   "source": [
    "VF_test.von_frey_time_windows[\"VF_10_241125_162725\"]"
   ]
  }
 ],
 "metadata": {
  "kernelspec": {
   "display_name": "kilosort",
   "language": "python",
   "name": "python3"
  },
  "language_info": {
   "codemirror_mode": {
    "name": "ipython",
    "version": 3
   },
   "file_extension": ".py",
   "mimetype": "text/x-python",
   "name": "python",
   "nbconvert_exporter": "python",
   "pygments_lexer": "ipython3",
   "version": "3.9.20"
  }
 },
 "nbformat": 4,
 "nbformat_minor": 2
}
