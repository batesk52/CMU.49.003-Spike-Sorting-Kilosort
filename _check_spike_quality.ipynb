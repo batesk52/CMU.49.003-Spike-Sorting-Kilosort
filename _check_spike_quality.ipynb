{
 "cells": [
  {
   "cell_type": "markdown",
   "metadata": {},
   "source": [
    "<!-- Notebook Header Start -->\n",
    "\n",
    "<h1 align=\"center\">Spike Sorting</h1>\n",
    "\n",
    "<p align=\"center\">\n",
    "  <strong>Author:</strong> Karl Bates<br>\n",
    "  <strong>Date:</strong> 2024-11-18<br>\n",
    "  <strong>Affiliation:</strong> Carnegie Mellon University, Cohen-Karni Lab  || Neuromechatronics Lab\n",
    "</p>\n",
    "\n",
    "---\n",
    "\n",
    "\n",
    "## 📊 Notebook Outline\n",
    "\n",
    "* **Data Import & Preprocessing**\n",
    "* ****\n",
    "\n",
    "## 📚 References & Additional Resources\n",
    "\n",
    "- [Kilosort4 docs](https://github.com/MouseLand/Kilosort/tree/main)\n",
    "- [SpikeInterface docs](https://github.com/SpikeInterface)\n",
    "\n",
    "---\n",
    "\n",
    "<!-- Notebook Header End -->\n"
   ]
  },
  {
   "cell_type": "markdown",
   "metadata": {},
   "source": [
    "# 📈 Importing Libraries & Data\n",
    "---"
   ]
  },
  {
   "cell_type": "markdown",
   "metadata": {},
   "source": [
    "### imports"
   ]
  },
  {
   "cell_type": "code",
   "execution_count": 1,
   "metadata": {},
   "outputs": [],
   "source": [
    "# standard imports\n",
    "from pathlib import Path\n",
    "import os\n",
    "import pandas as pd\n",
    "import numpy as np\n",
    "from kilosort import io\n",
    "import matplotlib.pyplot as plt\n",
    "\n",
    "# custom imports\n",
    "from automations import RM1\n",
    "from automations import kilosort_wrapper"
   ]
  },
  {
   "cell_type": "markdown",
   "metadata": {},
   "source": [
    "### probe definition\n",
    "\n",
    "Using the spreadsheet, `Adapter_pinout.xlsx`, the contact ID's can be traced to the \"device channel\", and we can assign them on the probe. \n",
    "\n",
    "In this case, our channel indices correspond to the aux inputs to the intan headstage.\n",
    "\n",
    "refer to the notebook, `RM1_pipeline.ipynb` within  the `dev_notebook` folder"
   ]
  },
  {
   "cell_type": "code",
   "execution_count": 2,
   "metadata": {},
   "outputs": [],
   "source": [
    "# Path definitions\n",
    "SAVE_DIRECTORY = Path(fr'D:\\Data\\CMU.80 Data\\88 Analyzed Data\\88.002 Multi rat kilosort export\\_inbox')  # NOTE Specify the path where the data will be copied to, and where Kilosort4 results will be saved.\n",
    "DATA_DIRECTORY = Path(fr'D:\\Data\\CMU.80 Data\\82 External Data\\82.002 Sample Rat Data from RM1 Project')  # NOTE Specify the path where the data will be copied to, and where Kilosort4 results will be saved.\n",
    "# Create path if it doesn't exist\n",
    "DATA_DIRECTORY.mkdir(parents=True, exist_ok=True)\n",
    "SAVE_DIRECTORY.mkdir(parents=True, exist_ok=True)\n",
    "PROBE_DIRECTORY = Path(r'D:\\Data\\CMU.80 Data\\88 Analyzed Data\\88.001 A1x32-Edge-5mm-20-177-A32\\A1x32-Edge-5mm-20-177-A32.prb')"
   ]
  },
  {
   "cell_type": "markdown",
   "metadata": {},
   "source": [
    "# 🔁 Example: Review of Every Trial in a Rat of Choice\n",
    "\n",
    "This is used to determine which trial is most likely to produce good units in a spike sorting analysis"
   ]
  },
  {
   "cell_type": "markdown",
   "metadata": {},
   "source": [
    "### filepath definitions"
   ]
  },
  {
   "cell_type": "code",
   "execution_count": 3,
   "metadata": {},
   "outputs": [
    {
     "data": {
      "text/html": [
       "<div>\n",
       "<style scoped>\n",
       "    .dataframe tbody tr th:only-of-type {\n",
       "        vertical-align: middle;\n",
       "    }\n",
       "\n",
       "    .dataframe tbody tr th {\n",
       "        vertical-align: top;\n",
       "    }\n",
       "\n",
       "    .dataframe thead th {\n",
       "        text-align: right;\n",
       "    }\n",
       "</style>\n",
       "<table border=\"1\" class=\"dataframe\">\n",
       "  <thead>\n",
       "    <tr style=\"text-align: right;\">\n",
       "      <th></th>\n",
       "      <th>A1x32 Probe.1</th>\n",
       "      <th>A32-&gt;O32 Adapter.1</th>\n",
       "      <th>Intan Board</th>\n",
       "      <th>Intan Input.1</th>\n",
       "    </tr>\n",
       "  </thead>\n",
       "  <tbody>\n",
       "    <tr>\n",
       "      <th>0</th>\n",
       "      <td>32</td>\n",
       "      <td>32</td>\n",
       "      <td>T13</td>\n",
       "      <td>19</td>\n",
       "    </tr>\n",
       "    <tr>\n",
       "      <th>1</th>\n",
       "      <td>31</td>\n",
       "      <td>30</td>\n",
       "      <td>T14</td>\n",
       "      <td>20</td>\n",
       "    </tr>\n",
       "    <tr>\n",
       "      <th>2</th>\n",
       "      <td>30</td>\n",
       "      <td>31</td>\n",
       "      <td>B13</td>\n",
       "      <td>28</td>\n",
       "    </tr>\n",
       "    <tr>\n",
       "      <th>3</th>\n",
       "      <td>29</td>\n",
       "      <td>28</td>\n",
       "      <td>T15</td>\n",
       "      <td>21</td>\n",
       "    </tr>\n",
       "    <tr>\n",
       "      <th>4</th>\n",
       "      <td>28</td>\n",
       "      <td>29</td>\n",
       "      <td>B14</td>\n",
       "      <td>27</td>\n",
       "    </tr>\n",
       "  </tbody>\n",
       "</table>\n",
       "</div>"
      ],
      "text/plain": [
       "   A1x32 Probe.1  A32->O32 Adapter.1 Intan Board  Intan Input.1\n",
       "0             32                  32         T13             19\n",
       "1             31                  30         T14             20\n",
       "2             30                  31         B13             28\n",
       "3             29                  28         T15             21\n",
       "4             28                  29         B14             27"
      ]
     },
     "execution_count": 3,
     "metadata": {},
     "output_type": "execute_result"
    }
   ],
   "source": [
    "channel_mapping = pd.read_excel(r\"D:\\Data\\CMU.80 Data\\88 Analyzed Data\\88.001 A1x32-Edge-5mm-20-177-A32\\Adapter_pinout.xlsx\",\n",
    "                                sheet_name=\"summary\",\n",
    "                                header=2).iloc[:,[8,10,12,14]]\n",
    "channel_mapping.head(5)"
   ]
  },
  {
   "cell_type": "markdown",
   "metadata": {},
   "source": [
    "### importing the rat"
   ]
  },
  {
   "cell_type": "code",
   "execution_count": 4,
   "metadata": {},
   "outputs": [
    {
     "name": "stdout",
     "output_type": "stream",
     "text": [
      "Reading DRGS_10_241125_150417...\n",
      "Error reading stream 2 for DRGS_10_241125_150417. continuing...\n",
      "Reading DRGS_11_241125_151101...\n",
      "Error reading stream 2 for DRGS_11_241125_151101. continuing...\n",
      "Reading DRGS_12_241125_151746...\n",
      "Error reading stream 2 for DRGS_12_241125_151746. continuing...\n",
      "Reading DRGS_1_241125_134024...\n",
      "Error reading stream 2 for DRGS_1_241125_134024. continuing...\n",
      "Reading DRGS_2_241125_140406...\n",
      "Error reading stream 2 for DRGS_2_241125_140406. continuing...\n",
      "Reading DRGS_3_241125_141057...\n",
      "Error reading stream 2 for DRGS_3_241125_141057. continuing...\n",
      "Reading DRGS_4_241125_141635...\n",
      "Error reading stream 2 for DRGS_4_241125_141635. continuing...\n",
      "Reading DRGS_5_241125_142348...\n",
      "Error reading stream 2 for DRGS_5_241125_142348. continuing...\n",
      "Reading DRGS_6_241125_143021...\n",
      "Error reading stream 2 for DRGS_6_241125_143021. continuing...\n",
      "Reading DRGS_7_241125_143654...\n",
      "Error reading stream 2 for DRGS_7_241125_143654. continuing...\n",
      "Reading DRGS_8_241125_144608...\n",
      "Error reading stream 2 for DRGS_8_241125_144608. continuing...\n",
      "Reading DRGS_9_241125_145318...\n",
      "Error reading stream 2 for DRGS_9_241125_145318. continuing...\n",
      "Reading VF_10_241125_162725...\n",
      "Error reading stream 2 for VF_10_241125_162725. continuing...\n",
      "Reading VF_1_241125_153746...\n",
      "Error reading stream 2 for VF_1_241125_153746. continuing...\n",
      "Reading VF_2_241125_154307...\n",
      "Error reading stream 2 for VF_2_241125_154307. continuing...\n",
      "Reading VF_3_241125_154841...\n",
      "Error reading stream 2 for VF_3_241125_154841. continuing...\n",
      "Reading VF_4_241125_155417...\n",
      "Error reading stream 2 for VF_4_241125_155417. continuing...\n",
      "Reading VF_5_241125_155941...\n",
      "Error reading stream 2 for VF_5_241125_155941. continuing...\n",
      "Reading VF_6_241125_160515...\n",
      "Error reading stream 2 for VF_6_241125_160515. continuing...\n",
      "Reading VF_7_241125_161126...\n",
      "Error reading stream 2 for VF_7_241125_161126. continuing...\n",
      "Reading VF_8_241125_161626...\n",
      "Error reading stream 2 for VF_8_241125_161626. continuing...\n",
      "Reading VF_9_241125_162141...\n",
      "Error reading stream 2 for VF_9_241125_162141. continuing...\n"
     ]
    }
   ],
   "source": [
    "Rat = RM1.Rat(DATA_DIRECTORY, PROBE_DIRECTORY, \"DW327\")"
   ]
  },
  {
   "cell_type": "code",
   "execution_count": 5,
   "metadata": {},
   "outputs": [],
   "source": [
    "# for example, pulling the amp data from the 7th DRGS trial (only works for DW333)\n",
    "# DW322.mat_files_dict[\"VF_DRG__145435\"][\"AM\"][\"amp\"][0, 0][0, 0]"
   ]
  },
  {
   "cell_type": "code",
   "execution_count": 6,
   "metadata": {},
   "outputs": [
    {
     "data": {
      "text/plain": [
       "'d1 tl, d2 am sync, a1 am monitor,a2 evf'"
      ]
     },
     "execution_count": 6,
     "metadata": {},
     "output_type": "execute_result"
    }
   ],
   "source": [
    "Rat.qst_experiment_notes"
   ]
  },
  {
   "cell_type": "code",
   "execution_count": 7,
   "metadata": {},
   "outputs": [
    {
     "data": {
      "text/html": [
       "<div>\n",
       "<style scoped>\n",
       "    .dataframe tbody tr th:only-of-type {\n",
       "        vertical-align: middle;\n",
       "    }\n",
       "\n",
       "    .dataframe tbody tr th {\n",
       "        vertical-align: top;\n",
       "    }\n",
       "\n",
       "    .dataframe thead th {\n",
       "        text-align: right;\n",
       "    }\n",
       "</style>\n",
       "<table border=\"1\" class=\"dataframe\">\n",
       "  <thead>\n",
       "    <tr style=\"text-align: right;\">\n",
       "      <th>5</th>\n",
       "      <th>Trial Number</th>\n",
       "      <th>Condition</th>\n",
       "      <th>amp (uA)</th>\n",
       "      <th>PW (us)</th>\n",
       "      <th>Freq. (Hz)</th>\n",
       "      <th>Dur. (s)</th>\n",
       "      <th>Stimuli</th>\n",
       "      <th>Stage</th>\n",
       "      <th>Stimuli Dur.</th>\n",
       "      <th>rcrtrange</th>\n",
       "      <th>waitime</th>\n",
       "      <th>NaN</th>\n",
       "    </tr>\n",
       "    <tr>\n",
       "      <th>Trial Number</th>\n",
       "      <th></th>\n",
       "      <th></th>\n",
       "      <th></th>\n",
       "      <th></th>\n",
       "      <th></th>\n",
       "      <th></th>\n",
       "      <th></th>\n",
       "      <th></th>\n",
       "      <th></th>\n",
       "      <th></th>\n",
       "      <th></th>\n",
       "      <th></th>\n",
       "    </tr>\n",
       "  </thead>\n",
       "  <tbody>\n",
       "    <tr>\n",
       "      <th>1</th>\n",
       "      <td>1</td>\n",
       "      <td>DRGS</td>\n",
       "      <td>63</td>\n",
       "      <td>300</td>\n",
       "      <td>5</td>\n",
       "      <td>180</td>\n",
       "      <td>pp</td>\n",
       "      <td>NaN</td>\n",
       "      <td>NaN</td>\n",
       "      <td>61,67</td>\n",
       "      <td>30</td>\n",
       "      <td>named stv1testconfirm_11?</td>\n",
       "    </tr>\n",
       "    <tr>\n",
       "      <th>2</th>\n",
       "      <td>2</td>\n",
       "      <td>NaN</td>\n",
       "      <td>63</td>\n",
       "      <td>300</td>\n",
       "      <td>20</td>\n",
       "      <td>180</td>\n",
       "      <td>pp</td>\n",
       "      <td>NaN</td>\n",
       "      <td>NaN</td>\n",
       "      <td>61,67</td>\n",
       "      <td>30</td>\n",
       "      <td>NaN</td>\n",
       "    </tr>\n",
       "    <tr>\n",
       "      <th>3</th>\n",
       "      <td>3</td>\n",
       "      <td>NaN</td>\n",
       "      <td>63</td>\n",
       "      <td>300</td>\n",
       "      <td>100</td>\n",
       "      <td>180</td>\n",
       "      <td>pp</td>\n",
       "      <td>NaN</td>\n",
       "      <td>NaN</td>\n",
       "      <td>61,67</td>\n",
       "      <td>30</td>\n",
       "      <td>NaN</td>\n",
       "    </tr>\n",
       "    <tr>\n",
       "      <th>4</th>\n",
       "      <td>4</td>\n",
       "      <td>NaN</td>\n",
       "      <td>63</td>\n",
       "      <td>300</td>\n",
       "      <td>100</td>\n",
       "      <td>180</td>\n",
       "      <td>pp</td>\n",
       "      <td>NaN</td>\n",
       "      <td>NaN</td>\n",
       "      <td>61,67</td>\n",
       "      <td>30</td>\n",
       "      <td>NaN</td>\n",
       "    </tr>\n",
       "    <tr>\n",
       "      <th>5</th>\n",
       "      <td>5</td>\n",
       "      <td>NaN</td>\n",
       "      <td>63</td>\n",
       "      <td>300</td>\n",
       "      <td>5</td>\n",
       "      <td>180</td>\n",
       "      <td>pp</td>\n",
       "      <td>NaN</td>\n",
       "      <td>NaN</td>\n",
       "      <td>61,67</td>\n",
       "      <td>30</td>\n",
       "      <td>NaN</td>\n",
       "    </tr>\n",
       "  </tbody>\n",
       "</table>\n",
       "</div>"
      ],
      "text/plain": [
       "5            Trial Number Condition amp (uA) PW (us) Freq. (Hz) Dur. (s)  \\\n",
       "Trial Number                                                               \n",
       "1                       1      DRGS       63     300          5      180   \n",
       "2                       2       NaN       63     300         20      180   \n",
       "3                       3       NaN       63     300        100      180   \n",
       "4                       4       NaN       63     300        100      180   \n",
       "5                       5       NaN       63     300          5      180   \n",
       "\n",
       "5            Stimuli Stage Stimuli Dur.  rcrtrange waitime  \\\n",
       "Trial Number                                                 \n",
       "1                 pp   NaN           NaN     61,67      30   \n",
       "2                 pp   NaN           NaN     61,67      30   \n",
       "3                 pp   NaN           NaN     61,67      30   \n",
       "4                 pp   NaN           NaN     61,67      30   \n",
       "5                 pp   NaN           NaN     61,67      30   \n",
       "\n",
       "5                                   NaN  \n",
       "Trial Number                             \n",
       "1             named stv1testconfirm_11?  \n",
       "2                                   NaN  \n",
       "3                                   NaN  \n",
       "4                                   NaN  \n",
       "5                                   NaN  "
      ]
     },
     "execution_count": 7,
     "metadata": {},
     "output_type": "execute_result"
    }
   ],
   "source": [
    "Rat.drgs_trial_notes.head()"
   ]
  },
  {
   "cell_type": "code",
   "execution_count": 8,
   "metadata": {},
   "outputs": [
    {
     "data": {
      "text/plain": [
       "{'DRGS_10_241125_150417': ChannelSliceRecording: 32 channels - 30.0kHz - 1 segments - 8,416,000 samples \n",
       "                        280.53s (4.68 minutes) - uint16 dtype - 513.67 MiB,\n",
       " 'DRGS_11_241125_151101': ChannelSliceRecording: 32 channels - 30.0kHz - 1 segments - 8,508,160 samples \n",
       "                        283.61s (4.73 minutes) - uint16 dtype - 519.30 MiB,\n",
       " 'DRGS_12_241125_151746': ChannelSliceRecording: 32 channels - 30.0kHz - 1 segments - 8,509,184 samples \n",
       "                        283.64s (4.73 minutes) - uint16 dtype - 519.36 MiB,\n",
       " 'DRGS_1_241125_134024': ChannelSliceRecording: 32 channels - 30.0kHz - 1 segments - 2,837,248 samples \n",
       "                        94.57s (1.58 minutes) - uint16 dtype - 173.17 MiB,\n",
       " 'DRGS_2_241125_140406': ChannelSliceRecording: 32 channels - 30.0kHz - 1 segments - 7,607,040 samples \n",
       "                        253.57s (4.23 minutes) - uint16 dtype - 464.30 MiB,\n",
       " 'DRGS_3_241125_141057': ChannelSliceRecording: 32 channels - 30.0kHz - 1 segments - 7,706,368 samples \n",
       "                        256.88s (4.28 minutes) - uint16 dtype - 470.36 MiB,\n",
       " 'DRGS_4_241125_141635': ChannelSliceRecording: 32 channels - 30.0kHz - 1 segments - 7,704,320 samples \n",
       "                        256.81s (4.28 minutes) - uint16 dtype - 470.23 MiB,\n",
       " 'DRGS_5_241125_142348': ChannelSliceRecording: 32 channels - 30.0kHz - 1 segments - 7,607,040 samples \n",
       "                        253.57s (4.23 minutes) - uint16 dtype - 464.30 MiB,\n",
       " 'DRGS_6_241125_143021': ChannelSliceRecording: 32 channels - 30.0kHz - 1 segments - 7,515,904 samples \n",
       "                        250.53s (4.18 minutes) - uint16 dtype - 458.73 MiB,\n",
       " 'DRGS_7_241125_143654': ChannelSliceRecording: 32 channels - 30.0kHz - 1 segments - 8,512,256 samples \n",
       "                        283.74s (4.73 minutes) - uint16 dtype - 519.55 MiB,\n",
       " 'DRGS_8_241125_144608': ChannelSliceRecording: 32 channels - 30.0kHz - 1 segments - 8,509,184 samples \n",
       "                        283.64s (4.73 minutes) - uint16 dtype - 519.36 MiB,\n",
       " 'DRGS_9_241125_145318': ChannelSliceRecording: 32 channels - 30.0kHz - 1 segments - 8,417,024 samples \n",
       "                        280.57s (4.68 minutes) - uint16 dtype - 513.73 MiB,\n",
       " 'VF_10_241125_162725': ChannelSliceRecording: 32 channels - 30.0kHz - 1 segments - 7,400,192 samples \n",
       "                        246.67s (4.11 minutes) - uint16 dtype - 451.67 MiB,\n",
       " 'VF_1_241125_153746': ChannelSliceRecording: 32 channels - 30.0kHz - 1 segments - 7,304,960 samples \n",
       "                        243.50s (4.06 minutes) - uint16 dtype - 445.86 MiB,\n",
       " 'VF_2_241125_154307': ChannelSliceRecording: 32 channels - 30.0kHz - 1 segments - 7,309,056 samples \n",
       "                        243.64s (4.06 minutes) - uint16 dtype - 446.11 MiB,\n",
       " 'VF_3_241125_154841': ChannelSliceRecording: 32 channels - 30.0kHz - 1 segments - 7,307,008 samples \n",
       "                        243.57s (4.06 minutes) - uint16 dtype - 445.98 MiB,\n",
       " 'VF_4_241125_155417': ChannelSliceRecording: 32 channels - 30.0kHz - 1 segments - 7,304,960 samples \n",
       "                        243.50s (4.06 minutes) - uint16 dtype - 445.86 MiB,\n",
       " 'VF_5_241125_155941': ChannelSliceRecording: 32 channels - 30.0kHz - 1 segments - 7,304,960 samples \n",
       "                        243.50s (4.06 minutes) - uint16 dtype - 445.86 MiB,\n",
       " 'VF_6_241125_160515': ChannelSliceRecording: 32 channels - 30.0kHz - 1 segments - 7,308,032 samples \n",
       "                        243.60s (4.06 minutes) - uint16 dtype - 446.05 MiB,\n",
       " 'VF_7_241125_161126': ChannelSliceRecording: 32 channels - 30.0kHz - 1 segments - 7,304,960 samples \n",
       "                        243.50s (4.06 minutes) - uint16 dtype - 445.86 MiB,\n",
       " 'VF_8_241125_161626': ChannelSliceRecording: 32 channels - 30.0kHz - 1 segments - 7,308,032 samples \n",
       "                        243.60s (4.06 minutes) - uint16 dtype - 446.05 MiB,\n",
       " 'VF_9_241125_162141': ChannelSliceRecording: 32 channels - 30.0kHz - 1 segments - 7,399,168 samples \n",
       "                        246.64s (4.11 minutes) - uint16 dtype - 451.61 MiB}"
      ]
     },
     "execution_count": 8,
     "metadata": {},
     "output_type": "execute_result"
    }
   ],
   "source": [
    "Rat.get_sc_data()\n",
    "Rat.sc_data"
   ]
  },
  {
   "cell_type": "markdown",
   "metadata": {},
   "source": [
    "### process data for import into Kilosort\n",
    "\n",
    "I will use a combination of `SpikeInterface` & `Kilosort.io.extractors` to get the data I need"
   ]
  },
  {
   "cell_type": "code",
   "execution_count": 9,
   "metadata": {},
   "outputs": [
    {
     "name": "stdout",
     "output_type": "stream",
     "text": [
      "running kilosort wrapper for rat DW327\n"
     ]
    }
   ],
   "source": [
    "analysis = kilosort_wrapper(Rat, SAVE_DIRECTORY)"
   ]
  },
  {
   "cell_type": "markdown",
   "metadata": {},
   "source": [
    "can I just make new indices in the dictionary, and only save those values? that's pretty cool!"
   ]
  },
  {
   "cell_type": "code",
   "execution_count": null,
   "metadata": {},
   "outputs": [],
   "source": [
    "# analysis.save_spinalcord_data_to_binary(TRIAL_NAMES=[\"VF_8_241125_161626\",\n",
    "#                                                      ])\n",
    "analysis.save_spinalcord_data_to_binary()\n",
    "analysis.run_kilosort_trial_summary()"
   ]
  }
 ],
 "metadata": {
  "kernelspec": {
   "display_name": "kilosort",
   "language": "python",
   "name": "python3"
  },
  "language_info": {
   "codemirror_mode": {
    "name": "ipython",
    "version": 3
   },
   "file_extension": ".py",
   "mimetype": "text/x-python",
   "name": "python",
   "nbconvert_exporter": "python",
   "pygments_lexer": "ipython3",
   "version": "3.9.20"
  }
 },
 "nbformat": 4,
 "nbformat_minor": 2
}
