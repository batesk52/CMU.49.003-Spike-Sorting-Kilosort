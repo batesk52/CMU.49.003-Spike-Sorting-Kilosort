{
 "cells": [
  {
   "cell_type": "markdown",
   "metadata": {},
   "source": [
    "<!-- Notebook Header Start -->\n",
    "\n",
    "<h1 align=\"center\">Changes to Noxious Stimuli by means of Dorsal Root Ganglion Stimulation</h1>\n",
    "\n",
    "<p align=\"center\">\n",
    "  <strong>Author:</strong> Karl Bates<br>\n",
    "  <strong>Date:</strong> 2024-12-06<br>\n",
    "  <strong>Affiliation:</strong> Carnegie Mellon University, Cohen-Karni Lab  || Neuromechatronics Lab\n",
    "</p>\n",
    "\n",
    "---\n",
    "\n",
    "\n",
    "## 📊 Notebook Outline\n",
    "\n",
    "* **Importing libraries & data**\n",
    "* **Preprocess neurophysiology recordings for spike sorting**\n",
    "* **Package preprocessed data for spike sorting using Kilosort4**\n",
    "* **Run Kilosort to extract spike activity**\n",
    "* **Calculate average firing rate of each cluster during noxious stimuli**\n",
    "* **Compare the firing rates of clusters before and after noxious stimuli**\n",
    "\n",
    "## 📚 References & Additional Resources\n",
    "\n",
    "- [Kilosort4 docs](https://github.com/MouseLand/Kilosort/tree/main)\n",
    "- [SpikeInterface docs](https://github.com/SpikeInterface)\n",
    "\n",
    "---\n",
    "\n",
    "<!-- Notebook Header End -->\n"
   ]
  },
  {
   "cell_type": "markdown",
   "metadata": {},
   "source": [
    "# ➡ Importing Libraries & Data\n",
    "---"
   ]
  },
  {
   "cell_type": "code",
   "execution_count": 1,
   "metadata": {},
   "outputs": [],
   "source": [
    "# standard imports\n",
    "from pathlib import Path\n",
    "import os\n",
    "from kilosort import io\n",
    "import numpy as np\n",
    "import matplotlib.pyplot as plt\n",
    "import pandas as pd\n",
    "\n",
    "# custom importss\n",
    "from automations import RM1\n",
    "from automations import SpikeInterface_wrapper\n",
    "from automations import Kilosort_wrapper\n",
    "from automations import plots\n",
    "from automations import analysis_functions"
   ]
  },
  {
   "cell_type": "markdown",
   "metadata": {},
   "source": [
    "### probe definition\n",
    "\n",
    "Using the spreadsheet, `Adapter_pinout.xlsx`, the contact ID's can be traced to the \"device channel\", and we can assign them on the probe. \n",
    "\n",
    "In this case, our channel indices correspond to the aux inputs to the intan headstage.\n",
    "\n",
    "refer to the notebook, `RM1_pipeline.ipynb` within  the `dev_notebook` folder"
   ]
  },
  {
   "cell_type": "code",
   "execution_count": 2,
   "metadata": {},
   "outputs": [],
   "source": [
    "PROBE_DIRECTORY = Path(r'D:\\Data\\CMU.80 Data\\88 Analyzed Data\\88.001 A1x32-Edge-5mm-20-177-A32\\A1x32-Edge-5mm-20-177-A32.prb')"
   ]
  },
  {
   "cell_type": "markdown",
   "metadata": {},
   "source": [
    "### filepath definitions"
   ]
  },
  {
   "cell_type": "code",
   "execution_count": 3,
   "metadata": {},
   "outputs": [],
   "source": [
    "# NOTE Specify the path where the data will be copied to, and where Kilosort4 results will be saved.\n",
    "# in this case, the data is saved in a folder with multiple rats\n",
    "DATA_DIRECTORY = Path(fr'D:\\Data\\CMU.80 Data\\82 External Data\\82.002 Sample Rat Data from RM1 Project')  \n",
    "# Create path if it doesn't exist\n",
    "DATA_DIRECTORY.mkdir(parents=True, exist_ok=True)\n",
    "\n",
    "# NOTE Specify the path where the data will be copied to, and where Kilosort4 results will be saved.\n",
    "# save data to the inbox; make sure that the folders: binary & figures exist\n",
    "SAVE_DIRECTORY_DW322 = Path(fr'D:\\Data\\CMU.80 Data\\88 Analyzed Data\\88.006 Von Vrey Analysis\\DW322')\n",
    "SAVE_DIRECTORY_DW323 = Path(fr'D:\\Data\\CMU.80 Data\\88 Analyzed Data\\88.006 Von Vrey Analysis\\DW323') \n",
    "SAVE_DIRECTORY_DW327 = Path(fr'D:\\Data\\CMU.80 Data\\88 Analyzed Data\\88.006 Von Vrey Analysis\\DW327')\n",
    "SAVE_DIRECTORY_DW333 = Path(fr'D:\\Data\\CMU.80 Data\\88 Analyzed Data\\88.007 DRG Spikes during Von Frey')\n",
    "# Create paths if they don't exist\n",
    "SAVE_DIRECTORY_DW322.mkdir(parents=True, exist_ok=True)\n",
    "SAVE_DIRECTORY_DW323.mkdir(parents=True, exist_ok=True)\n",
    "SAVE_DIRECTORY_DW327.mkdir(parents=True, exist_ok=True)\n",
    "SAVE_DIRECTORY_DW333.mkdir(parents=True, exist_ok=True)\n"
   ]
  },
  {
   "cell_type": "markdown",
   "metadata": {},
   "source": [
    "# 📈 Preprocess data using SpikeInterface\n",
    "\n",
    "This is used to determine which trial is most likely to produce good units in a spike sorting analysis\n",
    "\n",
    "---"
   ]
  },
  {
   "cell_type": "markdown",
   "metadata": {},
   "source": [
    "### 🐀 importing the rats"
   ]
  },
  {
   "cell_type": "code",
   "execution_count": 4,
   "metadata": {},
   "outputs": [
    {
     "name": "stdout",
     "output_type": "stream",
     "text": [
      "Reading DRGS_10_240918_140034...\n",
      "Error reading stream 2 for DRGS_10_240918_140034. continuing...\n",
      "Reading DRGS_11_240918_140803...\n",
      "Error reading stream 2 for DRGS_11_240918_140803. continuing...\n",
      "Reading DRGS_12_240918_141655...\n",
      "Error reading stream 2 for DRGS_12_240918_141655. continuing...\n",
      "Reading DRGS_1_240918_125448...\n",
      "Error reading stream 2 for DRGS_1_240918_125448. continuing...\n",
      "Reading DRGS_2_240918_130024...\n",
      "Error reading stream 2 for DRGS_2_240918_130024. continuing...\n",
      "Reading DRGS_3_240918_130835...\n",
      "Error reading stream 2 for DRGS_3_240918_130835. continuing...\n",
      "Reading DRGS_4_240918_131552...\n",
      "Error reading stream 2 for DRGS_4_240918_131552. continuing...\n",
      "Reading DRGS_5_240918_132233...\n",
      "Error reading stream 2 for DRGS_5_240918_132233. continuing...\n",
      "Reading DRGS_6_240918_132920...\n",
      "Error reading stream 2 for DRGS_6_240918_132920. continuing...\n",
      "Reading DRGS_7_240918_133719...\n",
      "Error reading stream 2 for DRGS_7_240918_133719. continuing...\n",
      "Reading DRGS_8_240918_134529...\n",
      "Error reading stream 2 for DRGS_8_240918_134529. continuing...\n",
      "Reading DRGS_9_240918_135255...\n",
      "Error reading stream 2 for DRGS_9_240918_135255. continuing...\n",
      "Reading VF_1_240918_143256...\n",
      "Error reading stream 2 for VF_1_240918_143256. continuing...\n",
      "Reading VF_2_240918_143936...\n",
      "Error reading stream 2 for VF_2_240918_143936. continuing...\n",
      "Reading VF_3_240918_144658...\n",
      "Error reading stream 2 for VF_3_240918_144658. continuing...\n",
      "Reading VF_4_240918_145638...\n",
      "Error reading stream 2 for VF_4_240918_145638. continuing...\n",
      "Reading VF_5_240918_150137...\n",
      "Error reading stream 2 for VF_5_240918_150137. continuing...\n",
      "Reading VF_6_240918_150811...\n",
      "Error reading stream 2 for VF_6_240918_150811. continuing...\n",
      "Reading VF_7_240918_151516...\n",
      "Error reading stream 2 for VF_7_240918_151516. continuing...\n",
      "Reading VF_8_240918_152056...\n",
      "Error reading stream 2 for VF_8_240918_152056. continuing...\n",
      "Reading VF_9_240918_152753...\n",
      "Error reading stream 2 for VF_9_240918_152753. continuing...\n",
      "Reading DRGS_10_240911_155921...\n",
      "Error reading stream 2 for DRGS_10_240911_155921. continuing...\n",
      "Reading DRGS_11_240911_160638...\n",
      "Error reading stream 2 for DRGS_11_240911_160638. continuing...\n",
      "Reading DRGS_1_240911_144910...\n",
      "Error reading stream 2 for DRGS_1_240911_144910. continuing...\n",
      "Reading DRGS_2_240911_145808...\n",
      "Error reading stream 2 for DRGS_2_240911_145808. continuing...\n",
      "Reading DRGS_3_240911_150506...\n",
      "Error reading stream 2 for DRGS_3_240911_150506. continuing...\n",
      "Reading DRGS_4_240911_151137...\n",
      "Error reading stream 2 for DRGS_4_240911_151137. continuing...\n",
      "Reading DRGS_5_240911_151925...\n",
      "Error reading stream 2 for DRGS_5_240911_151925. continuing...\n",
      "Reading DRGS_6_240911_152522...\n",
      "Error reading stream 2 for DRGS_6_240911_152522. continuing...\n",
      "Reading DRGS_7_240911_153255...\n",
      "Error reading stream 2 for DRGS_7_240911_153255. continuing...\n",
      "Reading DRGS_8_240911_154319...\n",
      "Error reading stream 2 for DRGS_8_240911_154319. continuing...\n",
      "Reading DRGS_9_240911_155057...\n",
      "Error reading stream 2 for DRGS_9_240911_155057. continuing...\n",
      "Reading nninsertion_240911_130746...\n",
      "Error reading stream 2 for nninsertion_240911_130746. continuing...\n",
      "Reading nn_seond_insertion_240911_144433...\n",
      "Error reading stream 2 for nn_seond_insertion_240911_144433. continuing...\n",
      "Reading QST_2_240911_181341...\n",
      "Error reading stream 2 for QST_2_240911_181341. continuing...\n",
      "Reading VF_1_240911_164342...\n",
      "Error reading stream 2 for VF_1_240911_164342. continuing...\n",
      "Reading VF_2_240911_165039...\n",
      "Error reading stream 2 for VF_2_240911_165039. continuing...\n",
      "Reading VF_3_240911_165617...\n",
      "Error reading stream 2 for VF_3_240911_165617. continuing...\n",
      "Reading VF_4_240911_170446...\n",
      "Error reading stream 2 for VF_4_240911_170446. continuing...\n",
      "Reading VF_5_240911_171014...\n",
      "Error reading stream 2 for VF_5_240911_171014. continuing...\n",
      "Reading VF_6_240911_171505...\n",
      "Error reading stream 2 for VF_6_240911_171505. continuing...\n",
      "Reading VF_7_240911_180931...\n",
      "Error reading stream 2 for VF_7_240911_180931. continuing...\n",
      "Reading DRGS_10_241125_150417...\n",
      "Error reading stream 2 for DRGS_10_241125_150417. continuing...\n",
      "Reading DRGS_11_241125_151101...\n",
      "Error reading stream 2 for DRGS_11_241125_151101. continuing...\n",
      "Reading DRGS_12_241125_151746...\n",
      "Error reading stream 2 for DRGS_12_241125_151746. continuing...\n",
      "Reading DRGS_1_241125_134024...\n",
      "Error reading stream 2 for DRGS_1_241125_134024. continuing...\n",
      "Reading DRGS_2_241125_140406...\n",
      "Error reading stream 2 for DRGS_2_241125_140406. continuing...\n",
      "Reading DRGS_3_241125_141057...\n",
      "Error reading stream 2 for DRGS_3_241125_141057. continuing...\n",
      "Reading DRGS_4_241125_141635...\n",
      "Error reading stream 2 for DRGS_4_241125_141635. continuing...\n",
      "Reading DRGS_5_241125_142348...\n",
      "Error reading stream 2 for DRGS_5_241125_142348. continuing...\n",
      "Reading DRGS_6_241125_143021...\n",
      "Error reading stream 2 for DRGS_6_241125_143021. continuing...\n",
      "Reading DRGS_7_241125_143654...\n",
      "Error reading stream 2 for DRGS_7_241125_143654. continuing...\n",
      "Reading DRGS_8_241125_144608...\n",
      "Error reading stream 2 for DRGS_8_241125_144608. continuing...\n",
      "Reading DRGS_9_241125_145318...\n",
      "Error reading stream 2 for DRGS_9_241125_145318. continuing...\n",
      "Reading VF_10_241125_162725...\n",
      "Error reading stream 2 for VF_10_241125_162725. continuing...\n",
      "Reading VF_1_241125_153746...\n",
      "Error reading stream 2 for VF_1_241125_153746. continuing...\n",
      "Reading VF_2_241125_154307...\n",
      "Error reading stream 2 for VF_2_241125_154307. continuing...\n",
      "Reading VF_3_241125_154841...\n",
      "Error reading stream 2 for VF_3_241125_154841. continuing...\n",
      "Reading VF_4_241125_155417...\n",
      "Error reading stream 2 for VF_4_241125_155417. continuing...\n",
      "Reading VF_5_241125_155941...\n",
      "Error reading stream 2 for VF_5_241125_155941. continuing...\n",
      "Reading VF_6_241125_160515...\n",
      "Error reading stream 2 for VF_6_241125_160515. continuing...\n",
      "Reading VF_7_241125_161126...\n",
      "Error reading stream 2 for VF_7_241125_161126. continuing...\n",
      "Reading VF_8_241125_161626...\n",
      "Error reading stream 2 for VF_8_241125_161626. continuing...\n",
      "Reading VF_9_241125_162141...\n",
      "Error reading stream 2 for VF_9_241125_162141. continuing...\n",
      "Reading qsttest_1_241115_150618...\n",
      "Error reading stream 2 for qsttest_1_241115_150618. continuing...\n",
      "Reading qsttest_1_241115_151239...\n",
      "Error reading stream 2 for qsttest_1_241115_151239. continuing...\n",
      "Reading qsttest_1_241115_151523...\n",
      "Error reading stream 2 for qsttest_1_241115_151523. continuing...\n",
      "Reading qst_1_241115_152031...\n",
      "Error reading stream 2 for qst_1_241115_152031. continuing...\n",
      "Reading qst_1_241115_152346...\n",
      "Error reading stream 2 for qst_1_241115_152346. continuing...\n",
      "Reading qst_1_241115_152800...\n",
      "Error reading stream 2 for qst_1_241115_152800. continuing...\n",
      "Reading VF_DRG_1_241115_145120...\n",
      "Error reading stream 2 for VF_DRG_1_241115_145120. continuing...\n",
      "Reading VF_DRG_1_241115_145435...\n",
      "Error reading stream 2 for VF_DRG_1_241115_145435. continuing...\n",
      "Reading VF_DRG_1_241115_145739...\n",
      "Error reading stream 2 for VF_DRG_1_241115_145739. continuing...\n",
      "Reading VF_DRG_4_241115_153512...\n",
      "Error reading stream 2 for VF_DRG_4_241115_153512. continuing...\n",
      "Reading VF_DRG_4_241115_170440...\n",
      "Error reading stream 2 for VF_DRG_4_241115_170440. continuing...\n"
     ]
    }
   ],
   "source": [
    "DW322 = RM1.Rat(DATA_DIRECTORY, PROBE_DIRECTORY, \"DW322\")\n",
    "DW323 = RM1.Rat(DATA_DIRECTORY, PROBE_DIRECTORY, \"DW323\")\n",
    "DW327 = RM1.Rat(DATA_DIRECTORY, PROBE_DIRECTORY, \"DW327\")\n",
    "DW333 = RM1.Rat(DATA_DIRECTORY, PROBE_DIRECTORY, \"DW333\")"
   ]
  },
  {
   "cell_type": "markdown",
   "metadata": {},
   "source": [
    "preprocess"
   ]
  },
  {
   "cell_type": "code",
   "execution_count": 5,
   "metadata": {},
   "outputs": [
    {
     "name": "stdout",
     "output_type": "stream",
     "text": [
      "Error processing nn_seond_insertion_240911_144433: 'end_frame' must be fewer than number of samples in parent: 809728\n",
      "Error processing nn_seond_insertion_240911_144433: 'end_frame' must be fewer than number of samples in parent: 809728\n"
     ]
    }
   ],
   "source": [
    "DW322.get_sc_data()\n",
    "DW322.get_analog_data()\n",
    "DW322.remove_drg_stim_window_sc()\n",
    "DW322.remove_drg_stim_window_analog()\n",
    "\n",
    "DW323.get_sc_data()\n",
    "DW323.get_analog_data()\n",
    "DW323.remove_drg_stim_window_sc()\n",
    "DW323.remove_drg_stim_window_analog()\n",
    "\n",
    "DW327.get_sc_data()\n",
    "DW327.get_analog_data()\n",
    "DW327.remove_drg_stim_window_sc()\n",
    "DW327.remove_drg_stim_window_analog()"
   ]
  },
  {
   "cell_type": "markdown",
   "metadata": {},
   "source": [
    "export to binary"
   ]
  },
  {
   "cell_type": "markdown",
   "metadata": {},
   "source": [
    "DW322"
   ]
  },
  {
   "cell_type": "code",
   "execution_count": 6,
   "metadata": {},
   "outputs": [
    {
     "name": "stdout",
     "output_type": "stream",
     "text": [
      "Preparing SpikeInterface wrapper for rat DW322\n"
     ]
    }
   ],
   "source": [
    "signals_DW322 = SpikeInterface_wrapper(DW322, SAVE_DIRECTORY_DW322)\n",
    "# trials = [\"VF_1_240918_143256\",\n",
    "#           \"VF_2_240918_143936\",\n",
    "#           \"VF_3_240918_144658\",\n",
    "#           \"VF_4_240918_145638\",\n",
    "#           \"VF_5_240918_150137\",\n",
    "#           \"VF_6_240918_150811\",\n",
    "#           \"VF_7_240918_151516\",\n",
    "#           \"VF_8_240918_152056\",\n",
    "#           \"VF_9_240918_152753\"]\n",
    "# signals_DW322.save_spinalcord_data_to_binary(TRIAL_NAMES=trials)"
   ]
  },
  {
   "cell_type": "markdown",
   "metadata": {},
   "source": [
    "DW323"
   ]
  },
  {
   "cell_type": "code",
   "execution_count": 7,
   "metadata": {},
   "outputs": [
    {
     "name": "stdout",
     "output_type": "stream",
     "text": [
      "Preparing SpikeInterface wrapper for rat DW323\n"
     ]
    }
   ],
   "source": [
    "signals_DW323 = SpikeInterface_wrapper(DW323, SAVE_DIRECTORY_DW323)\n",
    "# trials = [\"VF_1_240911_164342\",\n",
    "#           \"VF_2_240911_165039\",\n",
    "#           \"VF_3_240911_165617\",\n",
    "#           \"VF_4_240911_170446\",\n",
    "#           \"VF_5_240911_171014\",\n",
    "#           \"VF_6_240911_171505\",\n",
    "#           \"VF_7_240911_180931\"]\n",
    "# signals_DW323.save_spinalcord_data_to_binary(TRIAL_NAMES=trials)"
   ]
  },
  {
   "cell_type": "markdown",
   "metadata": {},
   "source": [
    "DW327"
   ]
  },
  {
   "cell_type": "code",
   "execution_count": 8,
   "metadata": {},
   "outputs": [
    {
     "name": "stdout",
     "output_type": "stream",
     "text": [
      "Preparing SpikeInterface wrapper for rat DW327\n"
     ]
    }
   ],
   "source": [
    "signals_DW327 = SpikeInterface_wrapper(DW327, SAVE_DIRECTORY_DW327)\n",
    "# trials = [\"VF_1_241125_153746\",\n",
    "#           \"VF_2_241125_154307\",\n",
    "#           \"VF_3_241125_154841\",\n",
    "#           \"VF_4_241125_155417\",\n",
    "#           \"VF_5_241125_155941\",\n",
    "#           \"VF_6_241125_160515\",\n",
    "#           \"VF_7_241125_161126\",\n",
    "#           \"VF_8_241125_161626\",\n",
    "#           \"VF_9_241125_162141\",\n",
    "#           \"VF_10_241125_162725\"\n",
    "#         ]\n",
    "# signals_DW327.save_spinalcord_data_to_binary(TRIAL_NAMES=trials)"
   ]
  },
  {
   "cell_type": "code",
   "execution_count": 9,
   "metadata": {},
   "outputs": [
    {
     "name": "stdout",
     "output_type": "stream",
     "text": [
      "Preparing SpikeInterface wrapper for rat DW327\n"
     ]
    }
   ],
   "source": [
    "signals_DW333 = SpikeInterface_wrapper(DW327, SAVE_DIRECTORY_DW333)\n",
    "# signals_DW333.save_spinalcord_data_to_binary(TRIAL_NAMES=trials)"
   ]
  },
  {
   "cell_type": "markdown",
   "metadata": {},
   "source": [
    "# 🧠 Extract spikes with Kilosort4, import the results back into Python for analysis\n",
    "\n",
    "⚠ !!this section is commented out, since I already have this done!!\n",
    "\n",
    "---"
   ]
  },
  {
   "cell_type": "code",
   "execution_count": 10,
   "metadata": {},
   "outputs": [
    {
     "name": "stdout",
     "output_type": "stream",
     "text": [
      "Preparing Kilosort wrapper...\n",
      "Preparing Kilosort wrapper...\n",
      "Preparing Kilosort wrapper...\n",
      "Preparing Kilosort wrapper...\n"
     ]
    }
   ],
   "source": [
    "### DW322\n",
    "spikes_DW322 = Kilosort_wrapper(SAVE_DIRECTORY_DW322, PROBE_DIRECTORY)\n",
    "# # Run Kilosort and apply custom labels with custom criteria\n",
    "# spikes.run_kilosort_trial_summary(new_settings=\"vf_settings\",custom_criteria=my_custom_criteria)\n",
    "\n",
    "### DW323\n",
    "spikes_DW323 = Kilosort_wrapper(SAVE_DIRECTORY_DW323, PROBE_DIRECTORY)\n",
    "# # Run Kilosort and apply custom labels with your custom criteria\n",
    "# spikes.run_kilosort_trial_summary(new_settings=\"vf_settings\",custom_criteria=my_custom_criteria)\n",
    "\n",
    "### DW327\n",
    "spikes_DW237 = Kilosort_wrapper(SAVE_DIRECTORY_DW327, PROBE_DIRECTORY)\n",
    "# # Run Kilosort and apply custom labels with your custom criteria\n",
    "# spikes.run_kilosort_trial_summary(new_settings=\"vf_settings\",custom_criteria=my_custom_criteria)\n",
    "\n",
    "### DW333\n",
    "spikes_DW333 = Kilosort_wrapper(SAVE_DIRECTORY_DW333, PROBE_DIRECTORY)\n",
    "# # Run Kilosort and apply custom labels with your custom criteria\n",
    "# spikes.run_kilosort_trial_summary(new_settings=\"vf_settings\",custom_criteria=my_custom_criteria)"
   ]
  },
  {
   "cell_type": "markdown",
   "metadata": {},
   "source": [
    "extract results\n",
    "\n",
    "(again, I've already run kilosort so I can skip right to extracting the results)"
   ]
  },
  {
   "cell_type": "code",
   "execution_count": 11,
   "metadata": {},
   "outputs": [
    {
     "name": "stdout",
     "output_type": "stream",
     "text": [
      "Kilosort outputs successfully loaded for trial: qsttest_1_241115_150618\n",
      "Kilosort outputs successfully loaded for trial: qsttest_1_241115_151239\n",
      "Kilosort outputs successfully loaded for trial: qsttest_1_241115_151523\n",
      "Kilosort outputs successfully loaded for trial: qst_1_241115_152031\n",
      "Kilosort outputs successfully loaded for trial: qst_1_241115_152346\n",
      "Kilosort outputs successfully loaded for trial: qst_1_241115_152800\n",
      "Kilosort outputs successfully loaded for trial: VF_DRG_1_241115_145120\n",
      "Kilosort outputs successfully loaded for trial: VF_DRG_1_241115_145435\n",
      "Kilosort outputs successfully loaded for trial: VF_DRG_1_241115_145739\n",
      "Kilosort outputs successfully loaded for trial: VF_DRG_4_241115_153512\n",
      "Kilosort directory not found for trial: VF_DRG_4_241115_170440\n"
     ]
    }
   ],
   "source": [
    "# spikes_DW322.extract_kilosort_outputs()\n",
    "# spikes_DW323.extract_kilosort_outputs()\n",
    "# spikes_DW237.extract_kilosort_outputs()\n",
    "spikes_DW333.extract_kilosort_outputs()"
   ]
  },
  {
   "cell_type": "markdown",
   "metadata": {},
   "source": [
    "### exporting results to CSV"
   ]
  },
  {
   "cell_type": "code",
   "execution_count": 12,
   "metadata": {},
   "outputs": [
    {
     "name": "stdout",
     "output_type": "stream",
     "text": [
      "Spike data exported for trial qsttest_1_241115_150618 to D:\\Data\\CMU.80 Data\\88 Analyzed Data\\88.007 DRG Spikes during Von Frey\\tables\\qsttest_1_241115_150618_spikes.csv\n",
      "No analog data found for trial qsttest_1_241115_150618. No Von Frey data exported.\n",
      "Spike data exported for trial qsttest_1_241115_151239 to D:\\Data\\CMU.80 Data\\88 Analyzed Data\\88.007 DRG Spikes during Von Frey\\tables\\qsttest_1_241115_151239_spikes.csv\n",
      "No analog data found for trial qsttest_1_241115_151239. No Von Frey data exported.\n",
      "Spike data exported for trial qsttest_1_241115_151523 to D:\\Data\\CMU.80 Data\\88 Analyzed Data\\88.007 DRG Spikes during Von Frey\\tables\\qsttest_1_241115_151523_spikes.csv\n",
      "No analog data found for trial qsttest_1_241115_151523. No Von Frey data exported.\n",
      "Spike data exported for trial qst_1_241115_152031 to D:\\Data\\CMU.80 Data\\88 Analyzed Data\\88.007 DRG Spikes during Von Frey\\tables\\qst_1_241115_152031_spikes.csv\n",
      "No analog data found for trial qst_1_241115_152031. No Von Frey data exported.\n",
      "Spike data exported for trial qst_1_241115_152346 to D:\\Data\\CMU.80 Data\\88 Analyzed Data\\88.007 DRG Spikes during Von Frey\\tables\\qst_1_241115_152346_spikes.csv\n",
      "No analog data found for trial qst_1_241115_152346. No Von Frey data exported.\n",
      "Spike data exported for trial qst_1_241115_152800 to D:\\Data\\CMU.80 Data\\88 Analyzed Data\\88.007 DRG Spikes during Von Frey\\tables\\qst_1_241115_152800_spikes.csv\n",
      "No analog data found for trial qst_1_241115_152800. No Von Frey data exported.\n",
      "Spike data exported for trial VF_DRG_1_241115_145120 to D:\\Data\\CMU.80 Data\\88 Analyzed Data\\88.007 DRG Spikes during Von Frey\\tables\\VF_DRG_1_241115_145120_spikes.csv\n",
      "No analog data found for trial VF_DRG_1_241115_145120. No Von Frey data exported.\n",
      "Spike data exported for trial VF_DRG_1_241115_145435 to D:\\Data\\CMU.80 Data\\88 Analyzed Data\\88.007 DRG Spikes during Von Frey\\tables\\VF_DRG_1_241115_145435_spikes.csv\n",
      "No analog data found for trial VF_DRG_1_241115_145435. No Von Frey data exported.\n",
      "Spike data exported for trial VF_DRG_1_241115_145739 to D:\\Data\\CMU.80 Data\\88 Analyzed Data\\88.007 DRG Spikes during Von Frey\\tables\\VF_DRG_1_241115_145739_spikes.csv\n",
      "No analog data found for trial VF_DRG_1_241115_145739. No Von Frey data exported.\n",
      "Spike data exported for trial VF_DRG_4_241115_153512 to D:\\Data\\CMU.80 Data\\88 Analyzed Data\\88.007 DRG Spikes during Von Frey\\tables\\VF_DRG_4_241115_153512_spikes.csv\n",
      "No analog data found for trial VF_DRG_4_241115_153512. No Von Frey data exported.\n"
     ]
    }
   ],
   "source": [
    "# signals_DW322.export_raw_spikes_and_von_frey_all_trials(spikes_DW322)\n",
    "# signals_DW323.export_raw_spikes_and_von_frey_all_trials(spikes_DW323)\n",
    "# signals_DW327.export_raw_spikes_and_von_frey_all_trials(spikes_DW237)\n",
    "signals_DW333.export_raw_spikes_and_von_frey_all_trials(spikes_DW333)"
   ]
  }
 ],
 "metadata": {
  "kernelspec": {
   "display_name": "kilosort",
   "language": "python",
   "name": "python3"
  },
  "language_info": {
   "codemirror_mode": {
    "name": "ipython",
    "version": 3
   },
   "file_extension": ".py",
   "mimetype": "text/x-python",
   "name": "python",
   "nbconvert_exporter": "python",
   "pygments_lexer": "ipython3",
   "version": "3.9.20"
  }
 },
 "nbformat": 4,
 "nbformat_minor": 2
}
