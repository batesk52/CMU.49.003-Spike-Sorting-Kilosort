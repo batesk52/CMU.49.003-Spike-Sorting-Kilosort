{
 "cells": [
  {
   "cell_type": "markdown",
   "metadata": {},
   "source": [
    "<!-- Notebook Header Start -->\n",
    "\n",
    "<h1 align=\"center\">Spike Sorting</h1>\n",
    "\n",
    "<p align=\"center\">\n",
    "  <strong>Author:</strong> Karl Bates<br>\n",
    "  <strong>Date:</strong> 2024-10-30<br>\n",
    "  <strong>Affiliation:</strong> Carnegie Mellon University, Cohen-Karni Group  || Neuromechatronics Lab\n",
    "</p>\n",
    "\n",
    "---\n",
    "\n",
    "## 📜 Project Overview\n",
    "\n",
    "(to populate) \n",
    "\n",
    "- **Objective:** (to populate)\n",
    "- **Scope:** (to populate)\n",
    "- **Libraries:** `Python`, `Pandas`, `SciPy`\n",
    "\n",
    "---\n",
    "\n",
    "## 📊 Notebook Outline\n",
    "\n",
    "1. **Data Import & Preprocessing**\n",
    "\n",
    "\n",
    "---\n",
    "\n",
    "## 📚 References & Additional Resources\n",
    "\n",
    "- [Github: Kilosort4](https://github.com/MouseLand/Kilosort/tree/main)\n",
    "- [SpikeInterface](https://github.com/SpikeInterface)\n",
    "\n",
    "---\n",
    "\n",
    "<!-- Notebook Header End -->\n"
   ]
  },
  {
   "cell_type": "markdown",
   "metadata": {},
   "source": [
    "# Libraries"
   ]
  },
  {
   "cell_type": "code",
   "execution_count": null,
   "metadata": {},
   "outputs": [],
   "source": [
    "# Imports\n",
    "from pathlib import Path\n",
    "from tqdm import tqdm\n",
    "import numpy as np\n",
    "\n",
    "from probeinterface import write_prb\n",
    "# Download channel maps for default probes\n",
    "from kilosort.utils import download_probes\n",
    "download_probes()\n",
    "\n",
    "from spikeinterface.extractors import read_intan\n",
    "\n",
    "from kilosort import run_kilosort\n",
    "from kilosort import io"
   ]
  },
  {
   "cell_type": "markdown",
   "metadata": {},
   "source": [
    "# File Definitions"
   ]
  },
  {
   "cell_type": "code",
   "execution_count": 2,
   "metadata": {},
   "outputs": [],
   "source": [
    "# Parameters\n",
    "RAT_NAME = 'DW322'\n",
    "STIMULATION = 'DRGS_2_240918_130024'\n",
    "DATA_DIRECTORY = Path(fr'D:\\Data\\CMU.80 Data\\88 Analyzed Data\\88.001 Kilosort on DW322')  # NOTE Specify the path where the data will be copied to, and where Kilosort4 results will be saved.\n",
    "# Create path if it doesn't exist\n",
    "DATA_DIRECTORY.mkdir(parents=True, exist_ok=True)"
   ]
  },
  {
   "cell_type": "markdown",
   "metadata": {},
   "source": [
    "# Data Import"
   ]
  },
  {
   "cell_type": "markdown",
   "metadata": {},
   "source": [
    "### defining filepath for data"
   ]
  },
  {
   "cell_type": "code",
   "execution_count": 3,
   "metadata": {},
   "outputs": [],
   "source": [
    "# NOTE: You will need to select the appropriate data stream. If you run without\n",
    "#       specifying `stream_id`, you will get an error message explaining what\n",
    "#       each stream corresponds to.\n",
    "filepath = Path(f\"D:\\Data\\CMU.80 Data\\82 External Data\\82.002 Sample Rat Data from RM1 Project\\DW322\\{RAT_NAME}\\{STIMULATION}\\{STIMULATION}.rhd\")\n",
    "recording = read_intan(filepath, stream_id='0')"
   ]
  },
  {
   "cell_type": "markdown",
   "metadata": {},
   "source": [
    "no probe information is given with this data, so we will need to define it or assign one from the probe interface library.\n",
    "\n",
    "I will first show how to create the binary file using `Spike Interface` and numpy's `memmap()`"
   ]
  },
  {
   "cell_type": "markdown",
   "metadata": {},
   "source": [
    "## Import data and probe using `SpikeInterface`"
   ]
  },
  {
   "cell_type": "code",
   "execution_count": 4,
   "metadata": {},
   "outputs": [],
   "source": [
    "# NOTE: Data will be saved as np.int16 by default since that is the standard\n",
    "#       for ephys data. If you need a different data type for whatever reason\n",
    "#       such as `np.uint16`, be sure to update this.\n",
    "dtype = np.int16\n",
    "filename, N, c, s, fs, probe_path = io.spikeinterface_to_binary(\n",
    "    recording, DATA_DIRECTORY, data_name=f'{RAT_NAME}_{STIMULATION}_data.bin', dtype=dtype,\n",
    "    chunksize=60000, export_probe=True, probe_name='probe.prb'\n",
    "    )"
   ]
  },
  {
   "cell_type": "markdown",
   "metadata": {},
   "source": [
    "this code will complete, but because there is no probe associated with the data, I will need to define one later on"
   ]
  },
  {
   "cell_type": "markdown",
   "metadata": {},
   "source": [
    "## Import data and probe using `Numpy memmap`"
   ]
  },
  {
   "cell_type": "markdown",
   "metadata": {},
   "source": [
    "### defining ouput file and loading data into binary in chunks:"
   ]
  },
  {
   "cell_type": "code",
   "execution_count": 9,
   "metadata": {},
   "outputs": [
    {
     "name": "stdout",
     "output_type": "stream",
     "text": [
      "Data successfully saved to D:\\Data\\CMU.80 Data\\88 Analyzed Data\\88.001 Kilosort on DW322\\DW322_DRGS_2_240918_130024_data_memmap.bin\n"
     ]
    }
   ],
   "source": [
    "# Define output binary file\n",
    "output_file = DATA_DIRECTORY / f'{RAT_NAME}_{STIMULATION}_data_memmap.bin'\n",
    "\n",
    "# Get data shape\n",
    "num_channels = recording.get_num_channels()\n",
    "num_samples = recording.get_num_frames()\n",
    "\n",
    "# Create a memory-mapped file without using `with`\n",
    "data_dtype = np.int16  # This is typically the standard for electrophysiology data\n",
    "memmap_file = np.memmap(output_file, dtype=data_dtype, mode='w+', shape=(num_samples, num_channels))\n",
    "\n",
    "# Define the chunk size for processing (e.g., 60,000 samples at a time)\n",
    "chunk_size = 60000\n",
    "\n",
    "# Loop through the data and write to the binary file in chunks\n",
    "for start_idx in range(0, num_samples, chunk_size):\n",
    "    end_idx = min(start_idx + chunk_size, num_samples)\n",
    "    \n",
    "    # Extract data chunk from the RecordingExtractor\n",
    "    data_chunk = recording.get_traces(start_frame=start_idx, end_frame=end_idx)\n",
    "    \n",
    "    # Write the chunk to the memory-mapped file\n",
    "    memmap_file[start_idx:end_idx, :] = data_chunk.astype(data_dtype)\n",
    "\n",
    "# Explicitly flush changes to disk\n",
    "memmap_file.flush()\n",
    "\n",
    "print(f\"Data successfully saved to {output_file}\")\n"
   ]
  },
  {
   "cell_type": "markdown",
   "metadata": {},
   "source": [
    "### exporting probe data\n",
    "\n",
    "this will NOT run correctly, since there is no probe data"
   ]
  },
  {
   "cell_type": "code",
   "execution_count": null,
   "metadata": {},
   "outputs": [
    {
     "ename": "ValueError",
     "evalue": "There is no Probe attached to this recording. Use set_probe(...) to attach one.",
     "output_type": "error",
     "traceback": [
      "\u001b[1;31m---------------------------------------------------------------------------\u001b[0m",
      "\u001b[1;31mValueError\u001b[0m                                Traceback (most recent call last)",
      "Cell \u001b[1;32mIn[8], line 4\u001b[0m\n\u001b[0;32m      1\u001b[0m \u001b[38;5;28;01mfrom\u001b[39;00m \u001b[38;5;21;01mprobeinterface\u001b[39;00m \u001b[38;5;28;01mimport\u001b[39;00m write_prb\n\u001b[0;32m      3\u001b[0m \u001b[38;5;66;03m# Get the probe from the recording (if available)\u001b[39;00m\n\u001b[1;32m----> 4\u001b[0m probe \u001b[38;5;241m=\u001b[39m \u001b[43mrecording\u001b[49m\u001b[38;5;241;43m.\u001b[39;49m\u001b[43mget_probe\u001b[49m\u001b[43m(\u001b[49m\u001b[43m)\u001b[49m\n\u001b[0;32m      6\u001b[0m \u001b[38;5;66;03m# Define the path to save the probe configuration\u001b[39;00m\n\u001b[0;32m      7\u001b[0m probe_path \u001b[38;5;241m=\u001b[39m DATA_DIRECTORY \u001b[38;5;241m/\u001b[39m \u001b[38;5;124m'\u001b[39m\u001b[38;5;124mprobe.prb\u001b[39m\u001b[38;5;124m'\u001b[39m\n",
      "File \u001b[1;32mc:\\Users\\KarlJ\\anaconda3\\envs\\kilosort\\lib\\site-packages\\spikeinterface\\core\\baserecordingsnippets.py:254\u001b[0m, in \u001b[0;36mBaseRecordingSnippets.get_probe\u001b[1;34m(self)\u001b[0m\n\u001b[0;32m    253\u001b[0m \u001b[38;5;28;01mdef\u001b[39;00m \u001b[38;5;21mget_probe\u001b[39m(\u001b[38;5;28mself\u001b[39m):\n\u001b[1;32m--> 254\u001b[0m     probes \u001b[38;5;241m=\u001b[39m \u001b[38;5;28;43mself\u001b[39;49m\u001b[38;5;241;43m.\u001b[39;49m\u001b[43mget_probes\u001b[49m\u001b[43m(\u001b[49m\u001b[43m)\u001b[49m\n\u001b[0;32m    255\u001b[0m     \u001b[38;5;28;01massert\u001b[39;00m \u001b[38;5;28mlen\u001b[39m(probes) \u001b[38;5;241m==\u001b[39m \u001b[38;5;241m1\u001b[39m, \u001b[38;5;124m\"\u001b[39m\u001b[38;5;124mthere are several probe use .get_probes() or get_probegroup()\u001b[39m\u001b[38;5;124m\"\u001b[39m\n\u001b[0;32m    256\u001b[0m     \u001b[38;5;28;01mreturn\u001b[39;00m probes[\u001b[38;5;241m0\u001b[39m]\n",
      "File \u001b[1;32mc:\\Users\\KarlJ\\anaconda3\\envs\\kilosort\\lib\\site-packages\\spikeinterface\\core\\baserecordingsnippets.py:259\u001b[0m, in \u001b[0;36mBaseRecordingSnippets.get_probes\u001b[1;34m(self)\u001b[0m\n\u001b[0;32m    258\u001b[0m \u001b[38;5;28;01mdef\u001b[39;00m \u001b[38;5;21mget_probes\u001b[39m(\u001b[38;5;28mself\u001b[39m):\n\u001b[1;32m--> 259\u001b[0m     probegroup \u001b[38;5;241m=\u001b[39m \u001b[38;5;28;43mself\u001b[39;49m\u001b[38;5;241;43m.\u001b[39;49m\u001b[43mget_probegroup\u001b[49m\u001b[43m(\u001b[49m\u001b[43m)\u001b[49m\n\u001b[0;32m    260\u001b[0m     \u001b[38;5;28;01mreturn\u001b[39;00m probegroup\u001b[38;5;241m.\u001b[39mprobes\n",
      "File \u001b[1;32mc:\\Users\\KarlJ\\anaconda3\\envs\\kilosort\\lib\\site-packages\\spikeinterface\\core\\baserecordingsnippets.py:267\u001b[0m, in \u001b[0;36mBaseRecordingSnippets.get_probegroup\u001b[1;34m(self)\u001b[0m\n\u001b[0;32m    265\u001b[0m positions \u001b[38;5;241m=\u001b[39m \u001b[38;5;28mself\u001b[39m\u001b[38;5;241m.\u001b[39mget_property(\u001b[38;5;124m\"\u001b[39m\u001b[38;5;124mlocation\u001b[39m\u001b[38;5;124m\"\u001b[39m)\n\u001b[0;32m    266\u001b[0m \u001b[38;5;28;01mif\u001b[39;00m positions \u001b[38;5;129;01mis\u001b[39;00m \u001b[38;5;28;01mNone\u001b[39;00m:\n\u001b[1;32m--> 267\u001b[0m     \u001b[38;5;28;01mraise\u001b[39;00m \u001b[38;5;167;01mValueError\u001b[39;00m(\u001b[38;5;124m\"\u001b[39m\u001b[38;5;124mThere is no Probe attached to this recording. Use set_probe(...) to attach one.\u001b[39m\u001b[38;5;124m\"\u001b[39m)\n\u001b[0;32m    268\u001b[0m \u001b[38;5;28;01melse\u001b[39;00m:\n\u001b[0;32m    269\u001b[0m     warn(\u001b[38;5;124m\"\u001b[39m\u001b[38;5;124mThere is no Probe attached to this recording. Creating a dummy one with contact positions\u001b[39m\u001b[38;5;124m\"\u001b[39m)\n",
      "\u001b[1;31mValueError\u001b[0m: There is no Probe attached to this recording. Use set_probe(...) to attach one."
     ]
    }
   ],
   "source": [
    "\n",
    "# Get the probe from the recording (if available)\n",
    "probe = recording.get_probe()\n",
    "\n",
    "# Define the path to save the probe configuration\n",
    "probe_path = DATA_DIRECTORY / 'probe.prb'\n",
    "\n",
    "# Save the probe configuration\n",
    "write_prb(probe_path, probe)\n"
   ]
  },
  {
   "cell_type": "markdown",
   "metadata": {},
   "source": [
    "## Defining a Probe"
   ]
  },
  {
   "cell_type": "markdown",
   "metadata": {},
   "source": []
  }
 ],
 "metadata": {
  "kernelspec": {
   "display_name": "kilosort",
   "language": "python",
   "name": "python3"
  },
  "language_info": {
   "codemirror_mode": {
    "name": "ipython",
    "version": 3
   },
   "file_extension": ".py",
   "mimetype": "text/x-python",
   "name": "python",
   "nbconvert_exporter": "python",
   "pygments_lexer": "ipython3",
   "version": "3.9.20"
  }
 },
 "nbformat": 4,
 "nbformat_minor": 2
}
