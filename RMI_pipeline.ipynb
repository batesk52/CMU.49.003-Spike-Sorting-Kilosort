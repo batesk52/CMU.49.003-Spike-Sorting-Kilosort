{
 "cells": [
  {
   "cell_type": "markdown",
   "metadata": {},
   "source": [
    "<!-- Notebook Header Start -->\n",
    "\n",
    "<h1 align=\"center\">Spike Sorting</h1>\n",
    "\n",
    "<p align=\"center\">\n",
    "  <strong>Author:</strong> Karl Bates<br>\n",
    "  <strong>Date:</strong> 2024-10-30<br>\n",
    "  <strong>Affiliation:</strong> Carnegie Mellon University, Cohen-Karni Group  || Neuromechatronics Lab\n",
    "</p>\n",
    "\n",
    "---\n",
    "\n",
    "## 📜 Project Overview\n",
    "\n",
    "(to populate) \n",
    "\n",
    "- **Objective:** (to populate)\n",
    "- **Scope:** (to populate)\n",
    "- **Libraries:** `Python`, `Pandas`, `SciPy`\n",
    "\n",
    "---\n",
    "\n",
    "## 📊 Notebook Outline\n",
    "\n",
    "1. **Data Import & Preprocessing**\n",
    "\n",
    "\n",
    "---\n",
    "\n",
    "## 📚 References & Additional Resources\n",
    "\n",
    "- [Github: Kilosort4](https://github.com/MouseLand/Kilosort/tree/main)\n",
    "- [SpikeInterface](https://github.com/SpikeInterface)\n",
    "\n",
    "---\n",
    "\n",
    "<!-- Notebook Header End -->\n"
   ]
  },
  {
   "cell_type": "markdown",
   "metadata": {},
   "source": [
    "# Libraries"
   ]
  },
  {
   "cell_type": "code",
   "execution_count": null,
   "metadata": {},
   "outputs": [],
   "source": [
    "# Imports\n",
    "from pathlib import Path\n",
    "from tqdm import tqdm\n",
    "import numpy as np\n",
    "from pprint import pprint\n",
    "import matplotlib.pyplot as plt\n",
    "import pandas as pd\n",
    "\n",
    "from probeinterface import write_prb\n",
    "# Download channel maps for default probes\n",
    "from kilosort.utils import download_probes\n",
    "from probeinterface.plotting import plot_probe, plot_probe_group\n",
    "from probeinterface import Probe, get_probe, generate_linear_probe\n",
    "\n",
    "from spikeinterface.extractors import read_intan\n",
    "\n",
    "from kilosort import run_kilosort\n",
    "from kilosort import io"
   ]
  },
  {
   "cell_type": "markdown",
   "metadata": {},
   "source": [
    "# File Definitions"
   ]
  },
  {
   "cell_type": "code",
   "execution_count": null,
   "metadata": {},
   "outputs": [],
   "source": [
    "# Parameters\n",
    "RAT_NAME = 'DW322'\n",
    "STIMULATION = 'DRGS_2_240918_130024'\n",
    "DATA_DIRECTORY = Path(fr'D:\\Data\\CMU.80 Data\\88 Analyzed Data\\88.001 Kilosort on DW322')  # NOTE Specify the path where the data will be copied to, and where Kilosort4 results will be saved.\n",
    "# Create path if it doesn't exist\n",
    "DATA_DIRECTORY.mkdir(parents=True, exist_ok=True)"
   ]
  },
  {
   "cell_type": "markdown",
   "metadata": {},
   "source": [
    "# Data Import"
   ]
  },
  {
   "cell_type": "markdown",
   "metadata": {},
   "source": [
    "### defining filepath for data"
   ]
  },
  {
   "cell_type": "code",
   "execution_count": null,
   "metadata": {},
   "outputs": [],
   "source": [
    "# NOTE: You will need to select the appropriate data stream. If you run without\n",
    "#       specifying `stream_id`, you will get an error message explaining what\n",
    "#       each stream corresponds to.\n",
    "filepath = Path(f\"D:\\Data\\CMU.80 Data\\82 External Data\\82.002 Sample Rat Data from RM1 Project\\DW322\\{RAT_NAME}\\{STIMULATION}\\{STIMULATION}.rhd\")\n",
    "recording = read_intan(filepath, stream_id='0')"
   ]
  },
  {
   "cell_type": "markdown",
   "metadata": {},
   "source": [
    "no probe information is given with this data, so we will need to define it or assign one from the probe interface library.\n",
    "\n",
    "I will first show how to create the binary file using `Spike Interface` and numpy's `memmap()`"
   ]
  },
  {
   "cell_type": "markdown",
   "metadata": {},
   "source": [
    "## Import data and probe using `SpikeInterface`"
   ]
  },
  {
   "cell_type": "code",
   "execution_count": null,
   "metadata": {},
   "outputs": [],
   "source": [
    "# NOTE: Data will be saved as np.int16 by default since that is the standard\n",
    "#       for ephys data. If you need a different data type for whatever reason\n",
    "#       such as `np.uint16`, be sure to update this.\n",
    "dtype = np.int16\n",
    "filename, N, c, s, fs, probe_path = io.spikeinterface_to_binary(\n",
    "    recording, DATA_DIRECTORY, data_name=f'{RAT_NAME}_{STIMULATION}_data.bin', dtype=dtype,\n",
    "    chunksize=60000, export_probe=True, probe_name='probe.prb'\n",
    "    )"
   ]
  },
  {
   "cell_type": "markdown",
   "metadata": {},
   "source": [
    "this code will complete, but because there is no probe associated with the data, I will need to define one later on"
   ]
  },
  {
   "cell_type": "markdown",
   "metadata": {},
   "source": [
    "## Import data and probe using `Numpy memmap`"
   ]
  },
  {
   "cell_type": "markdown",
   "metadata": {},
   "source": [
    "### defining ouput file and loading data into binary in chunks:"
   ]
  },
  {
   "cell_type": "code",
   "execution_count": null,
   "metadata": {},
   "outputs": [],
   "source": [
    "# Define output binary file\n",
    "output_file = DATA_DIRECTORY / f'{RAT_NAME}_{STIMULATION}_data_memmap.bin'\n",
    "\n",
    "# Get data shape\n",
    "num_channels = recording.get_num_channels()\n",
    "num_samples = recording.get_num_frames()\n",
    "\n",
    "# Create a memory-mapped file without using `with`\n",
    "data_dtype = np.int16  # This is typically the standard for electrophysiology data\n",
    "memmap_file = np.memmap(output_file, dtype=data_dtype, mode='w+', shape=(num_samples, num_channels))\n",
    "\n",
    "# Define the chunk size for processing (e.g., 60,000 samples at a time)\n",
    "chunk_size = 60000\n",
    "\n",
    "# Loop through the data and write to the binary file in chunks\n",
    "for start_idx in range(0, num_samples, chunk_size):\n",
    "    end_idx = min(start_idx + chunk_size, num_samples)\n",
    "    \n",
    "    # Extract data chunk from the RecordingExtractor\n",
    "    data_chunk = recording.get_traces(start_frame=start_idx, end_frame=end_idx)\n",
    "    \n",
    "    # Write the chunk to the memory-mapped file\n",
    "    memmap_file[start_idx:end_idx, :] = data_chunk.astype(data_dtype)\n",
    "\n",
    "# Explicitly flush changes to disk\n",
    "memmap_file.flush()\n",
    "\n",
    "print(f\"Data successfully saved to {output_file}\")\n"
   ]
  },
  {
   "cell_type": "markdown",
   "metadata": {},
   "source": [
    "### exporting probe data\n",
    "\n",
    "this will NOT run correctly, since there is no probe data"
   ]
  },
  {
   "cell_type": "code",
   "execution_count": null,
   "metadata": {},
   "outputs": [],
   "source": [
    "\n",
    "# Get the probe from the recording (if available)\n",
    "probe = recording.get_probe()\n",
    "\n",
    "# Define the path to save the probe configuration\n",
    "probe_path = DATA_DIRECTORY / 'probe.prb'\n",
    "\n",
    "# Save the probe configuration\n",
    "write_prb(probe_path, probe)\n"
   ]
  },
  {
   "cell_type": "markdown",
   "metadata": {},
   "source": [
    "# Defining or assigning a probe"
   ]
  },
  {
   "cell_type": "markdown",
   "metadata": {},
   "source": [
    "## downloading standard probes"
   ]
  },
  {
   "cell_type": "markdown",
   "metadata": {},
   "source": [
    "you can use the `ProbeInterface` repository to define a standard probe.\n",
    "\n",
    "You can then pull a probe from the `ProbeInterface` library"
   ]
  },
  {
   "cell_type": "code",
   "execution_count": null,
   "metadata": {},
   "outputs": [],
   "source": [
    "manufacturer = 'neuronexus'\n",
    "probe_name = 'A1x32-Poly3-10mm-50-177'\n",
    "\n",
    "probe = get_probe(manufacturer, probe_name)\n",
    "print(probe)"
   ]
  },
  {
   "cell_type": "markdown",
   "metadata": {},
   "source": [
    "but, this is not the probe we are using. Instead, we are using a `A1x32-Edge-5mm-20-177-A32`\n",
    "\n",
    "This is not in the library, so I will have to"
   ]
  },
  {
   "cell_type": "markdown",
   "metadata": {},
   "source": [
    "## defining a probe"
   ]
  },
  {
   "cell_type": "markdown",
   "metadata": {},
   "source": [
    "the following parameters came from this website:\n",
    "\n",
    "[Neuronexus Penetrating Probe Catalog](https://19885756.fs1.hubspotusercontent-na1.net/hubfs/19885756/Penetrating_probe_catalog_V1.8.pdf#page=1.06&gsr=0)"
   ]
  },
  {
   "cell_type": "markdown",
   "metadata": {},
   "source": [
    "Using the spreadsheet, `Adapter_pinout.xlsx`, the contact ID's can be traced to the \"device channel\", and we can assign them on the probe. \n",
    "\n",
    "In this case, our channel indices correspond to the aux inputs to the intan headstage."
   ]
  },
  {
   "cell_type": "code",
   "execution_count": null,
   "metadata": {},
   "outputs": [],
   "source": [
    "channel_mapping = pd.read_excel(\"Adapter_pinout.xlsx\",sheet_name=\"summary\",header=2).iloc[:,[8,10,12,14]]\n",
    "channel_mapping"
   ]
  },
  {
   "cell_type": "markdown",
   "metadata": {},
   "source": [
    "the channel indices shall be the `Intan.1` column"
   ]
  },
  {
   "cell_type": "code",
   "execution_count": null,
   "metadata": {},
   "outputs": [],
   "source": [
    "linear_probe = generate_linear_probe(num_elec=32, ypitch=20)\n",
    "\n",
    "# Define the number of channels and their positions along the probe shank\n",
    "num_channels = 32\n",
    "positions = [\n",
    "    (0, i * 20) for i in range(num_channels)\n",
    "]  # Channel spacing in micrometers\n",
    "\n",
    "# Create a Probe object\n",
    "linear_probe = Probe(ndim=2, si_units='um')\n",
    "linear_probe.set_contacts(positions=positions, shapes='rect', shape_params={'width': 18,\"height\":10})\n",
    "\n",
    "# Assign electrical connections based on the connector diagram\n",
    "linear_probe.set_contact_ids(np.arange(1, 33)) # I set the first input to 1, instead of Python's traditional 0, to match the connector diagram\n",
    "\n",
    "\n",
    "linear_probe.set_device_channel_indices(channel_mapping['Intan Input.1'][::-1]) # the [::-1] is to reverse the order\n",
    "\n",
    "# first plot: contact ids on the probe itself\n",
    "plot_probe(linear_probe, with_device_index=False,with_contact_id=True)\n",
    "\n",
    "# second plot: device ids on the probe; when the intan reads, say, \"dev14\", it means that it's the 1st input on the electrode probe (in graph 1)\n",
    "plot_probe(linear_probe, with_device_index=True,with_contact_id=False)\n"
   ]
  },
  {
   "cell_type": "code",
   "execution_count": null,
   "metadata": {},
   "outputs": [],
   "source": [
    "linear_probe.to_dataframe()"
   ]
  },
  {
   "cell_type": "markdown",
   "metadata": {},
   "source": [
    "### saving the probe alongside the raw data file:"
   ]
  },
  {
   "cell_type": "code",
   "execution_count": null,
   "metadata": {},
   "outputs": [],
   "source": [
    "# Save the new probe to a .prb file for Kilosort\n",
    "probe_path = DATA_DIRECTORY / '`A1x32-Edge-5mm-20-177-A32`.prb'\n",
    "write_prb(probe_path, linear_probe)\n",
    "\n",
    "print(f\"Probe saved to {probe_path}\")"
   ]
  },
  {
   "cell_type": "code",
   "execution_count": null,
   "metadata": {},
   "outputs": [],
   "source": [
    "print(probe.device_channel_indices)"
   ]
  },
  {
   "cell_type": "code",
   "execution_count": null,
   "metadata": {},
   "outputs": [],
   "source": [
    "# Connection Mapping: A32 Male -> O32 Connector\n",
    "# Define the mapping from A32 Female to O32 as described\n",
    "# Format: O32 Channel -> A32 Male Channel\n",
    "o32_to_a32_mapping = [\n",
    "    (\"R\", None), (23, 10), (25, 8), (27, 6), (29, 4), (31, 2),\n",
    "    (19, 1), (17, 3), (21, 5), (11, 7), (15, 9), (13, 11), (1, 13), (3, 15), (5, 17), (7, 19), (9, 21),\n",
    "    (\"G\", 23), (24, 12), (26, 14), (28, 16), (30, 18), (32, 20),\n",
    "    (20, 22), (18, 24), (22, 26), (12, 28), (16, 30), (14, 32), (2, None), (4, None), (6, None), (8, None), (10, None),\n",
    "    (\"R\", None)\n",
    "]\n",
    "\n",
    "# Set the device channel indices using the mapping\n",
    "device_channel_indices = [a32_ch if a32_ch is not None else -1 for _, a32_ch in o32_to_a32_mapping]\n",
    "probe.set_device_channel_indices(device_channel_indices)\n",
    "\n",
    "# # Annotate ground and reference channels with full-length lists\n",
    "# ground_channels = [ch == 23 for ch in range(32)]  # True for channel 23, False otherwise\n",
    "# reference_channels = [False] * 32  # No reference channels specified in this example\n",
    "\n",
    "# probe.annotate_contacts(ground_channels=ground_channels, reference_channels=reference_channels)\n",
    "\n",
    "# Visualize and Save\n",
    "import matplotlib.pyplot as plt\n",
    "\n",
    "plot_probe(probe, with_contact_id=True)\n",
    "\n",
    "# Save the probe definition\n",
    "# probe.save_to_file(\"A1x32-Edge-5mm-20-177-A32-O32.json\")"
   ]
  },
  {
   "cell_type": "code",
   "execution_count": null,
   "metadata": {},
   "outputs": [],
   "source": [
    "probe.device_channel_indices"
   ]
  },
  {
   "cell_type": "code",
   "execution_count": null,
   "metadata": {},
   "outputs": [],
   "source": [
    "# Save the new probe to a .prb file for Kilosort\n",
    "probe_path = DATA_DIRECTORY / 'custom_probe.prb'\n",
    "write_prb(probe_path, probe_group)"
   ]
  },
  {
   "cell_type": "markdown",
   "metadata": {},
   "source": [
    "# Running Kilosort4\n",
    "\n",
    "At this point, it's a good idea to open the Kilosort gui and check that the\n",
    "data and probe appear to have been loaded correctly and no settings need to be\n",
    "tweaked. You will need to input the path to the binary datafile, the folder where\n",
    "results should be saved, and select a probe file.\n",
    "\n",
    "```conda activate kilosort```\n",
    "\n",
    "```python -m kilosort```\n",
    "\n",
    "From there, you can either launch Kilosort using the GUI or run the\n",
    "next notebook cell to run it through the API."
   ]
  },
  {
   "cell_type": "code",
   "execution_count": null,
   "metadata": {},
   "outputs": [],
   "source": [
    "# NOTE: 'n_chan_bin' is a required setting, and should reflect the total number\n",
    "#       of channels in the binary file. For information on other available\n",
    "#       settings, see `kilosort.run_kilosort.default_settings`.\n",
    "settings = {'data_dir': DATA_DIRECTORY, 'n_chan_bin': 34}\n",
    "\n",
    "ops, st, clu, tF, Wall, similar_templates, is_ref, est_contam_rate, kept_spikes = \\\n",
    "    run_kilosort(\n",
    "        settings=settings, probe_name='neuropixPhase3B1_kilosortChanMap.mat',\n",
    "        # save_preprocessed_copy=True\n",
    "        )   "
   ]
  }
 ],
 "metadata": {
  "kernelspec": {
   "display_name": "kilosort",
   "language": "python",
   "name": "python3"
  },
  "language_info": {
   "codemirror_mode": {
    "name": "ipython",
    "version": 3
   },
   "file_extension": ".py",
   "mimetype": "text/x-python",
   "name": "python",
   "nbconvert_exporter": "python",
   "pygments_lexer": "ipython3",
   "version": "3.9.20"
  }
 },
 "nbformat": 4,
 "nbformat_minor": 2
}
