{
 "cells": [
  {
   "cell_type": "markdown",
   "metadata": {},
   "source": [
    "<!-- Notebook Header Start -->\n",
    "\n",
    "<h1 align=\"center\">Spike Sorting</h1>\n",
    "\n",
    "<p align=\"center\">\n",
    "  <strong>Author:</strong> Karl Bates<br>\n",
    "  <strong>Date:</strong> 2024-10-30<br>\n",
    "  <strong>Affiliation:</strong> Carnegie Mellon University, Cohen-Karni Group  || Neuromechatronics Lab\n",
    "</p>\n",
    "\n",
    "---\n",
    "\n",
    "## 📜 Project Overview\n",
    "\n",
    "(to populate) \n",
    "\n",
    "- **Objective:** (to populate)\n",
    "- **Scope:** (to populate)\n",
    "- **Libraries:** `Python`, `Pandas`, `SciPy`\n",
    "\n",
    "---\n",
    "\n",
    "## 📊 Notebook Outline\n",
    "\n",
    "1. **Data Import & Preprocessing**\n",
    "\n",
    "\n",
    "---\n",
    "\n",
    "## 📚 References & Additional Resources\n",
    "\n",
    "- [Github: Kilosort4](https://github.com/MouseLand/Kilosort/tree/main)\n",
    "- [SpikeInterface](https://github.com/SpikeInterface)\n",
    "\n",
    "---\n",
    "\n",
    "<!-- Notebook Header End -->\n"
   ]
  },
  {
   "cell_type": "markdown",
   "metadata": {},
   "source": [
    "# Libraries"
   ]
  },
  {
   "cell_type": "code",
   "execution_count": 6,
   "metadata": {},
   "outputs": [],
   "source": [
    "# Imports\n",
    "from pathlib import Path\n",
    "from tqdm import tqdm\n",
    "import numpy as np\n",
    "\n",
    "# Download channel maps for default probes\n",
    "from kilosort.utils import download_probes\n",
    "download_probes()\n",
    "\n",
    "from spikeinterface.extractors import read_intan\n",
    "\n",
    "from kilosort import run_kilosort\n",
    "from kilosort import io"
   ]
  },
  {
   "cell_type": "markdown",
   "metadata": {},
   "source": [
    "# File Definitions"
   ]
  },
  {
   "cell_type": "code",
   "execution_count": 10,
   "metadata": {},
   "outputs": [],
   "source": [
    "RAT_NAME = 'DW322'\n",
    "STIMULATION = 'DRGS_2_240918_130024'"
   ]
  },
  {
   "cell_type": "markdown",
   "metadata": {},
   "source": [
    "# Data Import"
   ]
  },
  {
   "cell_type": "markdown",
   "metadata": {},
   "source": [
    "## Using `SpikeInterface`"
   ]
  },
  {
   "cell_type": "code",
   "execution_count": 7,
   "metadata": {},
   "outputs": [],
   "source": [
    "# Specify the path where the data will be copied to, and where Kilosort4 results will be saved.\n",
    "DATA_DIRECTORY = Path(r'D:\\Data\\CMU.80 Data\\81 Data Inbox\\DW322')  # NOTE: You should change this\n",
    "# Create path if it doesn't exist\n",
    "DATA_DIRECTORY.mkdir(parents=True, exist_ok=True)"
   ]
  },
  {
   "cell_type": "code",
   "execution_count": null,
   "metadata": {},
   "outputs": [],
   "source": [
    "\n",
    "# NOTE: You will need to select the appropriate data stream. If you run without\n",
    "#       specifying `stream_id`, you will get an error message explaining what\n",
    "#       each stream corresponds to.\n",
    "filepath = Path(f\"D:\\Data\\DW322\\DW322\\DRGS_2_240918_130024\\DRGS_2_240918_130024.rhd\")\n",
    "recording = read_intan(filepath, stream_id='0')"
   ]
  },
  {
   "cell_type": "code",
   "execution_count": 9,
   "metadata": {},
   "outputs": [],
   "source": [
    "# NOTE: Data will be saved as np.int16 by default since that is the standard\n",
    "#       for ephys data. If you need a different data type for whatever reason\n",
    "#       such as `np.uint16`, be sure to update this.\n",
    "dtype = np.int16\n",
    "filename, N, c, s, fs, probe_path = io.spikeinterface_to_binary(\n",
    "    recording, DATA_DIRECTORY, data_name='data.bin', dtype=dtype,\n",
    "    chunksize=60000, export_probe=True, probe_name='probe.prb'\n",
    "    )"
   ]
  },
  {
   "cell_type": "code",
   "execution_count": null,
   "metadata": {},
   "outputs": [],
   "source": []
  }
 ],
 "metadata": {
  "kernelspec": {
   "display_name": "kilosort",
   "language": "python",
   "name": "python3"
  },
  "language_info": {
   "codemirror_mode": {
    "name": "ipython",
    "version": 3
   },
   "file_extension": ".py",
   "mimetype": "text/x-python",
   "name": "python",
   "nbconvert_exporter": "python",
   "pygments_lexer": "ipython3",
   "version": "3.9.20"
  }
 },
 "nbformat": 4,
 "nbformat_minor": 2
}
