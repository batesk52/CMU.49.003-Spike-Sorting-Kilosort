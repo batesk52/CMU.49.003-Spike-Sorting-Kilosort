{
 "cells": [
  {
   "cell_type": "markdown",
   "metadata": {},
   "source": [
    "<!-- Notebook Header Start -->\n",
    "\n",
    "<h1 align=\"center\">Analysis of Evoked Compount Action Potential</h1>\n",
    "\n",
    "<p align=\"center\">\n",
    "  <strong>Author:</strong> Karl Bates<br>\n",
    "  <strong>Date:</strong> 2024-11-18<br>\n",
    "  <strong>Affiliation:</strong> Carnegie Mellon University, Cohen-Karni Lab  || Neuromechatronics Lab\n",
    "</p>\n",
    "\n",
    "---\n",
    "\n",
    "\n",
    "## 📊 Notebook Outline\n",
    "\n",
    "* **Import libraries, files, probe**\n",
    "  * Important probe\n",
    "  * Define import and export folders\n",
    "* **Perform preprocessing, ECAP analysis, etc, in SpikeInterface**\n",
    "\n",
    "\n",
    "\n",
    "## 📚 References & Additional Resources\n",
    "\n",
    "- [Kilosort4 docs](https://github.com/MouseLand/Kilosort/tree/main)\n",
    "- [SpikeInterface docs](https://github.com/SpikeInterface)\n",
    "\n",
    "---\n",
    "\n",
    "<!-- Notebook Header End -->\n"
   ]
  },
  {
   "cell_type": "markdown",
   "metadata": {},
   "source": [
    "# 📈 Importing Libraries & Data\n",
    "---"
   ]
  },
  {
   "cell_type": "markdown",
   "metadata": {},
   "source": [
    "## import libraries & custom functions"
   ]
  },
  {
   "cell_type": "code",
   "execution_count": 1,
   "metadata": {},
   "outputs": [],
   "source": [
    "# standard imports\n",
    "from pathlib import Path\n",
    "import os\n",
    "import pandas as pd\n",
    "import numpy as np\n",
    "from kilosort import io\n",
    "import matplotlib.pyplot as plt\n",
    "\n",
    "# custom imports\n",
    "from automations import RM1\n",
    "from automations import Kilosort_wrapper\n",
    "from automations import SpikeInterface_wrapper\n",
    "from automations import plots"
   ]
  },
  {
   "cell_type": "markdown",
   "metadata": {},
   "source": [
    "## probe definition\n",
    "\n",
    "Using the spreadsheet, `Adapter_pinout.xlsx`, the contact ID's can be traced to the \"device channel\", and we can assign them on the probe. \n",
    "\n",
    "In this case, our channel indices correspond to the aux inputs to the intan headstage.\n",
    "\n",
    "refer to the notebook, `RM1_pipeline.ipynb` within  the `dev_notebook` folder"
   ]
  },
  {
   "cell_type": "code",
   "execution_count": 2,
   "metadata": {},
   "outputs": [],
   "source": [
    "### Path definitions\n",
    "\n",
    "# NOTE: this script will work if you point the save directory to a folder specific to this rat\n",
    "# make sure to create the folders: binary & figures\n",
    "SAVE_DIRECTORY = Path(fr'D:\\Data\\CMU.80 Data\\88 Analyzed Data\\88.003 Initial Analysis, DW327') \n",
    "\n",
    "# NOTE: this data used in this script come from a folder with multiple rats. if you point the data \n",
    "# directory to a different folder, make sure that it has the same folder structure.\n",
    "DATA_DIRECTORY = Path(fr'D:\\Data\\CMU.80 Data\\82 External Data\\82.002 Sample Rat Data from RM1 Project') \n",
    "# Create paths if they doesn't exist\n",
    "DATA_DIRECTORY.mkdir(parents=True, exist_ok=True)\n",
    "SAVE_DIRECTORY.mkdir(parents=True, exist_ok=True)\n",
    "PROBE_DIRECTORY = Path(r'D:\\Data\\CMU.80 Data\\88 Analyzed Data\\88.001 A1x32-Edge-5mm-20-177-A32\\A1x32-Edge-5mm-20-177-A32.prb')"
   ]
  },
  {
   "cell_type": "markdown",
   "metadata": {},
   "source": [
    "## 🔬 Exploratory Data Analysis (EDA)\n",
    "\n",
    "see paper for more information. for this experiment, I elected to start my analysis with trial: \n",
    "\n",
    "**Rat: DW322 | Trial: DRGS_1_240918_125448**"
   ]
  },
  {
   "cell_type": "code",
   "execution_count": 3,
   "metadata": {},
   "outputs": [
    {
     "name": "stdout",
     "output_type": "stream",
     "text": [
      "Reading DRGS_10_240911_155921...\n",
      "Error reading stream 2 for DRGS_10_240911_155921. continuing...\n",
      "Reading DRGS_11_240911_160638...\n",
      "Error reading stream 2 for DRGS_11_240911_160638. continuing...\n",
      "Reading DRGS_1_240911_144910...\n",
      "Error reading stream 2 for DRGS_1_240911_144910. continuing...\n",
      "Reading DRGS_2_240911_145808...\n",
      "Error reading stream 2 for DRGS_2_240911_145808. continuing...\n",
      "Reading DRGS_3_240911_150506...\n",
      "Error reading stream 2 for DRGS_3_240911_150506. continuing...\n",
      "Reading DRGS_4_240911_151137...\n",
      "Error reading stream 2 for DRGS_4_240911_151137. continuing...\n",
      "Reading DRGS_5_240911_151925...\n",
      "Error reading stream 2 for DRGS_5_240911_151925. continuing...\n",
      "Reading DRGS_6_240911_152522...\n",
      "Error reading stream 2 for DRGS_6_240911_152522. continuing...\n",
      "Reading DRGS_7_240911_153255...\n",
      "Error reading stream 2 for DRGS_7_240911_153255. continuing...\n",
      "Reading DRGS_8_240911_154319...\n",
      "Error reading stream 2 for DRGS_8_240911_154319. continuing...\n",
      "Reading DRGS_9_240911_155057...\n",
      "Error reading stream 2 for DRGS_9_240911_155057. continuing...\n",
      "Reading nninsertion_240911_130746...\n",
      "Error reading stream 2 for nninsertion_240911_130746. continuing...\n",
      "Reading nn_seond_insertion_240911_144433...\n",
      "Error reading stream 2 for nn_seond_insertion_240911_144433. continuing...\n",
      "Reading QST_2_240911_181341...\n",
      "Error reading stream 2 for QST_2_240911_181341. continuing...\n",
      "Reading VF_1_240911_164342...\n",
      "Error reading stream 2 for VF_1_240911_164342. continuing...\n",
      "Reading VF_2_240911_165039...\n",
      "Error reading stream 2 for VF_2_240911_165039. continuing...\n",
      "Reading VF_3_240911_165617...\n",
      "Error reading stream 2 for VF_3_240911_165617. continuing...\n",
      "Reading VF_4_240911_170446...\n",
      "Error reading stream 2 for VF_4_240911_170446. continuing...\n",
      "Reading VF_5_240911_171014...\n",
      "Error reading stream 2 for VF_5_240911_171014. continuing...\n",
      "Reading VF_6_240911_171505...\n",
      "Error reading stream 2 for VF_6_240911_171505. continuing...\n",
      "Reading VF_7_240911_180931...\n",
      "Error reading stream 2 for VF_7_240911_180931. continuing...\n"
     ]
    }
   ],
   "source": [
    "Rat = RM1.Rat(DATA_DIRECTORY, PROBE_DIRECTORY, \"DW323\")"
   ]
  },
  {
   "cell_type": "markdown",
   "metadata": {},
   "source": [
    "### Metadata for each trial"
   ]
  },
  {
   "cell_type": "code",
   "execution_count": 4,
   "metadata": {},
   "outputs": [
    {
     "name": "stdout",
     "output_type": "stream",
     "text": [
      "stimulating amplitude: 70 uA\n",
      "recruitment amplitudes: [69 70 71 72 73 74 75 76 77] uA\n"
     ]
    }
   ],
   "source": [
    "\n",
    "print(f'stimulating amplitude: {Rat.mat_files_dict[\"DRGS_6_152522\"][\"AM\"][\"amp\"][0, 0][0, 0]} uA')\n",
    "print(f'recruitment amplitudes: {Rat.mat_files_dict[\"DRGS_6_152522\"][\"AM\"][\"rcrtrange_num\"][0, 0][0][:]} uA')\n"
   ]
  },
  {
   "cell_type": "markdown",
   "metadata": {},
   "source": [
    "### 📑 metadata - VF experiment notes"
   ]
  },
  {
   "cell_type": "code",
   "execution_count": 5,
   "metadata": {},
   "outputs": [
    {
     "data": {
      "text/plain": [
       "'d1 tl, d2 am sync, a1 am monitor,a2 evf'"
      ]
     },
     "execution_count": 5,
     "metadata": {},
     "output_type": "execute_result"
    }
   ],
   "source": [
    "Rat.qst_experiment_notes"
   ]
  },
  {
   "cell_type": "markdown",
   "metadata": {},
   "source": [
    "### 📑 metadata - DRGS trial notes"
   ]
  },
  {
   "cell_type": "code",
   "execution_count": 6,
   "metadata": {},
   "outputs": [
    {
     "data": {
      "text/html": [
       "<div>\n",
       "<style scoped>\n",
       "    .dataframe tbody tr th:only-of-type {\n",
       "        vertical-align: middle;\n",
       "    }\n",
       "\n",
       "    .dataframe tbody tr th {\n",
       "        vertical-align: top;\n",
       "    }\n",
       "\n",
       "    .dataframe thead th {\n",
       "        text-align: right;\n",
       "    }\n",
       "</style>\n",
       "<table border=\"1\" class=\"dataframe\">\n",
       "  <thead>\n",
       "    <tr style=\"text-align: right;\">\n",
       "      <th>5</th>\n",
       "      <th>Trial Number</th>\n",
       "      <th>Condition</th>\n",
       "      <th>amp (uA)</th>\n",
       "      <th>PW (us)</th>\n",
       "      <th>Freq. (Hz)</th>\n",
       "      <th>Dur. (s)</th>\n",
       "      <th>Stimuli</th>\n",
       "      <th>Stage</th>\n",
       "      <th>Stimuli Dur.</th>\n",
       "      <th>rcrtrange</th>\n",
       "      <th>waitime</th>\n",
       "    </tr>\n",
       "    <tr>\n",
       "      <th>Trial Number</th>\n",
       "      <th></th>\n",
       "      <th></th>\n",
       "      <th></th>\n",
       "      <th></th>\n",
       "      <th></th>\n",
       "      <th></th>\n",
       "      <th></th>\n",
       "      <th></th>\n",
       "      <th></th>\n",
       "      <th></th>\n",
       "      <th></th>\n",
       "    </tr>\n",
       "  </thead>\n",
       "  <tbody>\n",
       "    <tr>\n",
       "      <th>1</th>\n",
       "      <td>1</td>\n",
       "      <td>DRGS</td>\n",
       "      <td>70</td>\n",
       "      <td>300</td>\n",
       "      <td>5</td>\n",
       "      <td>180</td>\n",
       "      <td>NaN</td>\n",
       "      <td>NaN</td>\n",
       "      <td>NaN</td>\n",
       "      <td>69,77</td>\n",
       "      <td>30</td>\n",
       "    </tr>\n",
       "    <tr>\n",
       "      <th>2</th>\n",
       "      <td>2</td>\n",
       "      <td>DRGS</td>\n",
       "      <td>70</td>\n",
       "      <td>300</td>\n",
       "      <td>5</td>\n",
       "      <td>180</td>\n",
       "      <td>NaN</td>\n",
       "      <td>NaN</td>\n",
       "      <td>NaN</td>\n",
       "      <td>69,77</td>\n",
       "      <td>30</td>\n",
       "    </tr>\n",
       "    <tr>\n",
       "      <th>3</th>\n",
       "      <td>3</td>\n",
       "      <td>DRGS</td>\n",
       "      <td>70</td>\n",
       "      <td>300</td>\n",
       "      <td>100</td>\n",
       "      <td>180</td>\n",
       "      <td>NaN</td>\n",
       "      <td>NaN</td>\n",
       "      <td>NaN</td>\n",
       "      <td>69,77</td>\n",
       "      <td>30</td>\n",
       "    </tr>\n",
       "    <tr>\n",
       "      <th>4</th>\n",
       "      <td>4</td>\n",
       "      <td>DRGS</td>\n",
       "      <td>70</td>\n",
       "      <td>300</td>\n",
       "      <td>100</td>\n",
       "      <td>180</td>\n",
       "      <td>NaN</td>\n",
       "      <td>NaN</td>\n",
       "      <td>NaN</td>\n",
       "      <td>69,77</td>\n",
       "      <td>30</td>\n",
       "    </tr>\n",
       "    <tr>\n",
       "      <th>5</th>\n",
       "      <td>5</td>\n",
       "      <td>DRGS</td>\n",
       "      <td>70</td>\n",
       "      <td>300</td>\n",
       "      <td>20</td>\n",
       "      <td>180</td>\n",
       "      <td>NaN</td>\n",
       "      <td>NaN</td>\n",
       "      <td>NaN</td>\n",
       "      <td>69,77</td>\n",
       "      <td>30</td>\n",
       "    </tr>\n",
       "  </tbody>\n",
       "</table>\n",
       "</div>"
      ],
      "text/plain": [
       "5            Trial Number Condition amp (uA) PW (us) Freq. (Hz) Dur. (s)  \\\n",
       "Trial Number                                                               \n",
       "1                       1      DRGS       70     300          5      180   \n",
       "2                       2      DRGS       70     300          5      180   \n",
       "3                       3      DRGS       70     300        100      180   \n",
       "4                       4      DRGS       70     300        100      180   \n",
       "5                       5      DRGS       70     300         20      180   \n",
       "\n",
       "5            Stimuli Stage Stimuli Dur.  rcrtrange waitime  \n",
       "Trial Number                                                \n",
       "1                NaN   NaN           NaN     69,77      30  \n",
       "2                NaN   NaN           NaN     69,77      30  \n",
       "3                NaN   NaN           NaN     69,77      30  \n",
       "4                NaN   NaN           NaN     69,77      30  \n",
       "5                NaN   NaN           NaN     69,77      30  "
      ]
     },
     "execution_count": 6,
     "metadata": {},
     "output_type": "execute_result"
    }
   ],
   "source": [
    "Rat.drgs_trial_notes.head()"
   ]
  },
  {
   "cell_type": "markdown",
   "metadata": {},
   "source": [
    "collect spinal cord data"
   ]
  },
  {
   "cell_type": "code",
   "execution_count": 7,
   "metadata": {},
   "outputs": [
    {
     "data": {
      "text/plain": [
       "dict_keys(['DRGS_10_240911_155921', 'DRGS_11_240911_160638', 'DRGS_1_240911_144910', 'DRGS_2_240911_145808', 'DRGS_3_240911_150506', 'DRGS_4_240911_151137', 'DRGS_5_240911_151925', 'DRGS_6_240911_152522', 'DRGS_7_240911_153255', 'DRGS_8_240911_154319', 'DRGS_9_240911_155057', 'nninsertion_240911_130746', 'nn_seond_insertion_240911_144433', 'QST_2_240911_181341', 'VF_1_240911_164342', 'VF_2_240911_165039', 'VF_3_240911_165617', 'VF_4_240911_170446', 'VF_5_240911_171014', 'VF_6_240911_171505', 'VF_7_240911_180931'])"
      ]
     },
     "execution_count": 7,
     "metadata": {},
     "output_type": "execute_result"
    }
   ],
   "source": [
    "Rat.get_sc_data()\n",
    "Rat.sc_data.keys()"
   ]
  },
  {
   "cell_type": "markdown",
   "metadata": {},
   "source": [
    "### process data for import into Kilosort\n",
    "\n",
    "I will use a combination of `SpikeInterface` & `Kilosort.io.extractors` to get the data I need"
   ]
  },
  {
   "cell_type": "code",
   "execution_count": 8,
   "metadata": {},
   "outputs": [
    {
     "name": "stdout",
     "output_type": "stream",
     "text": [
      "Preparing SpikeInterface wrapper for rat DW323\n"
     ]
    }
   ],
   "source": [
    "signals = SpikeInterface_wrapper(Rat, SAVE_DIRECTORY)"
   ]
  },
  {
   "cell_type": "code",
   "execution_count": 9,
   "metadata": {},
   "outputs": [],
   "source": [
    "TRIAL_DRGS = \"DRGS_11_240911_160638\"\n",
    "TRIAL_VF = \"\""
   ]
  },
  {
   "cell_type": "code",
   "execution_count": 10,
   "metadata": {},
   "outputs": [
    {
     "data": {
      "text/plain": [
       "5\n",
       "Trial Number        11\n",
       "Condition         DRGS\n",
       "amp (uA)            70\n",
       "PW (us)            300\n",
       "Freq. (Hz)          20\n",
       "Dur. (s)           180\n",
       "Stimuli            NaN\n",
       "Stage              NaN\n",
       "Stimuli Dur.       NaN\n",
       "rcrtrange        69,77\n",
       "waitime             60\n",
       "Name: 11, dtype: object"
      ]
     },
     "execution_count": 10,
     "metadata": {},
     "output_type": "execute_result"
    }
   ],
   "source": [
    "Rat.drgs_trial_notes.loc[11].to_latex(os.path.join(SAVE_DIRECTORY, \"tables\", \"drgs_trial_notes.tex\"), \n",
    "                                        header=False,\n",
    "                                        )\n",
    "Rat.drgs_trial_notes.loc[11]"
   ]
  },
  {
   "cell_type": "markdown",
   "metadata": {},
   "source": [
    "## 📈 signals"
   ]
  },
  {
   "cell_type": "code",
   "execution_count": null,
   "metadata": {},
   "outputs": [],
   "source": [
    "Rat.intan_recordings_stream0[TRIAL_DRGS]"
   ]
  },
  {
   "cell_type": "code",
   "execution_count": null,
   "metadata": {},
   "outputs": [],
   "source": [
    "Rat.intan_recordings_stream1[TRIAL_DRGS]"
   ]
  },
  {
   "cell_type": "code",
   "execution_count": null,
   "metadata": {},
   "outputs": [],
   "source": [
    "Rat.intan_recordings_stream3[TRIAL_DRGS]"
   ]
  },
  {
   "cell_type": "code",
   "execution_count": null,
   "metadata": {},
   "outputs": [],
   "source": [
    "Rat.intan_recordings_stream4[TRIAL_DRGS]\n"
   ]
  },
  {
   "cell_type": "code",
   "execution_count": null,
   "metadata": {},
   "outputs": [],
   "source": [
    "Rat.sc_data[TRIAL_DRGS]"
   ]
  },
  {
   "cell_type": "code",
   "execution_count": null,
   "metadata": {},
   "outputs": [],
   "source": [
    "recording = Rat.sc_data[TRIAL_DRGS]"
   ]
  },
  {
   "cell_type": "code",
   "execution_count": null,
   "metadata": {},
   "outputs": [],
   "source": [
    "# Get all channel IDs\n",
    "channel_ids = recording.get_channel_ids()\n",
    "\n",
    "# Find the index of channel 'A-000'\n",
    "try:\n",
    "    channel_idx = list(channel_ids).index('A-000')\n",
    "except ValueError:\n",
    "    raise ValueError(\"Channel 'A-000' not found in the recording.\")\n",
    "\n",
    "channel_ids"
   ]
  },
  {
   "cell_type": "code",
   "execution_count": null,
   "metadata": {},
   "outputs": [],
   "source": [
    "# Retrieve gain and offset arrays for all channels\n",
    "gain_to_uV_array = recording.get_property('gain_to_uV')\n",
    "offset_to_uV_array = recording.get_property('offset_to_uV')\n",
    "\n",
    "# Get gain and offset for 'A-000' using the channel index\n",
    "gain_to_uV = gain_to_uV_array[channel_idx]\n",
    "offset_to_uV = offset_to_uV_array[channel_idx]\n",
    "print(gain_to_uV, offset_to_uV)"
   ]
  },
  {
   "cell_type": "code",
   "execution_count": null,
   "metadata": {},
   "outputs": [],
   "source": [
    "# Retrieve the trace for channel 'A-000'\n",
    "trace = recording.get_traces(channel_ids=['A-000'])  # to get only one datapoint, append with [0]\n"
   ]
  },
  {
   "cell_type": "code",
   "execution_count": null,
   "metadata": {},
   "outputs": [],
   "source": [
    "# Convert raw data to voltage\n",
    "voltage = trace * gain_to_uV + offset_to_uV\n",
    "voltage"
   ]
  },
  {
   "cell_type": "code",
   "execution_count": null,
   "metadata": {},
   "outputs": [],
   "source": [
    "# Get sampling frequency\n",
    "sampling_rate = recording.get_sampling_frequency()\n",
    "\n",
    "# Calculate time axis\n",
    "n_samples = len(voltage)\n",
    "time = np.arange(n_samples) / sampling_rate  # Time in seconds\n"
   ]
  },
  {
   "cell_type": "code",
   "execution_count": null,
   "metadata": {},
   "outputs": [],
   "source": [
    "plt.figure(figsize=(15, 5))\n",
    "plt.plot(time, voltage, label='Channel A-000')\n",
    "plt.xlabel('Time (s)')\n",
    "plt.ylabel('Voltage (µV)')\n",
    "plt.title('Voltage Trace for Channel A-000')\n",
    "plt.legend()\n",
    "plt.tight_layout()\n",
    "plt.show()\n"
   ]
  },
  {
   "cell_type": "code",
   "execution_count": null,
   "metadata": {},
   "outputs": [],
   "source": [
    "# plotting pre-drg stim window\n",
    "start_time = 0\n",
    "end_time = 25\n",
    "start_idx = int(start_time * sampling_rate)\n",
    "end_idx = int(end_time * sampling_rate)\n",
    "\n",
    "time_window = time[start_idx:end_idx]\n",
    "voltage_window = voltage[start_idx:end_idx]\n",
    "\n",
    "plt.figure(figsize=(15, 5))\n",
    "plt.plot(time_window, voltage_window, label='Channel A-000')\n",
    "plt.xlabel('Time (s)')\n",
    "plt.ylabel('Voltage (µV)')\n",
    "plt.title(f'Voltage Trace for Channel A-000 ({start_time}-{end_time} seconds)')\n",
    "plt.legend()\n",
    "plt.tight_layout()\n",
    "plt.show()"
   ]
  },
  {
   "cell_type": "code",
   "execution_count": null,
   "metadata": {},
   "outputs": [],
   "source": [
    "# plotting drg stim window\n",
    "start_time = 25\n",
    "end_time = 210\n",
    "start_idx = int(start_time * sampling_rate)\n",
    "end_idx = int(end_time * sampling_rate)\n",
    "\n",
    "time_window = time[start_idx:end_idx]\n",
    "voltage_window = voltage[start_idx:end_idx]\n",
    "\n",
    "plt.figure(figsize=(15, 5))\n",
    "plt.plot(time_window, voltage_window, label='Channel A-000')\n",
    "plt.xlabel('Time (s)')\n",
    "plt.ylabel('Voltage (µV)')\n",
    "plt.title(f'Voltage Trace for Channel A-000 ({start_time}-{end_time} seconds)')\n",
    "plt.legend()\n",
    "plt.tight_layout()\n",
    "plt.show()"
   ]
  },
  {
   "cell_type": "code",
   "execution_count": null,
   "metadata": {},
   "outputs": [],
   "source": [
    "# plotting post-drg stim window\n",
    "start_time = 265\n",
    "end_time = 300\n",
    "start_idx = int(start_time * sampling_rate)\n",
    "end_idx = int(end_time * sampling_rate)\n",
    "\n",
    "time_window = time[start_idx:end_idx]\n",
    "voltage_window = voltage[start_idx:end_idx]\n",
    "\n",
    "plt.figure(figsize=(15, 5))\n",
    "plt.plot(time_window, voltage_window, label='Channel A-000')\n",
    "plt.xlabel('Time (s)')\n",
    "plt.ylabel('Voltage (µV)')\n",
    "plt.title(f'Voltage Trace for Channel A-000 ({start_time}-{end_time} seconds)')\n",
    "plt.legend()\n",
    "plt.tight_layout()\n",
    "plt.show()"
   ]
  },
  {
   "cell_type": "code",
   "execution_count": null,
   "metadata": {},
   "outputs": [],
   "source": [
    "# # don't run yet - might have issues\n",
    "\n",
    "# import plotly.graph_objects as go\n",
    "# import numpy as np\n",
    "\n",
    "\n",
    "# # Create an interactive plot\n",
    "# fig = go.Figure()\n",
    "# fig.add_trace(go.Scatter(x=time.flatten(), y=voltage.flatten(), mode='lines', name='Sin(x)'))\n",
    "\n",
    "# # Show the interactive plot\n",
    "# fig.show()\n"
   ]
  },
  {
   "cell_type": "markdown",
   "metadata": {},
   "source": [
    "### analysis\n",
    "---"
   ]
  },
  {
   "cell_type": "markdown",
   "metadata": {},
   "source": [
    "### Identify Stimulation Times from Digital Channels"
   ]
  },
  {
   "cell_type": "markdown",
   "metadata": {},
   "source": [
    "Digital 1 - seems to be a start and end time to the experiment"
   ]
  },
  {
   "cell_type": "code",
   "execution_count": null,
   "metadata": {},
   "outputs": [],
   "source": [
    "# Extract the digital channel trace\n",
    "digital_trace = DW323.intan_recordings_stream4[TRIAL_DRGS].get_traces(channel_ids=['DIGITAL-IN-01'])\n",
    "plt.plot(digital_trace)"
   ]
  },
  {
   "cell_type": "markdown",
   "metadata": {},
   "source": [
    "Digital Input 2 - Entire Trace"
   ]
  },
  {
   "cell_type": "code",
   "execution_count": null,
   "metadata": {},
   "outputs": [],
   "source": [
    "# Extract the digital channel trace\n",
    "digital_trace = DW323.intan_recordings_stream4[TRIAL_DRGS].get_traces(channel_ids=['DIGITAL-IN-02'])\n",
    "plt.plot(digital_trace)"
   ]
  },
  {
   "cell_type": "markdown",
   "metadata": {},
   "source": [
    "Digital Input 2 - Pre-Stim Pulses\n",
    "\n",
    "each of these (9) stimulations has (10) pulse widths."
   ]
  },
  {
   "cell_type": "code",
   "execution_count": null,
   "metadata": {},
   "outputs": [],
   "source": [
    "plt.plot(digital_trace[150000:700000])"
   ]
  },
  {
   "cell_type": "markdown",
   "metadata": {},
   "source": [
    "Digital Input 2 - Spacing Between Stimulation"
   ]
  },
  {
   "cell_type": "markdown",
   "metadata": {},
   "source": [
    "There are about 60,000 samples in the digital trace. that corresponds to each stimulation occuring every (2) seconds. (60,000 samples / 30,000 samples/sec = 2 seconds)"
   ]
  },
  {
   "cell_type": "code",
   "execution_count": null,
   "metadata": {},
   "outputs": [],
   "source": [
    "plt.plot(digital_trace[159500:220000])"
   ]
  },
  {
   "cell_type": "markdown",
   "metadata": {},
   "source": [
    "Digital Input 2 - Intra-Stim Pulses\n",
    "\n",
    "there are (10) individual pulses across every 27,000 datapoints. \n",
    "27,000 / 9 = 3,000 samples between pulses.\n",
    "3,000 samples / 30,000 samples / sec = 0.1 seconds "
   ]
  },
  {
   "cell_type": "code",
   "execution_count": null,
   "metadata": {},
   "outputs": [],
   "source": [
    "plt.plot(digital_trace[159500:186600])"
   ]
  },
  {
   "cell_type": "markdown",
   "metadata": {},
   "source": [
    "Digital Input 2 - Individual Pulse Width"
   ]
  },
  {
   "cell_type": "markdown",
   "metadata": {},
   "source": [
    "Stimulation was occuring for (9) datapoints. Sampling frequency = 30kHz.  9 / 30E3 = 0.003 seconds = 300microseconds. This matches our expected pulse width."
   ]
  },
  {
   "cell_type": "code",
   "execution_count": null,
   "metadata": {},
   "outputs": [],
   "source": [
    "plt.plot(digital_trace[162504:162515])"
   ]
  },
  {
   "cell_type": "markdown",
   "metadata": {},
   "source": [
    "### Extract Stimulation Times:"
   ]
  },
  {
   "cell_type": "code",
   "execution_count": null,
   "metadata": {},
   "outputs": [],
   "source": [
    "# The digital trace is typically high (1) during a pulse and low (0) otherwise\n",
    "# We'll find the rising edges where the pulse starts\n",
    "\n",
    "# Threshold the digital trace to find rising edges\n",
    "threshold = 0.5  # Adjust based on your data\n",
    "digital_trace_binary = (digital_trace.astype(int) > threshold).astype(int).flatten()\n",
    "\n",
    "# Find indices where the digital trace goes from low to high (rising edge)\n",
    "rising_edges = np.where((digital_trace_binary[:-1] == 0) & (digital_trace_binary[1:] == 1))[0]\n",
    "\n",
    "# Convert indices to times\n",
    "sampling_rate = recording.get_sampling_frequency()\n",
    "stimulation_times = rising_edges / sampling_rate  # Times in seconds\n",
    "\n",
    "# Inspect the first 50 stimulation times\n",
    "stimulation_times[:100]"
   ]
  },
  {
   "cell_type": "code",
   "execution_count": null,
   "metadata": {},
   "outputs": [],
   "source": [
    "digital_trace.flatten()[159504:159515]"
   ]
  },
  {
   "cell_type": "code",
   "execution_count": null,
   "metadata": {},
   "outputs": [],
   "source": [
    "rising_edges"
   ]
  },
  {
   "cell_type": "markdown",
   "metadata": {},
   "source": [
    "### Perform Spike-Triggered Averaging (STA)"
   ]
  },
  {
   "cell_type": "markdown",
   "metadata": {},
   "source": [
    "Define the Time Window for STA:"
   ]
  },
  {
   "cell_type": "code",
   "execution_count": null,
   "metadata": {},
   "outputs": [],
   "source": [
    "# Define the time window around each stimulation pulse\n",
    "pre_time = -0.001  # setting it to negative so that I can delay the window 1 ms before the pulse\n",
    "post_time = 0.005  # 5 ms after the pulse\n",
    "window_samples = int((pre_time + post_time) * sampling_rate)\n",
    "window_samples"
   ]
  },
  {
   "cell_type": "code",
   "execution_count": null,
   "metadata": {},
   "outputs": [],
   "source": [
    "# # Parameters for the delayed window\n",
    "# delay_time = 0.002  # Delay of 2 ms after the rising edge\n",
    "# window_duration = 0.005  # Window length of 5 ms\n",
    "# delay_samples = int(delay_time * sampling_rate)  # Convert delay time to samples\n",
    "# window_samples = int(window_duration * sampling_rate)  # Convert window duration to samples\n",
    "# window_samples\n"
   ]
  },
  {
   "cell_type": "markdown",
   "metadata": {},
   "source": [
    "Extract Windows and Compute the Average:"
   ]
  },
  {
   "cell_type": "code",
   "execution_count": null,
   "metadata": {},
   "outputs": [],
   "source": [
    "# Choose the channel(s) to analyze (e.g., all channels or a specific one)\n",
    "# For this example, we'll use all channels except the digital channel\n",
    "channels_to_analyze = [\"A-000\"] # to analyze them all: [ch for ch in channel_ids]\n",
    "\n",
    "# Initialize an array to hold the extracted windows\n",
    "num_stims = len(stimulation_times)\n",
    "num_channels = len(channels_to_analyze)\n",
    "windows = np.zeros((num_stims, num_channels, window_samples))\n",
    "\n",
    "# Loop over each stimulation time and extract the window\n",
    "for i, stim_time in enumerate(stimulation_times):\n",
    "    # Convert time to sample index\n",
    "    stim_sample = int(stim_time * sampling_rate)\n",
    "    # Define window indices\n",
    "    start_sample = stim_sample - int(pre_time * sampling_rate)\n",
    "    end_sample = stim_sample + int(post_time * sampling_rate)\n",
    "    # Handle boundary conditions\n",
    "    if start_sample < 0 or end_sample > recording.get_num_frames():\n",
    "        continue  # Skip if window is out of bounds\n",
    "    # Extract the window for all channels\n",
    "    window = recording.get_traces(\n",
    "        channel_ids=channels_to_analyze,\n",
    "        start_frame=start_sample,\n",
    "        end_frame=end_sample\n",
    "    )\n",
    "    windows[i] = window.T  # Transpose to match dimensions\n"
   ]
  },
  {
   "cell_type": "markdown",
   "metadata": {},
   "source": [
    "Compute the Average ECAP:"
   ]
  },
  {
   "cell_type": "code",
   "execution_count": null,
   "metadata": {},
   "outputs": [],
   "source": [
    "# Compute the average across all stimulation windows\n",
    "average_ecap = np.mean(windows, axis=0)  # Shape: (num_channels, window_samples)\n",
    "average_ecap"
   ]
  },
  {
   "cell_type": "markdown",
   "metadata": {},
   "source": [
    "## Evoked Activity during DRG Stimulation\n",
    "\n",
    "when the DRG is stimulated, it sends an evoced compound action potential (ECAP) response to the spinal cord (SC) and an antidromic signal through the spinal nerve (SN). Literature demonstrates that at high frequencies, ECAP is attentuated significantly.  \n",
    "\n",
    "**Questions**\n",
    "\n",
    "1. "
   ]
  },
  {
   "cell_type": "markdown",
   "metadata": {},
   "source": [
    "### ECAP Attenuation\n",
    "\n",
    "DRG stim is a series of pulses. After each pulse, check to see the response of the nerve. If you do this over each window, you will get a response over time. This will be a TON of windows, so you will want to take an average per second. this is called spike trigger averaging. This is not a spike sorting approach, but instead, treats the signal collected from 1 channel as a representation of the *compound* activity\n"
   ]
  },
  {
   "cell_type": "markdown",
   "metadata": {},
   "source": [
    "## "
   ]
  },
  {
   "cell_type": "markdown",
   "metadata": {},
   "source": [
    "## ECAP Recovery After DRG Stimulation\n",
    "\n",
    "it is shown that DRG stimulation increate the activation threshold (AT)"
   ]
  },
  {
   "cell_type": "code",
   "execution_count": null,
   "metadata": {},
   "outputs": [],
   "source": []
  },
  {
   "cell_type": "markdown",
   "metadata": {},
   "source": [
    "## Spike Tracking"
   ]
  },
  {
   "cell_type": "markdown",
   "metadata": {},
   "source": [
    "### Spike Tracking\n",
    "\n",
    "\n",
    "**Questions**\n",
    "\n",
    "Perform Spike Sorting on Onset of Stimulation to End of Stimulation. Look at evoked responses over time. Take all of the 32 channels of data from SC. and the amplifier data from B. "
   ]
  },
  {
   "cell_type": "markdown",
   "metadata": {},
   "source": [
    "# Von Frey Analysis on DW 322"
   ]
  },
  {
   "cell_type": "markdown",
   "metadata": {},
   "source": [
    "### Spike Tracking\n",
    "\n",
    "\n",
    "**Questions**\n",
    "\n",
    "Perform Spike Sorting on Onset of Stimulation to End of Stimulation. Look at evoked responses over time. Take all of the 32 channels of data from SC. and the amplifier data from B. "
   ]
  },
  {
   "cell_type": "code",
   "execution_count": null,
   "metadata": {},
   "outputs": [],
   "source": []
  },
  {
   "cell_type": "markdown",
   "metadata": {},
   "source": []
  },
  {
   "cell_type": "code",
   "execution_count": null,
   "metadata": {},
   "outputs": [],
   "source": [
    "# analysis.save_spinalcord_data_to_binary(TRIAL_NAMES=[\"VF_DRG_1_241115_145435\",\n",
    "#                                                      \"VF_DRG_1_241115_145435\",\n",
    "#                                                      \"VF_DRG_1_241115_145739\",\n",
    "#                                                      \"VF_DRG_4_241115_153512\",\n",
    "#                                                      \"VF_DRG_4_241115_170440\",\n",
    "#                                                      ])\n",
    "signals.save_spinalcord_data_to_binary()"
   ]
  }
 ],
 "metadata": {
  "kernelspec": {
   "display_name": "kilosort",
   "language": "python",
   "name": "python3"
  },
  "language_info": {
   "codemirror_mode": {
    "name": "ipython",
    "version": 3
   },
   "file_extension": ".py",
   "mimetype": "text/x-python",
   "name": "python",
   "nbconvert_exporter": "python",
   "pygments_lexer": "ipython3",
   "version": "3.9.20"
  }
 },
 "nbformat": 4,
 "nbformat_minor": 2
}
