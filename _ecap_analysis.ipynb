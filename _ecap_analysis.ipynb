{
 "cells": [
  {
   "cell_type": "markdown",
   "metadata": {},
   "source": [
    "<!-- Notebook Header Start -->\n",
    "\n",
    "<h1 align=\"center\">Analysis of Evoked Compount Action Potential</h1>\n",
    "\n",
    "<p align=\"center\">\n",
    "  <strong>Author:</strong> Karl Bates<br>\n",
    "  <strong>Date:</strong> 2024-11-18<br>\n",
    "  <strong>Affiliation:</strong> Carnegie Mellon University, Cohen-Karni Lab  || Neuromechatronics Lab\n",
    "</p>\n",
    "\n",
    "---\n",
    "\n",
    "\n",
    "## 📊 Notebook Outline\n",
    "\n",
    "* **Import test data from Intan RHD format to SpikeInterface**\n",
    "* **Perform preprocessing, ECAP analysis, etc, in SpikeInterface**\n",
    "\n",
    "\n",
    "\n",
    "## 📚 References & Additional Resources\n",
    "\n",
    "- [Kilosort4 docs](https://github.com/MouseLand/Kilosort/tree/main)\n",
    "- [SpikeInterface docs](https://github.com/SpikeInterface)\n",
    "\n",
    "---\n",
    "\n",
    "<!-- Notebook Header End -->\n"
   ]
  },
  {
   "cell_type": "markdown",
   "metadata": {},
   "source": [
    "# 📈 Importing Libraries & Data\n",
    "---"
   ]
  },
  {
   "cell_type": "markdown",
   "metadata": {},
   "source": [
    "### imports"
   ]
  },
  {
   "cell_type": "code",
   "execution_count": null,
   "metadata": {},
   "outputs": [],
   "source": [
    "# standard imports\n",
    "from pathlib import Path\n",
    "import os\n",
    "import pandas as pd\n",
    "import numpy as np\n",
    "from kilosort import io\n",
    "import matplotlib.pyplot as plt\n",
    "\n",
    "# custom imports\n",
    "from automations import RM1\n",
    "from automations import kilosort_wrapper"
   ]
  },
  {
   "cell_type": "markdown",
   "metadata": {},
   "source": [
    "### probe definition\n",
    "\n",
    "Using the spreadsheet, `Adapter_pinout.xlsx`, the contact ID's can be traced to the \"device channel\", and we can assign them on the probe. \n",
    "\n",
    "In this case, our channel indices correspond to the aux inputs to the intan headstage.\n",
    "\n",
    "refer to the notebook, `RM1_pipeline.ipynb` within  the `dev_notebook` folder"
   ]
  },
  {
   "cell_type": "code",
   "execution_count": null,
   "metadata": {},
   "outputs": [],
   "source": [
    "# Path definitions\n",
    "SAVE_DIRECTORY = Path(fr'D:\\Data\\CMU.80 Data\\88 Analyzed Data\\88.002 Multi rat kilosort export')  # NOTE Specify the path where the data will be copied to, and where Kilosort4 results will be saved.\n",
    "DATA_DIRECTORY = Path(fr'D:\\Data\\CMU.80 Data\\82 External Data\\82.002 Sample Rat Data from RM1 Project')  # NOTE Specify the path where the data will be copied to, and where Kilosort4 results will be saved.\n",
    "# Create path if it doesn't exist\n",
    "DATA_DIRECTORY.mkdir(parents=True, exist_ok=True)\n",
    "SAVE_DIRECTORY.mkdir(parents=True, exist_ok=True)\n",
    "PROBE_DIRECTORY = Path(r'D:\\Data\\CMU.80 Data\\88 Analyzed Data\\88.001 A1x32-Edge-5mm-20-177-A32\\A1x32-Edge-5mm-20-177-A32.prb')"
   ]
  },
  {
   "cell_type": "markdown",
   "metadata": {},
   "source": [
    "# 🔁 Example: Review of Every Trial in a Rat of Choice\n",
    "\n",
    "This is used to determine which trial is most likely to produce good units in a spike sorting analysis"
   ]
  },
  {
   "cell_type": "markdown",
   "metadata": {},
   "source": [
    "### filepath definitions"
   ]
  },
  {
   "cell_type": "code",
   "execution_count": null,
   "metadata": {},
   "outputs": [],
   "source": [
    "channel_mapping = pd.read_excel(r\"D:\\Data\\CMU.80 Data\\88 Analyzed Data\\88.001 A1x32-Edge-5mm-20-177-A32\\Adapter_pinout.xlsx\",\n",
    "                                sheet_name=\"summary\",\n",
    "                                header=2).iloc[:,[8,10,12,14]]\n",
    "channel_mapping.head(5)"
   ]
  },
  {
   "cell_type": "markdown",
   "metadata": {},
   "source": [
    "### importing the rat"
   ]
  },
  {
   "cell_type": "code",
   "execution_count": null,
   "metadata": {},
   "outputs": [],
   "source": [
    "DW323 = RM1.Rat(DATA_DIRECTORY, PROBE_DIRECTORY, \"DW323\")"
   ]
  },
  {
   "cell_type": "code",
   "execution_count": null,
   "metadata": {},
   "outputs": [],
   "source": [
    "# for example, pulling the amp data from the 7th DRGS trial (only works for DW333)\n",
    "# DW322.mat_files_dict[\"VF_DRG__145435\"][\"AM\"][\"amp\"][0, 0][0, 0]"
   ]
  },
  {
   "cell_type": "code",
   "execution_count": null,
   "metadata": {},
   "outputs": [],
   "source": [
    "DW323.qst_experiment_notes"
   ]
  },
  {
   "cell_type": "code",
   "execution_count": null,
   "metadata": {},
   "outputs": [],
   "source": [
    "DW323.drgs_trial_notes.head()"
   ]
  },
  {
   "cell_type": "code",
   "execution_count": null,
   "metadata": {},
   "outputs": [],
   "source": [
    "DW323.get_sc_data()\n",
    "DW323.sc_data"
   ]
  },
  {
   "cell_type": "markdown",
   "metadata": {},
   "source": [
    "### process data for import into Kilosort\n",
    "\n",
    "I will use a combination of `SpikeInterface` & `Kilosort.io.extractors` to get the data I need"
   ]
  },
  {
   "cell_type": "code",
   "execution_count": null,
   "metadata": {},
   "outputs": [],
   "source": [
    "analysis = kilosort_wrapper(DW323, SAVE_DIRECTORY)"
   ]
  },
  {
   "cell_type": "code",
   "execution_count": null,
   "metadata": {},
   "outputs": [],
   "source": [
    "# analysis.save_spinalcord_data_to_binary(TRIAL_NAMES=[\"VF_DRG_1_241115_145435\",\n",
    "#                                                      \"VF_DRG_1_241115_145435\",\n",
    "#                                                      \"VF_DRG_1_241115_145739\",\n",
    "#                                                      \"VF_DRG_4_241115_153512\",\n",
    "#                                                      \"VF_DRG_4_241115_170440\",\n",
    "#                                                      ])\n",
    "analysis.save_spinalcord_data_to_binary()\n",
    "analysis.run_spinalcord_kilosort()"
   ]
  },
  {
   "cell_type": "markdown",
   "metadata": {},
   "source": [
    "# 🐁 Analysis DRG Stimulation Trial on Rat DW323\n",
    "---"
   ]
  },
  {
   "cell_type": "markdown",
   "metadata": {},
   "source": [
    "### defining filepaths"
   ]
  },
  {
   "cell_type": "code",
   "execution_count": null,
   "metadata": {},
   "outputs": [],
   "source": [
    "SAVE_DIRECTORY = Path(fr'D:\\Data\\CMU.80 Data\\88 Analyzed Data\\88.003 Initial Analysis, DW323')  # NOTE Specify the path where the data will be copied to, and where Kilosort4 results will be saved.\n",
    "DATA_DIRECTORY = Path(fr'D:\\Data\\CMU.80 Data\\82 External Data\\82.002 Sample Rat Data from RM1 Project')  # NOTE Specify the path where the data will be copied to, and where Kilosort4 results will be saved.\n",
    "# Create path if it doesn't exist\n",
    "DATA_DIRECTORY.mkdir(parents=True, exist_ok=True)\n",
    "SAVE_DIRECTORY.mkdir(parents=True, exist_ok=True)"
   ]
  },
  {
   "cell_type": "code",
   "execution_count": null,
   "metadata": {},
   "outputs": [],
   "source": [
    "DW323 = RM1.Rat(DATA_DIRECTORY, PROBE_DIRECTORY, \"DW323\")\n",
    "DW323.get_sc_data()"
   ]
  },
  {
   "cell_type": "markdown",
   "metadata": {},
   "source": [
    "## 🔬 Exploratory Data Analysis (EDA)\n",
    "\n",
    "\n",
    "see paper for more information. for this experiment, I elected to start my analysis with trial: \n",
    "\n",
    "**Rat: DW322 | Trial: DRGS_1_240918_125448**"
   ]
  },
  {
   "cell_type": "code",
   "execution_count": null,
   "metadata": {},
   "outputs": [],
   "source": [
    "DW323.sc_data.keys()"
   ]
  },
  {
   "cell_type": "code",
   "execution_count": null,
   "metadata": {},
   "outputs": [],
   "source": [
    "TRIAL_DRGS = \"DRGS_11_240911_160638\"\n",
    "TRIAL_VF = \"\""
   ]
  },
  {
   "cell_type": "markdown",
   "metadata": {},
   "source": [
    "## 📑 metadata - DRGS"
   ]
  },
  {
   "cell_type": "code",
   "execution_count": null,
   "metadata": {},
   "outputs": [],
   "source": [
    "DW323.drgs_experiment_notes"
   ]
  },
  {
   "cell_type": "code",
   "execution_count": null,
   "metadata": {},
   "outputs": [],
   "source": [
    "DW323.drgs_trial_notes.loc[11].to_latex(r\"D:\\Data\\CMU.80 Data\\88 Analyzed Data\\88.003 Initial Analysis, DW323\\tables\\drgs_trial_notes.tex\",\n",
    "                                        header=False,\n",
    "                                        )\n",
    "DW323.drgs_trial_notes.loc[11]"
   ]
  },
  {
   "cell_type": "markdown",
   "metadata": {},
   "source": [
    "## 📑 metadata - DRGS"
   ]
  },
  {
   "cell_type": "code",
   "execution_count": null,
   "metadata": {},
   "outputs": [],
   "source": [
    "DW323.qst_experiment_notes"
   ]
  },
  {
   "cell_type": "code",
   "execution_count": null,
   "metadata": {},
   "outputs": [],
   "source": [
    "DW323.qst_trial_notes"
   ]
  },
  {
   "cell_type": "markdown",
   "metadata": {},
   "source": [
    "## 📈 signals"
   ]
  },
  {
   "cell_type": "code",
   "execution_count": null,
   "metadata": {},
   "outputs": [],
   "source": [
    "DW323.intan_recordings_stream0[TRIAL_DRGS]"
   ]
  },
  {
   "cell_type": "code",
   "execution_count": null,
   "metadata": {},
   "outputs": [],
   "source": [
    "DW323.intan_recordings_stream1[TRIAL_DRGS]"
   ]
  },
  {
   "cell_type": "code",
   "execution_count": null,
   "metadata": {},
   "outputs": [],
   "source": [
    "DW323.intan_recordings_stream3[TRIAL_DRGS]"
   ]
  },
  {
   "cell_type": "code",
   "execution_count": null,
   "metadata": {},
   "outputs": [],
   "source": [
    "DW323.intan_recordings_stream4[TRIAL_DRGS]\n"
   ]
  },
  {
   "cell_type": "code",
   "execution_count": null,
   "metadata": {},
   "outputs": [],
   "source": [
    "DW323.sc_data[TRIAL_DRGS]"
   ]
  },
  {
   "cell_type": "code",
   "execution_count": null,
   "metadata": {},
   "outputs": [],
   "source": [
    "recording = DW323.sc_data[TRIAL_DRGS]"
   ]
  },
  {
   "cell_type": "code",
   "execution_count": null,
   "metadata": {},
   "outputs": [],
   "source": [
    "# Get all channel IDs\n",
    "channel_ids = recording.get_channel_ids()\n",
    "\n",
    "# Find the index of channel 'A-000'\n",
    "try:\n",
    "    channel_idx = list(channel_ids).index('A-000')\n",
    "except ValueError:\n",
    "    raise ValueError(\"Channel 'A-000' not found in the recording.\")\n",
    "\n",
    "channel_ids"
   ]
  },
  {
   "cell_type": "code",
   "execution_count": null,
   "metadata": {},
   "outputs": [],
   "source": [
    "# Retrieve gain and offset arrays for all channels\n",
    "gain_to_uV_array = recording.get_property('gain_to_uV')\n",
    "offset_to_uV_array = recording.get_property('offset_to_uV')\n",
    "\n",
    "# Get gain and offset for 'A-000' using the channel index\n",
    "gain_to_uV = gain_to_uV_array[channel_idx]\n",
    "offset_to_uV = offset_to_uV_array[channel_idx]\n",
    "print(gain_to_uV, offset_to_uV)"
   ]
  },
  {
   "cell_type": "code",
   "execution_count": null,
   "metadata": {},
   "outputs": [],
   "source": [
    "# Retrieve the trace for channel 'A-000'\n",
    "trace = recording.get_traces(channel_ids=['A-000'])  # to get only one datapoint, append with [0]\n"
   ]
  },
  {
   "cell_type": "code",
   "execution_count": null,
   "metadata": {},
   "outputs": [],
   "source": [
    "# Convert raw data to voltage\n",
    "voltage = trace * gain_to_uV + offset_to_uV\n",
    "voltage"
   ]
  },
  {
   "cell_type": "code",
   "execution_count": null,
   "metadata": {},
   "outputs": [],
   "source": [
    "# Get sampling frequency\n",
    "sampling_rate = recording.get_sampling_frequency()\n",
    "\n",
    "# Calculate time axis\n",
    "n_samples = len(voltage)\n",
    "time = np.arange(n_samples) / sampling_rate  # Time in seconds\n"
   ]
  },
  {
   "cell_type": "code",
   "execution_count": null,
   "metadata": {},
   "outputs": [],
   "source": [
    "plt.figure(figsize=(15, 5))\n",
    "plt.plot(time, voltage, label='Channel A-000')\n",
    "plt.xlabel('Time (s)')\n",
    "plt.ylabel('Voltage (µV)')\n",
    "plt.title('Voltage Trace for Channel A-000')\n",
    "plt.legend()\n",
    "plt.tight_layout()\n",
    "plt.show()\n"
   ]
  },
  {
   "cell_type": "code",
   "execution_count": null,
   "metadata": {},
   "outputs": [],
   "source": [
    "# plotting pre-drg stim window\n",
    "start_time = 0\n",
    "end_time = 25\n",
    "start_idx = int(start_time * sampling_rate)\n",
    "end_idx = int(end_time * sampling_rate)\n",
    "\n",
    "time_window = time[start_idx:end_idx]\n",
    "voltage_window = voltage[start_idx:end_idx]\n",
    "\n",
    "plt.figure(figsize=(15, 5))\n",
    "plt.plot(time_window, voltage_window, label='Channel A-000')\n",
    "plt.xlabel('Time (s)')\n",
    "plt.ylabel('Voltage (µV)')\n",
    "plt.title(f'Voltage Trace for Channel A-000 ({start_time}-{end_time} seconds)')\n",
    "plt.legend()\n",
    "plt.tight_layout()\n",
    "plt.show()"
   ]
  },
  {
   "cell_type": "code",
   "execution_count": null,
   "metadata": {},
   "outputs": [],
   "source": [
    "# plotting drg stim window\n",
    "start_time = 25\n",
    "end_time = 210\n",
    "start_idx = int(start_time * sampling_rate)\n",
    "end_idx = int(end_time * sampling_rate)\n",
    "\n",
    "time_window = time[start_idx:end_idx]\n",
    "voltage_window = voltage[start_idx:end_idx]\n",
    "\n",
    "plt.figure(figsize=(15, 5))\n",
    "plt.plot(time_window, voltage_window, label='Channel A-000')\n",
    "plt.xlabel('Time (s)')\n",
    "plt.ylabel('Voltage (µV)')\n",
    "plt.title(f'Voltage Trace for Channel A-000 ({start_time}-{end_time} seconds)')\n",
    "plt.legend()\n",
    "plt.tight_layout()\n",
    "plt.show()"
   ]
  },
  {
   "cell_type": "code",
   "execution_count": null,
   "metadata": {},
   "outputs": [],
   "source": [
    "# plotting post-drg stim window\n",
    "start_time = 265\n",
    "end_time = 300\n",
    "start_idx = int(start_time * sampling_rate)\n",
    "end_idx = int(end_time * sampling_rate)\n",
    "\n",
    "time_window = time[start_idx:end_idx]\n",
    "voltage_window = voltage[start_idx:end_idx]\n",
    "\n",
    "plt.figure(figsize=(15, 5))\n",
    "plt.plot(time_window, voltage_window, label='Channel A-000')\n",
    "plt.xlabel('Time (s)')\n",
    "plt.ylabel('Voltage (µV)')\n",
    "plt.title(f'Voltage Trace for Channel A-000 ({start_time}-{end_time} seconds)')\n",
    "plt.legend()\n",
    "plt.tight_layout()\n",
    "plt.show()"
   ]
  },
  {
   "cell_type": "code",
   "execution_count": null,
   "metadata": {},
   "outputs": [],
   "source": [
    "# # don't run yet - might have issues\n",
    "\n",
    "# import plotly.graph_objects as go\n",
    "# import numpy as np\n",
    "\n",
    "\n",
    "# # Create an interactive plot\n",
    "# fig = go.Figure()\n",
    "# fig.add_trace(go.Scatter(x=time.flatten(), y=voltage.flatten(), mode='lines', name='Sin(x)'))\n",
    "\n",
    "# # Show the interactive plot\n",
    "# fig.show()\n"
   ]
  },
  {
   "cell_type": "markdown",
   "metadata": {},
   "source": [
    "### analysis\n",
    "---"
   ]
  },
  {
   "cell_type": "markdown",
   "metadata": {},
   "source": [
    "### Identify Stimulation Times from Digital Channels"
   ]
  },
  {
   "cell_type": "markdown",
   "metadata": {},
   "source": [
    "Digital 1 - seems to be a start and end time to the experiment"
   ]
  },
  {
   "cell_type": "code",
   "execution_count": null,
   "metadata": {},
   "outputs": [],
   "source": [
    "# Extract the digital channel trace\n",
    "digital_trace = DW323.intan_recordings_stream4[TRIAL_DRGS].get_traces(channel_ids=['DIGITAL-IN-01'])\n",
    "plt.plot(digital_trace)"
   ]
  },
  {
   "cell_type": "markdown",
   "metadata": {},
   "source": [
    "Digital Input 2 - Entire Trace"
   ]
  },
  {
   "cell_type": "code",
   "execution_count": null,
   "metadata": {},
   "outputs": [],
   "source": [
    "# Extract the digital channel trace\n",
    "digital_trace = DW323.intan_recordings_stream4[TRIAL_DRGS].get_traces(channel_ids=['DIGITAL-IN-02'])\n",
    "plt.plot(digital_trace)"
   ]
  },
  {
   "cell_type": "markdown",
   "metadata": {},
   "source": [
    "Digital Input 2 - Pre-Stim Pulses\n",
    "\n",
    "each of these (9) stimulations has (10) pulse widths."
   ]
  },
  {
   "cell_type": "code",
   "execution_count": null,
   "metadata": {},
   "outputs": [],
   "source": [
    "plt.plot(digital_trace[150000:700000])"
   ]
  },
  {
   "cell_type": "markdown",
   "metadata": {},
   "source": [
    "Digital Input 2 - Spacing Between Stimulation"
   ]
  },
  {
   "cell_type": "markdown",
   "metadata": {},
   "source": [
    "There are about 60,000 samples in the digital trace. that corresponds to each stimulation occuring every (2) seconds. (60,000 samples / 30,000 samples/sec = 2 seconds)"
   ]
  },
  {
   "cell_type": "code",
   "execution_count": null,
   "metadata": {},
   "outputs": [],
   "source": [
    "plt.plot(digital_trace[159500:220000])"
   ]
  },
  {
   "cell_type": "markdown",
   "metadata": {},
   "source": [
    "Digital Input 2 - Intra-Stim Pulses\n",
    "\n",
    "there are (10) individual pulses across every 27,000 datapoints. \n",
    "27,000 / 9 = 3,000 samples between pulses.\n",
    "3,000 samples / 30,000 samples / sec = 0.1 seconds "
   ]
  },
  {
   "cell_type": "code",
   "execution_count": null,
   "metadata": {},
   "outputs": [],
   "source": [
    "plt.plot(digital_trace[159500:186600])"
   ]
  },
  {
   "cell_type": "markdown",
   "metadata": {},
   "source": [
    "Digital Input 2 - Individual Pulse Width"
   ]
  },
  {
   "cell_type": "markdown",
   "metadata": {},
   "source": [
    "Stimulation was occuring for (9) datapoints. Sampling frequency = 30kHz.  9 / 30E3 = 0.003 seconds = 300microseconds. This matches our expected pulse width."
   ]
  },
  {
   "cell_type": "code",
   "execution_count": null,
   "metadata": {},
   "outputs": [],
   "source": [
    "plt.plot(digital_trace[162504:162515])"
   ]
  },
  {
   "cell_type": "markdown",
   "metadata": {},
   "source": [
    "### Extract Stimulation Times:"
   ]
  },
  {
   "cell_type": "code",
   "execution_count": null,
   "metadata": {},
   "outputs": [],
   "source": [
    "# The digital trace is typically high (1) during a pulse and low (0) otherwise\n",
    "# We'll find the rising edges where the pulse starts\n",
    "\n",
    "# Threshold the digital trace to find rising edges\n",
    "threshold = 0.5  # Adjust based on your data\n",
    "digital_trace_binary = (digital_trace.astype(int) > threshold).astype(int).flatten()\n",
    "\n",
    "# Find indices where the digital trace goes from low to high (rising edge)\n",
    "rising_edges = np.where((digital_trace_binary[:-1] == 0) & (digital_trace_binary[1:] == 1))[0]\n",
    "\n",
    "# Convert indices to times\n",
    "sampling_rate = recording.get_sampling_frequency()\n",
    "stimulation_times = rising_edges / sampling_rate  # Times in seconds\n",
    "\n",
    "# Inspect the first 50 stimulation times\n",
    "stimulation_times[:100]"
   ]
  },
  {
   "cell_type": "code",
   "execution_count": null,
   "metadata": {},
   "outputs": [],
   "source": [
    "digital_trace.flatten()[159504:159515]"
   ]
  },
  {
   "cell_type": "code",
   "execution_count": null,
   "metadata": {},
   "outputs": [],
   "source": [
    "rising_edges"
   ]
  },
  {
   "cell_type": "markdown",
   "metadata": {},
   "source": [
    "### Perform Spike-Triggered Averaging (STA)"
   ]
  },
  {
   "cell_type": "markdown",
   "metadata": {},
   "source": [
    "Define the Time Window for STA:"
   ]
  },
  {
   "cell_type": "code",
   "execution_count": null,
   "metadata": {},
   "outputs": [],
   "source": [
    "# Define the time window around each stimulation pulse\n",
    "pre_time = -0.001  # setting it to negative so that I can delay the window 1 ms before the pulse\n",
    "post_time = 0.005  # 5 ms after the pulse\n",
    "window_samples = int((pre_time + post_time) * sampling_rate)\n",
    "window_samples"
   ]
  },
  {
   "cell_type": "code",
   "execution_count": null,
   "metadata": {},
   "outputs": [],
   "source": [
    "# # Parameters for the delayed window\n",
    "# delay_time = 0.002  # Delay of 2 ms after the rising edge\n",
    "# window_duration = 0.005  # Window length of 5 ms\n",
    "# delay_samples = int(delay_time * sampling_rate)  # Convert delay time to samples\n",
    "# window_samples = int(window_duration * sampling_rate)  # Convert window duration to samples\n",
    "# window_samples\n"
   ]
  },
  {
   "cell_type": "markdown",
   "metadata": {},
   "source": [
    "Extract Windows and Compute the Average:"
   ]
  },
  {
   "cell_type": "code",
   "execution_count": null,
   "metadata": {},
   "outputs": [],
   "source": [
    "# Choose the channel(s) to analyze (e.g., all channels or a specific one)\n",
    "# For this example, we'll use all channels except the digital channel\n",
    "channels_to_analyze = [\"A-000\"] # to analyze them all: [ch for ch in channel_ids]\n",
    "\n",
    "# Initialize an array to hold the extracted windows\n",
    "num_stims = len(stimulation_times)\n",
    "num_channels = len(channels_to_analyze)\n",
    "windows = np.zeros((num_stims, num_channels, window_samples))\n",
    "\n",
    "# Loop over each stimulation time and extract the window\n",
    "for i, stim_time in enumerate(stimulation_times):\n",
    "    # Convert time to sample index\n",
    "    stim_sample = int(stim_time * sampling_rate)\n",
    "    # Define window indices\n",
    "    start_sample = stim_sample - int(pre_time * sampling_rate)\n",
    "    end_sample = stim_sample + int(post_time * sampling_rate)\n",
    "    # Handle boundary conditions\n",
    "    if start_sample < 0 or end_sample > recording.get_num_frames():\n",
    "        continue  # Skip if window is out of bounds\n",
    "    # Extract the window for all channels\n",
    "    window = recording.get_traces(\n",
    "        channel_ids=channels_to_analyze,\n",
    "        start_frame=start_sample,\n",
    "        end_frame=end_sample\n",
    "    )\n",
    "    windows[i] = window.T  # Transpose to match dimensions\n"
   ]
  },
  {
   "cell_type": "markdown",
   "metadata": {},
   "source": [
    "Compute the Average ECAP:"
   ]
  },
  {
   "cell_type": "code",
   "execution_count": null,
   "metadata": {},
   "outputs": [],
   "source": [
    "# Compute the average across all stimulation windows\n",
    "average_ecap = np.mean(windows, axis=0)  # Shape: (num_channels, window_samples)\n",
    "average_ecap"
   ]
  },
  {
   "cell_type": "markdown",
   "metadata": {},
   "source": [
    "## Evoked Activity during DRG Stimulation\n",
    "\n",
    "when the DRG is stimulated, it sends an evoced compound action potential (ECAP) response to the spinal cord (SC) and an antidromic signal through the spinal nerve (SN). Literature demonstrates that at high frequencies, ECAP is attentuated significantly.  \n",
    "\n",
    "**Questions**\n",
    "\n",
    "1. "
   ]
  },
  {
   "cell_type": "markdown",
   "metadata": {},
   "source": [
    "### ECAP Attenuation\n",
    "\n",
    "DRG stim is a series of pulses. After each pulse, check to see the response of the nerve. If you do this over each window, you will get a response over time. This will be a TON of windows, so you will want to take an average per second. this is called spike trigger averaging. This is not a spike sorting approach, but instead, treats the signal collected from 1 channel as a representation of the *compound* activity\n"
   ]
  },
  {
   "cell_type": "markdown",
   "metadata": {},
   "source": [
    "## "
   ]
  },
  {
   "cell_type": "markdown",
   "metadata": {},
   "source": [
    "## ECAP Recovery After DRG Stimulation\n",
    "\n",
    "it is shown that DRG stimulation increate the activation threshold (AT)"
   ]
  },
  {
   "cell_type": "code",
   "execution_count": null,
   "metadata": {},
   "outputs": [],
   "source": []
  },
  {
   "cell_type": "markdown",
   "metadata": {},
   "source": [
    "## Spike Tracking"
   ]
  },
  {
   "cell_type": "markdown",
   "metadata": {},
   "source": [
    "### Spike Tracking\n",
    "\n",
    "\n",
    "**Questions**\n",
    "\n",
    "Perform Spike Sorting on Onset of Stimulation to End of Stimulation. Look at evoked responses over time. Take all of the 32 channels of data from SC. and the amplifier data from B. "
   ]
  },
  {
   "cell_type": "markdown",
   "metadata": {},
   "source": [
    "# Von Frey Analysis on DW 322"
   ]
  },
  {
   "cell_type": "markdown",
   "metadata": {},
   "source": [
    "### Spike Tracking\n",
    "\n",
    "\n",
    "**Questions**\n",
    "\n",
    "Perform Spike Sorting on Onset of Stimulation to End of Stimulation. Look at evoked responses over time. Take all of the 32 channels of data from SC. and the amplifier data from B. "
   ]
  },
  {
   "cell_type": "code",
   "execution_count": null,
   "metadata": {},
   "outputs": [],
   "source": []
  },
  {
   "cell_type": "markdown",
   "metadata": {},
   "source": []
  }
 ],
 "metadata": {
  "kernelspec": {
   "display_name": "kilosort",
   "language": "python",
   "name": "python3"
  },
  "language_info": {
   "codemirror_mode": {
    "name": "ipython",
    "version": 3
   },
   "file_extension": ".py",
   "mimetype": "text/x-python",
   "name": "python",
   "nbconvert_exporter": "python",
   "pygments_lexer": "ipython3",
   "version": "3.9.20"
  }
 },
 "nbformat": 4,
 "nbformat_minor": 2
}
