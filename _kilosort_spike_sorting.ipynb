{
 "cells": [
  {
   "cell_type": "markdown",
   "metadata": {},
   "source": [
    "<!-- Notebook Header Start -->\n",
    "\n",
    "<h1 align=\"center\">Running Kilosort & Analyzing Data</h1>\n",
    "\n",
    "<p align=\"center\">\n",
    "  <strong>Author:</strong> Karl Bates<br>\n",
    "  <strong>Date:</strong> 2024-11-18<br>\n",
    "  <strong>Affiliation:</strong> Carnegie Mellon University, Cohen-Karni Lab  || Neuromechatronics Lab\n",
    "</p>\n",
    "\n",
    "---\n",
    "\n",
    "\n",
    "## 📊 Notebook Outline\n",
    "\n",
    "* **Importing binary files from SpikeInterface**\n",
    "* **Running Kilosort spike sorting on the datasets of interest**\n",
    "* **Importing the results of Kilosort back into Python for analysis / plotting**\n",
    "\n",
    "\n",
    "## 📚 References & Additional Resources\n",
    "\n",
    "- [Kilosort4 docs](https://github.com/MouseLand/Kilosort/tree/main)\n",
    "- [SpikeInterface docs](https://github.com/SpikeInterface)\n",
    "\n",
    "---\n",
    "\n",
    "<!-- Notebook Header End -->\n"
   ]
  },
  {
   "cell_type": "markdown",
   "metadata": {},
   "source": [
    "# 📈 Importing Libraries & Data\n",
    "---"
   ]
  },
  {
   "cell_type": "markdown",
   "metadata": {},
   "source": [
    "### import libraries"
   ]
  },
  {
   "cell_type": "code",
   "execution_count": null,
   "metadata": {},
   "outputs": [],
   "source": [
    "# standard imports\n",
    "from pathlib import Path\n",
    "import os\n",
    "import pandas as pd\n",
    "import numpy as np\n",
    "from kilosort import io\n",
    "import matplotlib.pyplot as plt\n",
    "\n",
    "# custom imports\n",
    "from automations import RM1\n",
    "from automations import SpikeInterface_wrapper\n",
    "from automations import Kilosort_wrapper\n",
    "from automations import plots"
   ]
  },
  {
   "cell_type": "markdown",
   "metadata": {},
   "source": [
    "### filepath & probe definition\n",
    "\n",
    "Using the spreadsheet, `Adapter_pinout.xlsx`, the contact ID's can be traced to the \"device channel\", and we can assign them on the probe. \n",
    "\n",
    "In this case, our channel indices correspond to the aux inputs to the intan headstage.\n",
    "\n",
    "refer to the notebook, `RM1_pipeline.ipynb` within  the `dev_notebook` folder"
   ]
  },
  {
   "cell_type": "code",
   "execution_count": 2,
   "metadata": {},
   "outputs": [],
   "source": [
    "# Path definitions\n",
    "SAVE_DIRECTORY = Path(fr'D:\\Data\\CMU.80 Data\\88 Analyzed Data\\88.003 Initial Analysis, DW327')  # NOTE Specify the path where the data will be copied to, and where Kilosort4 results will be saved.\n",
    "DATA_DIRECTORY = Path(fr'D:\\Data\\CMU.80 Data\\82 External Data\\82.002 Sample Rat Data from RM1 Project')  # NOTE Specify the path where the data will be copied to, and where Kilosort4 results will be saved.\n",
    "# Create path if it doesn't exist\n",
    "DATA_DIRECTORY.mkdir(parents=True, exist_ok=True)\n",
    "SAVE_DIRECTORY.mkdir(parents=True, exist_ok=True)\n",
    "PROBE_DIRECTORY = Path(r'D:\\Data\\CMU.80 Data\\88 Analyzed Data\\88.001 A1x32-Edge-5mm-20-177-A32\\A1x32-Edge-5mm-20-177-A32.prb')"
   ]
  },
  {
   "cell_type": "markdown",
   "metadata": {},
   "source": [
    "# 📈 Trial Summary\n",
    "---\n",
    "\n",
    "This is used to determine which trial is most likely to produce good units in a spike sorting analysis"
   ]
  },
  {
   "cell_type": "markdown",
   "metadata": {},
   "source": [
    "### process data for import into Kilosort\n",
    "\n",
    "I will use a combination of `SpikeInterface` & `Kilosort.io.extractors` to get the data I need"
   ]
  },
  {
   "cell_type": "code",
   "execution_count": 7,
   "metadata": {},
   "outputs": [
    {
     "name": "stdout",
     "output_type": "stream",
     "text": [
      "Preparing Kilosort wrapper...\n"
     ]
    }
   ],
   "source": [
    "spikes = Kilosort_wrapper(SAVE_DIRECTORY,PROBE_DIRECTORY)"
   ]
  },
  {
   "cell_type": "code",
   "execution_count": null,
   "metadata": {},
   "outputs": [],
   "source": [
    "spikes.run_kilosort_trial_summary()"
   ]
  },
  {
   "cell_type": "markdown",
   "metadata": {},
   "source": [
    "# ⏩ Import Kilosort Outputs (if they exist)\n",
    "\n",
    "when kilosort is run, it creates a series of files saved next to the binary files.\n",
    "use this method to import them. if there are no kilosort files, it will pass"
   ]
  },
  {
   "cell_type": "code",
   "execution_count": null,
   "metadata": {},
   "outputs": [
    {
     "data": {
      "text/plain": [
       "array([18.716656, 26.29137 , 28.616701, ..., 18.148735, 20.001297,\n",
       "       22.05708 ], dtype=float32)"
      ]
     },
     "execution_count": 14,
     "metadata": {},
     "output_type": "execute_result"
    }
   ],
   "source": [
    "spikes.extract_kilosort_outputs()"
   ]
  },
  {
   "cell_type": "code",
   "execution_count": 17,
   "metadata": {},
   "outputs": [
    {
     "data": {
      "text/plain": [
       "array([14, 10,  5,  1, 11,  6,  4,  9, 12,  7,  3,  8, 13,  2, 15,  0, 16,\n",
       "       31, 18, 29, 24, 25, 23, 17, 22, 30, 26, 27, 21, 28, 20, 19])"
      ]
     },
     "execution_count": 17,
     "metadata": {},
     "output_type": "execute_result"
    }
   ],
   "source": [
    "spikes.kilosort_results[\"VF_8_241125_161626\"][\"channel_map.npy\"]"
   ]
  },
  {
   "cell_type": "markdown",
   "metadata": {},
   "source": [
    "- **`results_dir`**: Constructs the path to where the Kilosort outputs are stored.\n",
    "- **`ops`**: Loads the Kilosort options dictionary, which includes parameters and processing information.\n",
    "- **`camps` & `contam_pct`**: Load cluster amplitudes and contamination percentages from TSV files.\n",
    "- **`chan_map`**: Loads the mapping of electrode channels.\n",
    "- **`templates`**: Loads the spike waveform templates.\n",
    "- **`chan_best`**: Identifies the best (most representative) channel for each template by finding the channel with the maximum energy (sum of squared amplitudes).\n",
    "- **`amplitudes`**: Loads the amplitudes of detected spikes.\n",
    "- **`st`**: Loads spike times, typically in sample indices.\n",
    "- **`clu`**: Loads cluster assignments for each spike.\n",
    "- **`firing_rates`**: Calculates the firing rate for each unit (cluster) by counting the number of spikes and normalizing by the total recording time.\n",
    "- **`dshift`**: Extracts the drift shift values from the options dictionary, which indicates the movement of the recording probe over time."
   ]
  },
  {
   "cell_type": "markdown",
   "metadata": {},
   "source": [
    "# 🐁 Analysis DRG Stimulation Trial on Rat DW323\n",
    "---"
   ]
  },
  {
   "cell_type": "markdown",
   "metadata": {},
   "source": [
    "### defining filepaths"
   ]
  },
  {
   "cell_type": "code",
   "execution_count": null,
   "metadata": {},
   "outputs": [],
   "source": [
    "SAVE_DIRECTORY = Path(fr'D:\\Data\\CMU.80 Data\\88 Analyzed Data\\88.003 Initial Analysis, DW323')  # NOTE Specify the path where the data will be copied to, and where Kilosort4 results will be saved.\n",
    "DATA_DIRECTORY = Path(fr'D:\\Data\\CMU.80 Data\\82 External Data\\82.002 Sample Rat Data from RM1 Project')  # NOTE Specify the path where the data will be copied to, and where Kilosort4 results will be saved.\n",
    "# Create path if it doesn't exist\n",
    "DATA_DIRECTORY.mkdir(parents=True, exist_ok=True)\n",
    "SAVE_DIRECTORY.mkdir(parents=True, exist_ok=True)"
   ]
  },
  {
   "cell_type": "code",
   "execution_count": null,
   "metadata": {},
   "outputs": [],
   "source": [
    "DW323 = RM1.Rat(DATA_DIRECTORY, PROBE_DIRECTORY, \"DW323\")\n",
    "DW323.get_sc_data()"
   ]
  },
  {
   "cell_type": "markdown",
   "metadata": {},
   "source": [
    "## 🔬 Exploratory Data Analysis (EDA)\n",
    "\n",
    "\n",
    "see paper for more information. for this experiment, I elected to start my analysis with trial: \n",
    "\n",
    "**Rat: DW322 | Trial: DRGS_1_240918_125448**"
   ]
  },
  {
   "cell_type": "code",
   "execution_count": null,
   "metadata": {},
   "outputs": [],
   "source": [
    "DW323.sc_data.keys()"
   ]
  },
  {
   "cell_type": "code",
   "execution_count": null,
   "metadata": {},
   "outputs": [],
   "source": [
    "TRIAL_DRGS = \"DRGS_11_240911_160638\"\n",
    "TRIAL_VF = \"\""
   ]
  },
  {
   "cell_type": "markdown",
   "metadata": {},
   "source": [
    "## 📑 metadata - DRGS"
   ]
  },
  {
   "cell_type": "code",
   "execution_count": null,
   "metadata": {},
   "outputs": [],
   "source": [
    "DW323.drgs_experiment_notes"
   ]
  },
  {
   "cell_type": "code",
   "execution_count": null,
   "metadata": {},
   "outputs": [],
   "source": [
    "DW323.drgs_trial_notes.loc[11].to_latex(r\"D:\\Data\\CMU.80 Data\\88 Analyzed Data\\88.003 Initial Analysis, DW327\\tables\\drgs_trial_notes.tex\",\n",
    "                                        header=False,\n",
    "                                        )\n",
    "DW323.drgs_trial_notes.loc[11]"
   ]
  },
  {
   "cell_type": "markdown",
   "metadata": {},
   "source": [
    "## 📑 metadata - DRGS"
   ]
  }
 ],
 "metadata": {
  "kernelspec": {
   "display_name": "kilosort",
   "language": "python",
   "name": "python3"
  },
  "language_info": {
   "codemirror_mode": {
    "name": "ipython",
    "version": 3
   },
   "file_extension": ".py",
   "mimetype": "text/x-python",
   "name": "python",
   "nbconvert_exporter": "python",
   "pygments_lexer": "ipython3",
   "version": "3.9.20"
  }
 },
 "nbformat": 4,
 "nbformat_minor": 2
}
