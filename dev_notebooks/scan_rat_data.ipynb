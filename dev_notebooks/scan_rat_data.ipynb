{
 "cells": [
  {
   "cell_type": "markdown",
   "metadata": {},
   "source": [
    "<!-- Notebook Header Start -->\n",
    "\n",
    "<h1 align=\"center\">Spike Sorting</h1>\n",
    "\n",
    "<p align=\"center\">\n",
    "  <strong>Author:</strong> Karl Bates<br>\n",
    "  <strong>Date:</strong> 2024-11-18<br>\n",
    "  <strong>Affiliation:</strong> Carnegie Mellon University, Cohen-Karni Lab  || Neuromechatronics Lab\n",
    "</p>\n",
    "\n",
    "---\n",
    "\n",
    "## 📜 Project Overview\n",
    "\n",
    "(to populate) \n",
    "\n",
    "- **Objective:** (to populate)\n",
    "- **Scope:** (to populate)\n",
    "\n",
    "---\n",
    "\n",
    "## 📊 Notebook Outline\n",
    "\n",
    "1. **Data Import & Preprocessing**\n",
    "\n",
    "\n",
    "---\n",
    "\n",
    "## 📚 References & Additional Resources\n",
    "\n",
    "- [Kilosort4 docs](https://github.com/MouseLand/Kilosort/tree/main)\n",
    "- [SpikeInterface docs](https://github.com/SpikeInterface)\n",
    "\n",
    "---\n",
    "\n",
    "<!-- Notebook Header End -->\n"
   ]
  },
  {
   "cell_type": "markdown",
   "metadata": {},
   "source": [
    "# 📈 Importing Libraries & Data\n",
    "---"
   ]
  },
  {
   "cell_type": "markdown",
   "metadata": {},
   "source": [
    "### imports"
   ]
  },
  {
   "cell_type": "code",
   "execution_count": null,
   "metadata": {},
   "outputs": [],
   "source": [
    "# standard imports\n",
    "from pathlib import Path\n",
    "import os\n",
    "import pandas as pd\n",
    "import numpy as np\n",
    "from kilosort import io\n",
    "import matplotlib.pyplot as plt\n",
    "\n",
    "# custom imports\n",
    "from automations import RM1\n",
    "from automations import Kilosort_wrapper\n",
    "from automations import SpikeInterface_wrapper\n",
    "from automations import plots"
   ]
  },
  {
   "cell_type": "markdown",
   "metadata": {},
   "source": [
    "### probe definition\n",
    "\n",
    "Using the spreadsheet, `Adapter_pinout.xlsx`, the contact ID's can be traced to the \"device channel\", and we can assign them on the probe. \n",
    "\n",
    "In this case, our channel indices correspond to the aux inputs to the intan headstage.\n",
    "\n",
    "refer to the notebook, `RM1_pipeline.ipynb` within  the `dev_notebook` folder"
   ]
  },
  {
   "cell_type": "code",
   "execution_count": 2,
   "metadata": {},
   "outputs": [],
   "source": [
    "# Path definitions\n",
    "SAVE_DIRECTORY = Path(fr'D:\\Data\\CMU.80 Data\\88 Analyzed Data\\88.002 Multi rat kilosort export')  # NOTE Specify the path where the data will be copied to, and where Kilosort4 results will be saved.\n",
    "DATA_DIRECTORY = Path(fr'D:\\Data\\CMU.80 Data\\82 External Data\\82.002 Sample Rat Data from RM1 Project')  # NOTE Specify the path where the data will be copied to, and where Kilosort4 results will be saved.\n",
    "# Create path if it doesn't exist\n",
    "DATA_DIRECTORY.mkdir(parents=True, exist_ok=True)\n",
    "SAVE_DIRECTORY.mkdir(parents=True, exist_ok=True)\n",
    "PROBE_DIRECTORY = Path(r'D:\\Data\\CMU.80 Data\\88 Analyzed Data\\88.001 A1x32-Edge-5mm-20-177-A32\\A1x32-Edge-5mm-20-177-A32.prb')"
   ]
  },
  {
   "cell_type": "markdown",
   "metadata": {},
   "source": [
    "# 🔁 Example: Review of Every Trial in a Rat of Choice\n",
    "\n",
    "This is used to determine which trial is most likely to produce good units in a spike sorting analysis"
   ]
  },
  {
   "cell_type": "markdown",
   "metadata": {},
   "source": [
    "### filepath definitions"
   ]
  },
  {
   "cell_type": "code",
   "execution_count": 3,
   "metadata": {},
   "outputs": [
    {
     "data": {
      "text/html": [
       "<div>\n",
       "<style scoped>\n",
       "    .dataframe tbody tr th:only-of-type {\n",
       "        vertical-align: middle;\n",
       "    }\n",
       "\n",
       "    .dataframe tbody tr th {\n",
       "        vertical-align: top;\n",
       "    }\n",
       "\n",
       "    .dataframe thead th {\n",
       "        text-align: right;\n",
       "    }\n",
       "</style>\n",
       "<table border=\"1\" class=\"dataframe\">\n",
       "  <thead>\n",
       "    <tr style=\"text-align: right;\">\n",
       "      <th></th>\n",
       "      <th>A1x32 Probe.1</th>\n",
       "      <th>A32-&gt;O32 Adapter.1</th>\n",
       "      <th>Intan Board</th>\n",
       "      <th>Intan Input.1</th>\n",
       "    </tr>\n",
       "  </thead>\n",
       "  <tbody>\n",
       "    <tr>\n",
       "      <th>0</th>\n",
       "      <td>32</td>\n",
       "      <td>32</td>\n",
       "      <td>T13</td>\n",
       "      <td>19</td>\n",
       "    </tr>\n",
       "    <tr>\n",
       "      <th>1</th>\n",
       "      <td>31</td>\n",
       "      <td>30</td>\n",
       "      <td>T14</td>\n",
       "      <td>20</td>\n",
       "    </tr>\n",
       "    <tr>\n",
       "      <th>2</th>\n",
       "      <td>30</td>\n",
       "      <td>31</td>\n",
       "      <td>B13</td>\n",
       "      <td>28</td>\n",
       "    </tr>\n",
       "    <tr>\n",
       "      <th>3</th>\n",
       "      <td>29</td>\n",
       "      <td>28</td>\n",
       "      <td>T15</td>\n",
       "      <td>21</td>\n",
       "    </tr>\n",
       "    <tr>\n",
       "      <th>4</th>\n",
       "      <td>28</td>\n",
       "      <td>29</td>\n",
       "      <td>B14</td>\n",
       "      <td>27</td>\n",
       "    </tr>\n",
       "  </tbody>\n",
       "</table>\n",
       "</div>"
      ],
      "text/plain": [
       "   A1x32 Probe.1  A32->O32 Adapter.1 Intan Board  Intan Input.1\n",
       "0             32                  32         T13             19\n",
       "1             31                  30         T14             20\n",
       "2             30                  31         B13             28\n",
       "3             29                  28         T15             21\n",
       "4             28                  29         B14             27"
      ]
     },
     "execution_count": 3,
     "metadata": {},
     "output_type": "execute_result"
    }
   ],
   "source": [
    "channel_mapping = pd.read_excel(r\"D:\\Data\\CMU.80 Data\\88 Analyzed Data\\88.001 A1x32-Edge-5mm-20-177-A32\\Adapter_pinout.xlsx\",\n",
    "                                sheet_name=\"summary\",\n",
    "                                header=2).iloc[:,[8,10,12,14]]\n",
    "channel_mapping.head(5)"
   ]
  },
  {
   "cell_type": "markdown",
   "metadata": {},
   "source": [
    "### importing the rat"
   ]
  },
  {
   "cell_type": "code",
   "execution_count": 4,
   "metadata": {},
   "outputs": [
    {
     "name": "stdout",
     "output_type": "stream",
     "text": [
      "Reading DRGS_10_240911_155921...\n",
      "Error reading stream 2 for DRGS_10_240911_155921. continuing...\n",
      "Reading DRGS_11_240911_160638...\n",
      "Error reading stream 2 for DRGS_11_240911_160638. continuing...\n",
      "Reading DRGS_1_240911_144910...\n",
      "Error reading stream 2 for DRGS_1_240911_144910. continuing...\n",
      "Reading DRGS_2_240911_145808...\n",
      "Error reading stream 2 for DRGS_2_240911_145808. continuing...\n",
      "Reading DRGS_3_240911_150506...\n",
      "Error reading stream 2 for DRGS_3_240911_150506. continuing...\n",
      "Reading DRGS_4_240911_151137...\n",
      "Error reading stream 2 for DRGS_4_240911_151137. continuing...\n",
      "Reading DRGS_5_240911_151925...\n",
      "Error reading stream 2 for DRGS_5_240911_151925. continuing...\n",
      "Reading DRGS_6_240911_152522...\n",
      "Error reading stream 2 for DRGS_6_240911_152522. continuing...\n",
      "Reading DRGS_7_240911_153255...\n",
      "Error reading stream 2 for DRGS_7_240911_153255. continuing...\n",
      "Reading DRGS_8_240911_154319...\n",
      "Error reading stream 2 for DRGS_8_240911_154319. continuing...\n",
      "Reading DRGS_9_240911_155057...\n",
      "Error reading stream 2 for DRGS_9_240911_155057. continuing...\n",
      "Reading nninsertion_240911_130746...\n",
      "Error reading stream 2 for nninsertion_240911_130746. continuing...\n",
      "Reading nn_seond_insertion_240911_144433...\n",
      "Error reading stream 2 for nn_seond_insertion_240911_144433. continuing...\n",
      "Reading QST_2_240911_181341...\n",
      "Error reading stream 2 for QST_2_240911_181341. continuing...\n",
      "Reading VF_1_240911_164342...\n",
      "Error reading stream 2 for VF_1_240911_164342. continuing...\n",
      "Reading VF_2_240911_165039...\n",
      "Error reading stream 2 for VF_2_240911_165039. continuing...\n",
      "Reading VF_3_240911_165617...\n",
      "Error reading stream 2 for VF_3_240911_165617. continuing...\n",
      "Reading VF_4_240911_170446...\n",
      "Error reading stream 2 for VF_4_240911_170446. continuing...\n",
      "Reading VF_5_240911_171014...\n",
      "Error reading stream 2 for VF_5_240911_171014. continuing...\n",
      "Reading VF_6_240911_171505...\n",
      "Error reading stream 2 for VF_6_240911_171505. continuing...\n",
      "Reading VF_7_240911_180931...\n",
      "Error reading stream 2 for VF_7_240911_180931. continuing...\n"
     ]
    }
   ],
   "source": [
    "DW323 = RM1.Rat(DATA_DIRECTORY, PROBE_DIRECTORY, \"DW323\")"
   ]
  },
  {
   "cell_type": "code",
   "execution_count": 5,
   "metadata": {},
   "outputs": [],
   "source": [
    "# for example, pulling the amp data from the 7th DRGS trial (only works for DW333)\n",
    "# DW322.mat_files_dict[\"VF_DRG__145435\"][\"AM\"][\"amp\"][0, 0][0, 0]"
   ]
  },
  {
   "cell_type": "code",
   "execution_count": 6,
   "metadata": {},
   "outputs": [
    {
     "data": {
      "text/plain": [
       "'d1 tl, d2 am sync, a1 am monitor,a2 evf'"
      ]
     },
     "execution_count": 6,
     "metadata": {},
     "output_type": "execute_result"
    }
   ],
   "source": [
    "DW323.qst_experiment_notes"
   ]
  },
  {
   "cell_type": "code",
   "execution_count": 7,
   "metadata": {},
   "outputs": [
    {
     "data": {
      "text/html": [
       "<div>\n",
       "<style scoped>\n",
       "    .dataframe tbody tr th:only-of-type {\n",
       "        vertical-align: middle;\n",
       "    }\n",
       "\n",
       "    .dataframe tbody tr th {\n",
       "        vertical-align: top;\n",
       "    }\n",
       "\n",
       "    .dataframe thead th {\n",
       "        text-align: right;\n",
       "    }\n",
       "</style>\n",
       "<table border=\"1\" class=\"dataframe\">\n",
       "  <thead>\n",
       "    <tr style=\"text-align: right;\">\n",
       "      <th>5</th>\n",
       "      <th>Trial Number</th>\n",
       "      <th>Condition</th>\n",
       "      <th>amp (uA)</th>\n",
       "      <th>PW (us)</th>\n",
       "      <th>Freq. (Hz)</th>\n",
       "      <th>Dur. (s)</th>\n",
       "      <th>Stimuli</th>\n",
       "      <th>Stage</th>\n",
       "      <th>Stimuli Dur.</th>\n",
       "      <th>rcrtrange</th>\n",
       "      <th>waitime</th>\n",
       "    </tr>\n",
       "    <tr>\n",
       "      <th>Trial Number</th>\n",
       "      <th></th>\n",
       "      <th></th>\n",
       "      <th></th>\n",
       "      <th></th>\n",
       "      <th></th>\n",
       "      <th></th>\n",
       "      <th></th>\n",
       "      <th></th>\n",
       "      <th></th>\n",
       "      <th></th>\n",
       "      <th></th>\n",
       "    </tr>\n",
       "  </thead>\n",
       "  <tbody>\n",
       "    <tr>\n",
       "      <th>1</th>\n",
       "      <td>1</td>\n",
       "      <td>DRGS</td>\n",
       "      <td>70</td>\n",
       "      <td>300</td>\n",
       "      <td>5</td>\n",
       "      <td>180</td>\n",
       "      <td>NaN</td>\n",
       "      <td>NaN</td>\n",
       "      <td>NaN</td>\n",
       "      <td>69,77</td>\n",
       "      <td>30</td>\n",
       "    </tr>\n",
       "    <tr>\n",
       "      <th>2</th>\n",
       "      <td>2</td>\n",
       "      <td>DRGS</td>\n",
       "      <td>70</td>\n",
       "      <td>300</td>\n",
       "      <td>5</td>\n",
       "      <td>180</td>\n",
       "      <td>NaN</td>\n",
       "      <td>NaN</td>\n",
       "      <td>NaN</td>\n",
       "      <td>69,77</td>\n",
       "      <td>30</td>\n",
       "    </tr>\n",
       "    <tr>\n",
       "      <th>3</th>\n",
       "      <td>3</td>\n",
       "      <td>DRGS</td>\n",
       "      <td>70</td>\n",
       "      <td>300</td>\n",
       "      <td>100</td>\n",
       "      <td>180</td>\n",
       "      <td>NaN</td>\n",
       "      <td>NaN</td>\n",
       "      <td>NaN</td>\n",
       "      <td>69,77</td>\n",
       "      <td>30</td>\n",
       "    </tr>\n",
       "    <tr>\n",
       "      <th>4</th>\n",
       "      <td>4</td>\n",
       "      <td>DRGS</td>\n",
       "      <td>70</td>\n",
       "      <td>300</td>\n",
       "      <td>100</td>\n",
       "      <td>180</td>\n",
       "      <td>NaN</td>\n",
       "      <td>NaN</td>\n",
       "      <td>NaN</td>\n",
       "      <td>69,77</td>\n",
       "      <td>30</td>\n",
       "    </tr>\n",
       "    <tr>\n",
       "      <th>5</th>\n",
       "      <td>5</td>\n",
       "      <td>DRGS</td>\n",
       "      <td>70</td>\n",
       "      <td>300</td>\n",
       "      <td>20</td>\n",
       "      <td>180</td>\n",
       "      <td>NaN</td>\n",
       "      <td>NaN</td>\n",
       "      <td>NaN</td>\n",
       "      <td>69,77</td>\n",
       "      <td>30</td>\n",
       "    </tr>\n",
       "  </tbody>\n",
       "</table>\n",
       "</div>"
      ],
      "text/plain": [
       "5            Trial Number Condition amp (uA) PW (us) Freq. (Hz) Dur. (s)  \\\n",
       "Trial Number                                                               \n",
       "1                       1      DRGS       70     300          5      180   \n",
       "2                       2      DRGS       70     300          5      180   \n",
       "3                       3      DRGS       70     300        100      180   \n",
       "4                       4      DRGS       70     300        100      180   \n",
       "5                       5      DRGS       70     300         20      180   \n",
       "\n",
       "5            Stimuli Stage Stimuli Dur.  rcrtrange waitime  \n",
       "Trial Number                                                \n",
       "1                NaN   NaN           NaN     69,77      30  \n",
       "2                NaN   NaN           NaN     69,77      30  \n",
       "3                NaN   NaN           NaN     69,77      30  \n",
       "4                NaN   NaN           NaN     69,77      30  \n",
       "5                NaN   NaN           NaN     69,77      30  "
      ]
     },
     "execution_count": 7,
     "metadata": {},
     "output_type": "execute_result"
    }
   ],
   "source": [
    "DW323.drgs_trial_notes.head()"
   ]
  },
  {
   "cell_type": "code",
   "execution_count": 8,
   "metadata": {},
   "outputs": [
    {
     "data": {
      "text/plain": [
       "{'DRGS_10_240911_155921': ChannelSliceRecording: 32 channels - 30.0kHz - 1 segments - 8,650,496 samples \n",
       "                        288.35s (4.81 minutes) - uint16 dtype - 527.98 MiB,\n",
       " 'DRGS_11_240911_160638': ChannelSliceRecording: 32 channels - 30.0kHz - 1 segments - 8,745,728 samples \n",
       "                        291.52s (4.86 minutes) - uint16 dtype - 533.80 MiB,\n",
       " 'DRGS_1_240911_144910': ChannelSliceRecording: 32 channels - 30.0kHz - 1 segments - 7,749,376 samples \n",
       "                        258.31s (4.31 minutes) - uint16 dtype - 472.98 MiB,\n",
       " 'DRGS_2_240911_145808': ChannelSliceRecording: 32 channels - 30.0kHz - 1 segments - 7,749,376 samples \n",
       "                        258.31s (4.31 minutes) - uint16 dtype - 472.98 MiB,\n",
       " 'DRGS_3_240911_150506': ChannelSliceRecording: 32 channels - 30.0kHz - 1 segments - 7,751,424 samples \n",
       "                        258.38s (4.31 minutes) - uint16 dtype - 473.11 MiB,\n",
       " 'DRGS_4_240911_151137': ChannelSliceRecording: 32 channels - 30.0kHz - 1 segments - 7,847,680 samples \n",
       "                        261.59s (4.36 minutes) - uint16 dtype - 478.98 MiB,\n",
       " 'DRGS_5_240911_151925': ChannelSliceRecording: 32 channels - 30.0kHz - 1 segments - 7,750,400 samples \n",
       "                        258.35s (4.31 minutes) - uint16 dtype - 473.05 MiB,\n",
       " 'DRGS_6_240911_152522': ChannelSliceRecording: 32 channels - 30.0kHz - 1 segments - 7,844,608 samples \n",
       "                        261.49s (4.36 minutes) - uint16 dtype - 478.80 MiB,\n",
       " 'DRGS_7_240911_153255': ChannelSliceRecording: 32 channels - 30.0kHz - 1 segments - 8,638,464 samples \n",
       "                        287.95s (4.80 minutes) - uint16 dtype - 527.25 MiB,\n",
       " 'DRGS_8_240911_154319': ChannelSliceRecording: 32 channels - 30.0kHz - 1 segments - 8,747,776 samples \n",
       "                        291.59s (4.86 minutes) - uint16 dtype - 533.92 MiB,\n",
       " 'DRGS_9_240911_155057': ChannelSliceRecording: 32 channels - 30.0kHz - 1 segments - 8,649,472 samples \n",
       "                        288.32s (4.81 minutes) - uint16 dtype - 527.92 MiB,\n",
       " 'nninsertion_240911_130746': ChannelSliceRecording: 32 channels - 30.0kHz - 1 segments - 2,595,584 samples \n",
       "                        86.52s (1.44 minutes) - uint16 dtype - 158.42 MiB,\n",
       " 'nn_seond_insertion_240911_144433': ChannelSliceRecording: 46 channels - 30.0kHz - 1 segments - 809,728 samples - 26.99s \n",
       "                        uint16 dtype - 71.04 MiB,\n",
       " 'QST_2_240911_181341': ChannelSliceRecording: 32 channels - 30.0kHz - 1 segments - 5,801,728 samples \n",
       "                        193.39s (3.22 minutes) - uint16 dtype - 354.11 MiB,\n",
       " 'VF_1_240911_164342': ChannelSliceRecording: 32 channels - 30.0kHz - 1 segments - 7,304,960 samples \n",
       "                        243.50s (4.06 minutes) - uint16 dtype - 445.86 MiB,\n",
       " 'VF_2_240911_165039': ChannelSliceRecording: 32 channels - 30.0kHz - 1 segments - 7,307,008 samples \n",
       "                        243.57s (4.06 minutes) - uint16 dtype - 445.98 MiB,\n",
       " 'VF_3_240911_165617': ChannelSliceRecording: 32 channels - 30.0kHz - 1 segments - 7,307,008 samples \n",
       "                        243.57s (4.06 minutes) - uint16 dtype - 445.98 MiB,\n",
       " 'VF_4_240911_170446': ChannelSliceRecording: 32 channels - 30.0kHz - 1 segments - 7,402,240 samples \n",
       "                        246.74s (4.11 minutes) - uint16 dtype - 451.80 MiB,\n",
       " 'VF_5_240911_171014': ChannelSliceRecording: 32 channels - 30.0kHz - 1 segments - 7,307,008 samples \n",
       "                        243.57s (4.06 minutes) - uint16 dtype - 445.98 MiB,\n",
       " 'VF_6_240911_171505': ChannelSliceRecording: 32 channels - 30.0kHz - 1 segments - 7,398,144 samples \n",
       "                        246.60s (4.11 minutes) - uint16 dtype - 451.55 MiB,\n",
       " 'VF_7_240911_180931': ChannelSliceRecording: 32 channels - 30.0kHz - 1 segments - 5,803,776 samples \n",
       "                        193.46s (3.22 minutes) - uint16 dtype - 354.23 MiB}"
      ]
     },
     "execution_count": 8,
     "metadata": {},
     "output_type": "execute_result"
    }
   ],
   "source": [
    "DW323.get_sc_data()\n",
    "DW323.sc_data"
   ]
  },
  {
   "cell_type": "markdown",
   "metadata": {},
   "source": [
    "### process data for import into Kilosort\n",
    "\n",
    "I will use a combination of `SpikeInterface` & `Kilosort.io.extractors` to get the data I need"
   ]
  },
  {
   "cell_type": "code",
   "execution_count": 9,
   "metadata": {},
   "outputs": [
    {
     "name": "stdout",
     "output_type": "stream",
     "text": [
      "Preparing SpikeInterface wrapper for rat DW323\n",
      "Preparing Kilosort wrapper...\n"
     ]
    }
   ],
   "source": [
    "signals = SpikeInterface_wrapper(DW323, SAVE_DIRECTORY)\n",
    "spikes = Kilosort_wrapper(SAVE_DIRECTORY, PROBE_DIRECTORY)\n"
   ]
  },
  {
   "cell_type": "code",
   "execution_count": 10,
   "metadata": {},
   "outputs": [
    {
     "name": "stdout",
     "output_type": "stream",
     "text": [
      "Data saved to D:\\Data\\CMU.80 Data\\88 Analyzed Data\\88.002 Multi rat kilosort export\\binary\\DRGS_10_240911_155921\\DW323_DRGS_10_240911_155921_data.bin\n",
      "Data saved to D:\\Data\\CMU.80 Data\\88 Analyzed Data\\88.002 Multi rat kilosort export\\binary\\DRGS_11_240911_160638\\DW323_DRGS_11_240911_160638_data.bin\n",
      "Data saved to D:\\Data\\CMU.80 Data\\88 Analyzed Data\\88.002 Multi rat kilosort export\\binary\\DRGS_1_240911_144910\\DW323_DRGS_1_240911_144910_data.bin\n",
      "Data saved to D:\\Data\\CMU.80 Data\\88 Analyzed Data\\88.002 Multi rat kilosort export\\binary\\DRGS_2_240911_145808\\DW323_DRGS_2_240911_145808_data.bin\n",
      "Data saved to D:\\Data\\CMU.80 Data\\88 Analyzed Data\\88.002 Multi rat kilosort export\\binary\\DRGS_3_240911_150506\\DW323_DRGS_3_240911_150506_data.bin\n",
      "Data saved to D:\\Data\\CMU.80 Data\\88 Analyzed Data\\88.002 Multi rat kilosort export\\binary\\DRGS_4_240911_151137\\DW323_DRGS_4_240911_151137_data.bin\n",
      "Data saved to D:\\Data\\CMU.80 Data\\88 Analyzed Data\\88.002 Multi rat kilosort export\\binary\\DRGS_5_240911_151925\\DW323_DRGS_5_240911_151925_data.bin\n",
      "Data saved to D:\\Data\\CMU.80 Data\\88 Analyzed Data\\88.002 Multi rat kilosort export\\binary\\DRGS_6_240911_152522\\DW323_DRGS_6_240911_152522_data.bin\n",
      "Data saved to D:\\Data\\CMU.80 Data\\88 Analyzed Data\\88.002 Multi rat kilosort export\\binary\\DRGS_7_240911_153255\\DW323_DRGS_7_240911_153255_data.bin\n",
      "Data saved to D:\\Data\\CMU.80 Data\\88 Analyzed Data\\88.002 Multi rat kilosort export\\binary\\DRGS_8_240911_154319\\DW323_DRGS_8_240911_154319_data.bin\n",
      "Data saved to D:\\Data\\CMU.80 Data\\88 Analyzed Data\\88.002 Multi rat kilosort export\\binary\\DRGS_9_240911_155057\\DW323_DRGS_9_240911_155057_data.bin\n",
      "Data saved to D:\\Data\\CMU.80 Data\\88 Analyzed Data\\88.002 Multi rat kilosort export\\binary\\nninsertion_240911_130746\\DW323_nninsertion_240911_130746_data.bin\n",
      "Data saved to D:\\Data\\CMU.80 Data\\88 Analyzed Data\\88.002 Multi rat kilosort export\\binary\\nn_seond_insertion_240911_144433\\DW323_nn_seond_insertion_240911_144433_data.bin\n",
      "Data saved to D:\\Data\\CMU.80 Data\\88 Analyzed Data\\88.002 Multi rat kilosort export\\binary\\QST_2_240911_181341\\DW323_QST_2_240911_181341_data.bin\n",
      "Data saved to D:\\Data\\CMU.80 Data\\88 Analyzed Data\\88.002 Multi rat kilosort export\\binary\\VF_1_240911_164342\\DW323_VF_1_240911_164342_data.bin\n",
      "Data saved to D:\\Data\\CMU.80 Data\\88 Analyzed Data\\88.002 Multi rat kilosort export\\binary\\VF_2_240911_165039\\DW323_VF_2_240911_165039_data.bin\n",
      "Data saved to D:\\Data\\CMU.80 Data\\88 Analyzed Data\\88.002 Multi rat kilosort export\\binary\\VF_3_240911_165617\\DW323_VF_3_240911_165617_data.bin\n",
      "Data saved to D:\\Data\\CMU.80 Data\\88 Analyzed Data\\88.002 Multi rat kilosort export\\binary\\VF_4_240911_170446\\DW323_VF_4_240911_170446_data.bin\n",
      "Data saved to D:\\Data\\CMU.80 Data\\88 Analyzed Data\\88.002 Multi rat kilosort export\\binary\\VF_5_240911_171014\\DW323_VF_5_240911_171014_data.bin\n",
      "Data saved to D:\\Data\\CMU.80 Data\\88 Analyzed Data\\88.002 Multi rat kilosort export\\binary\\VF_6_240911_171505\\DW323_VF_6_240911_171505_data.bin\n",
      "Data saved to D:\\Data\\CMU.80 Data\\88 Analyzed Data\\88.002 Multi rat kilosort export\\binary\\VF_7_240911_180931\\DW323_VF_7_240911_180931_data.bin\n"
     ]
    },
    {
     "name": "stderr",
     "output_type": "stream",
     "text": [
      "kilosort.run_kilosort: Kilosort version 4.0.20\n",
      "kilosort.run_kilosort: Python version 3.9.20\n",
      "kilosort.run_kilosort: ----------------------------------------\n",
      "kilosort.run_kilosort: System information:\n",
      "kilosort.run_kilosort: Windows-10-10.0.19045-SP0 AMD64\n",
      "kilosort.run_kilosort: AMD64 Family 23 Model 1 Stepping 1, AuthenticAMD\n",
      "kilosort.run_kilosort: Using GPU for PyTorch computations. Specify `device` to change this.\n",
      "kilosort.run_kilosort: Using CUDA device: NVIDIA GeForce GTX 1070 8.00GB\n",
      "kilosort.run_kilosort: ----------------------------------------\n",
      "kilosort.run_kilosort: Sorting D:\\Data\\CMU.80 Data\\88 Analyzed Data\\88.002 Multi rat kilosort export\\binary\\DRGS_10_240911_155921\\DW323_DRGS_10_240911_155921_data.bin\n",
      "kilosort.run_kilosort: Interpreting binary file as default dtype='int16'. If data was saved in a different format, specify `data_dtype`.\n",
      "kilosort.run_kilosort:  \n",
      "kilosort.run_kilosort: Computing preprocessing variables.\n",
      "kilosort.run_kilosort: ----------------------------------------\n"
     ]
    },
    {
     "name": "stdout",
     "output_type": "stream",
     "text": [
      "|\n",
      "|\n",
      "|\n",
      "|\n",
      "|\n",
      "|\n",
      "Running kilosort on DRGS_10_240911_155921\n",
      "|\n",
      "|\n",
      "|\n",
      "|\n",
      "|\n",
      "|\n"
     ]
    },
    {
     "name": "stderr",
     "output_type": "stream",
     "text": [
      "kilosort.run_kilosort: N samples: 8650496\n",
      "kilosort.run_kilosort: N seconds: 288.3498666666667\n",
      "kilosort.run_kilosort: N batches: 145\n",
      "kilosort.run_kilosort: Preprocessing filters computed in  0.48s; total  0.48s\n",
      "kilosort.run_kilosort:  \n",
      "kilosort.run_kilosort: Resource usage after preprocessing\n",
      "kilosort.run_kilosort: ********************************************************\n",
      "kilosort.run_kilosort: CPU usage:     9.60 %\n",
      "kilosort.run_kilosort: Memory:       59.64 %     |     28.59   /    47.93 GB\n",
      "kilosort.run_kilosort: ------------------------------------------------------\n",
      "kilosort.run_kilosort: GPU usage:    `conda install pynvml` for GPU usage\n",
      "kilosort.run_kilosort: GPU memory:   14.22 %     |      1.14   /     8.00 GB\n",
      "kilosort.run_kilosort: Allocated:     0.10 %     |      0.01   /     8.00 GB\n",
      "kilosort.run_kilosort: Max alloc:     1.47 %     |      0.12   /     8.00 GB\n",
      "kilosort.run_kilosort: ********************************************************\n",
      "kilosort.run_kilosort:  \n",
      "kilosort.run_kilosort: Computing drift correction.\n",
      "kilosort.run_kilosort: ----------------------------------------\n",
      "kilosort.spikedetect: Re-computing universal templates from data.\n",
      "kilosort.spikedetect: Number of universal templates: 63\n",
      "kilosort.spikedetect: Detecting spikes...\n",
      "100%|██████████| 145/145 [00:09<00:00, 14.72it/s]\n",
      "kilosort.run_kilosort: drift computed in  10.59s; total  11.10s\n",
      "kilosort.run_kilosort:  \n",
      "kilosort.run_kilosort: Resource usage after drift correction\n",
      "kilosort.run_kilosort: ********************************************************\n",
      "kilosort.run_kilosort: CPU usage:    23.50 %\n",
      "kilosort.run_kilosort: Memory:       59.96 %     |     28.74   /    47.93 GB\n",
      "kilosort.run_kilosort: ------------------------------------------------------\n",
      "kilosort.run_kilosort: GPU usage:    `conda install pynvml` for GPU usage\n",
      "kilosort.run_kilosort: GPU memory:   15.41 %     |      1.23   /     8.00 GB\n",
      "kilosort.run_kilosort: Allocated:     0.10 %     |      0.01   /     8.00 GB\n",
      "kilosort.run_kilosort: Max alloc:     2.12 %     |      0.17   /     8.00 GB\n",
      "kilosort.run_kilosort: ********************************************************\n",
      "kilosort.run_kilosort:  \n",
      "kilosort.run_kilosort: Extracting spikes using templates\n",
      "kilosort.run_kilosort: ----------------------------------------\n",
      "kilosort.spikedetect: Re-computing universal templates from data.\n",
      "kilosort.spikedetect: Number of universal templates: 63\n",
      "kilosort.spikedetect: Detecting spikes...\n",
      "100%|██████████| 145/145 [00:09<00:00, 14.83it/s]\n",
      "kilosort.run_kilosort: 12117 spikes extracted in  9.99s; total  21.13s\n",
      "kilosort.run_kilosort:  \n",
      "kilosort.run_kilosort: First clustering\n",
      "kilosort.run_kilosort: ----------------------------------------\n",
      "100%|██████████| 16/16 [00:02<00:00,  6.39it/s]\n",
      "kilosort.run_kilosort: 22 clusters found, in  2.55s; total  23.68s\n",
      "kilosort.run_kilosort:  \n",
      "kilosort.run_kilosort: Extracting spikes using cluster waveforms\n",
      "kilosort.run_kilosort: ----------------------------------------\n",
      "100%|██████████| 145/145 [00:03<00:00, 43.37it/s]\n",
      "kilosort.run_kilosort: 23802 spikes extracted in  3.44s; total  27.13s\n",
      "kilosort.run_kilosort:  \n",
      "kilosort.run_kilosort: Resource usage after spike detection\n",
      "kilosort.run_kilosort: ********************************************************\n",
      "kilosort.run_kilosort: CPU usage:    31.20 %\n",
      "kilosort.run_kilosort: Memory:       61.23 %     |     29.35   /    47.93 GB\n",
      "kilosort.run_kilosort: ------------------------------------------------------\n",
      "kilosort.run_kilosort: GPU usage:    `conda install pynvml` for GPU usage\n",
      "kilosort.run_kilosort: GPU memory:   15.98 %     |      1.28   /     8.00 GB\n",
      "kilosort.run_kilosort: Allocated:     0.10 %     |      0.01   /     8.00 GB\n",
      "kilosort.run_kilosort: Max alloc:     2.12 %     |      0.17   /     8.00 GB\n",
      "kilosort.run_kilosort: ********************************************************\n",
      "kilosort.run_kilosort:  \n",
      "kilosort.run_kilosort: Final clustering\n",
      "kilosort.run_kilosort: ----------------------------------------\n",
      "100%|██████████| 16/16 [00:06<00:00,  2.40it/s]\n",
      "kilosort.run_kilosort: 20 clusters found, in  6.67s; total  33.82s\n",
      "kilosort.run_kilosort:  \n",
      "kilosort.run_kilosort: Merging clusters\n",
      "kilosort.run_kilosort: ----------------------------------------\n",
      "kilosort.run_kilosort: 17 units found, in  0.03s; total  33.85s\n",
      "kilosort.run_kilosort:  \n",
      "kilosort.run_kilosort: Resource usage after clustering\n",
      "kilosort.run_kilosort: ********************************************************\n",
      "kilosort.run_kilosort: CPU usage:    52.80 %\n",
      "kilosort.run_kilosort: Memory:       60.26 %     |     28.88   /    47.93 GB\n",
      "kilosort.run_kilosort: ------------------------------------------------------\n",
      "kilosort.run_kilosort: GPU usage:    `conda install pynvml` for GPU usage\n",
      "kilosort.run_kilosort: GPU memory:   15.98 %     |      1.28   /     8.00 GB\n",
      "kilosort.run_kilosort: Allocated:     0.10 %     |      0.01   /     8.00 GB\n",
      "kilosort.run_kilosort: Max alloc:     2.12 %     |      0.17   /     8.00 GB\n",
      "kilosort.run_kilosort: ********************************************************\n",
      "kilosort.run_kilosort:  \n",
      "kilosort.run_kilosort: Saving to phy and computing refractory periods\n",
      "kilosort.run_kilosort: ----------------------------------------\n",
      "kilosort.run_kilosort: 7 units found with good refractory periods\n",
      "kilosort.run_kilosort: Total runtime: 34.17s = 00:00:34 h:m:s\n",
      "kilosort.run_kilosort: Sorting output saved in: D:\\Data\\CMU.80 Data\\88 Analyzed Data\\88.002 Multi rat kilosort export\\binary\\DRGS_10_240911_155921\\kilosort4.\n",
      "kilosort.run_kilosort:  \n",
      "kilosort.run_kilosort: Resource usage after saving\n",
      "kilosort.run_kilosort: ********************************************************\n",
      "kilosort.run_kilosort: CPU usage:    71.10 %\n",
      "kilosort.run_kilosort: Memory:       60.29 %     |     28.90   /    47.93 GB\n",
      "kilosort.run_kilosort: ------------------------------------------------------\n",
      "kilosort.run_kilosort: GPU usage:    `conda install pynvml` for GPU usage\n",
      "kilosort.run_kilosort: GPU memory:   15.98 %     |      1.28   /     8.00 GB\n",
      "kilosort.run_kilosort: Allocated:     0.10 %     |      0.01   /     8.00 GB\n",
      "kilosort.run_kilosort: Max alloc:     2.12 %     |      0.17   /     8.00 GB\n",
      "kilosort.run_kilosort: ********************************************************\n"
     ]
    },
    {
     "ename": "FileNotFoundError",
     "evalue": "[Errno 2] No such file or directory: 'D:\\\\Data\\\\CMU.80 Data\\\\88 Analyzed Data\\\\88.002 Multi rat kilosort export\\\\figures\\\\spike_summary_DRGS_10_240911_155921.png'",
     "output_type": "error",
     "traceback": [
      "\u001b[1;31m---------------------------------------------------------------------------\u001b[0m",
      "\u001b[1;31mFileNotFoundError\u001b[0m                         Traceback (most recent call last)",
      "Cell \u001b[1;32mIn[10], line 8\u001b[0m\n\u001b[0;32m      1\u001b[0m \u001b[38;5;66;03m# analysis.save_spinalcord_data_to_binary(TRIAL_NAMES=[\"VF_DRG_1_241115_145435\",\u001b[39;00m\n\u001b[0;32m      2\u001b[0m \u001b[38;5;66;03m#                                                      \"VF_DRG_1_241115_145435\",\u001b[39;00m\n\u001b[0;32m      3\u001b[0m \u001b[38;5;66;03m#                                                      \"VF_DRG_1_241115_145739\",\u001b[39;00m\n\u001b[0;32m      4\u001b[0m \u001b[38;5;66;03m#                                                      \"VF_DRG_4_241115_153512\",\u001b[39;00m\n\u001b[0;32m      5\u001b[0m \u001b[38;5;66;03m#                                                      \"VF_DRG_4_241115_170440\",\u001b[39;00m\n\u001b[0;32m      6\u001b[0m \u001b[38;5;66;03m#                                                      ])\u001b[39;00m\n\u001b[0;32m      7\u001b[0m signals\u001b[38;5;241m.\u001b[39msave_spinalcord_data_to_binary()\n\u001b[1;32m----> 8\u001b[0m \u001b[43mspikes\u001b[49m\u001b[38;5;241;43m.\u001b[39;49m\u001b[43mrun_kilosort_trial_summary\u001b[49m\u001b[43m(\u001b[49m\u001b[43m)\u001b[49m\n",
      "File \u001b[1;32mc:\\Users\\KarlJ\\Documents\\_Python\\CMU.49.003-Spike-Sorting-Kilosort\\automations\\RM1.py:336\u001b[0m, in \u001b[0;36mrun_kilosort_trial_summary\u001b[1;34m(self, new_settings, **kwargs)\u001b[0m\n\u001b[0;32m    333\u001b[0m ax\u001b[38;5;241m.\u001b[39mset_ylabel(\u001b[38;5;124m'\u001b[39m\u001b[38;5;124m# of units\u001b[39m\u001b[38;5;124m'\u001b[39m)\n\u001b[0;32m    334\u001b[0m ax\u001b[38;5;241m.\u001b[39mset_title(\u001b[38;5;124m'\u001b[39m\u001b[38;5;124m< 10\u001b[39m\u001b[38;5;124m%\u001b[39m\u001b[38;5;124m = good units\u001b[39m\u001b[38;5;124m'\u001b[39m)\n\u001b[1;32m--> 336\u001b[0m \u001b[38;5;28;01mfor\u001b[39;00m k \u001b[38;5;129;01min\u001b[39;00m \u001b[38;5;28mrange\u001b[39m(\u001b[38;5;241m2\u001b[39m):\n\u001b[0;32m    337\u001b[0m     ax \u001b[38;5;241m=\u001b[39m fig\u001b[38;5;241m.\u001b[39madd_subplot(grid[\u001b[38;5;241m2\u001b[39m,k])\n\u001b[0;32m    338\u001b[0m     is_ref \u001b[38;5;241m=\u001b[39m contam_pct\u001b[38;5;241m<\u001b[39m\u001b[38;5;241m10.\u001b[39m\n",
      "File \u001b[1;32mc:\\Users\\KarlJ\\anaconda3\\envs\\kilosort\\lib\\site-packages\\matplotlib\\pyplot.py:1228\u001b[0m, in \u001b[0;36msavefig\u001b[1;34m(*args, **kwargs)\u001b[0m\n\u001b[0;32m   1225\u001b[0m fig \u001b[38;5;241m=\u001b[39m gcf()\n\u001b[0;32m   1226\u001b[0m \u001b[38;5;66;03m# savefig default implementation has no return, so mypy is unhappy\u001b[39;00m\n\u001b[0;32m   1227\u001b[0m \u001b[38;5;66;03m# presumably this is here because subclasses can return?\u001b[39;00m\n\u001b[1;32m-> 1228\u001b[0m res \u001b[38;5;241m=\u001b[39m fig\u001b[38;5;241m.\u001b[39msavefig(\u001b[38;5;241m*\u001b[39margs, \u001b[38;5;241m*\u001b[39m\u001b[38;5;241m*\u001b[39mkwargs)  \u001b[38;5;66;03m# type: ignore[func-returns-value]\u001b[39;00m\n\u001b[0;32m   1229\u001b[0m fig\u001b[38;5;241m.\u001b[39mcanvas\u001b[38;5;241m.\u001b[39mdraw_idle()  \u001b[38;5;66;03m# Need this if 'transparent=True', to reset colors.\u001b[39;00m\n\u001b[0;32m   1230\u001b[0m \u001b[38;5;28;01mreturn\u001b[39;00m res\n",
      "File \u001b[1;32mc:\\Users\\KarlJ\\anaconda3\\envs\\kilosort\\lib\\site-packages\\matplotlib\\figure.py:3395\u001b[0m, in \u001b[0;36mFigure.savefig\u001b[1;34m(self, fname, transparent, **kwargs)\u001b[0m\n\u001b[0;32m   3393\u001b[0m     \u001b[38;5;28;01mfor\u001b[39;00m ax \u001b[38;5;129;01min\u001b[39;00m \u001b[38;5;28mself\u001b[39m\u001b[38;5;241m.\u001b[39maxes:\n\u001b[0;32m   3394\u001b[0m         _recursively_make_axes_transparent(stack, ax)\n\u001b[1;32m-> 3395\u001b[0m \u001b[38;5;28mself\u001b[39m\u001b[38;5;241m.\u001b[39mcanvas\u001b[38;5;241m.\u001b[39mprint_figure(fname, \u001b[38;5;241m*\u001b[39m\u001b[38;5;241m*\u001b[39mkwargs)\n",
      "File \u001b[1;32mc:\\Users\\KarlJ\\anaconda3\\envs\\kilosort\\lib\\site-packages\\matplotlib\\backend_bases.py:2204\u001b[0m, in \u001b[0;36mFigureCanvasBase.print_figure\u001b[1;34m(self, filename, dpi, facecolor, edgecolor, orientation, format, bbox_inches, pad_inches, bbox_extra_artists, backend, **kwargs)\u001b[0m\n\u001b[0;32m   2200\u001b[0m \u001b[38;5;28;01mtry\u001b[39;00m:\n\u001b[0;32m   2201\u001b[0m     \u001b[38;5;66;03m# _get_renderer may change the figure dpi (as vector formats\u001b[39;00m\n\u001b[0;32m   2202\u001b[0m     \u001b[38;5;66;03m# force the figure dpi to 72), so we need to set it again here.\u001b[39;00m\n\u001b[0;32m   2203\u001b[0m     \u001b[38;5;28;01mwith\u001b[39;00m cbook\u001b[38;5;241m.\u001b[39m_setattr_cm(\u001b[38;5;28mself\u001b[39m\u001b[38;5;241m.\u001b[39mfigure, dpi\u001b[38;5;241m=\u001b[39mdpi):\n\u001b[1;32m-> 2204\u001b[0m         result \u001b[38;5;241m=\u001b[39m print_method(\n\u001b[0;32m   2205\u001b[0m             filename,\n\u001b[0;32m   2206\u001b[0m             facecolor\u001b[38;5;241m=\u001b[39mfacecolor,\n\u001b[0;32m   2207\u001b[0m             edgecolor\u001b[38;5;241m=\u001b[39medgecolor,\n\u001b[0;32m   2208\u001b[0m             orientation\u001b[38;5;241m=\u001b[39morientation,\n\u001b[0;32m   2209\u001b[0m             bbox_inches_restore\u001b[38;5;241m=\u001b[39m_bbox_inches_restore,\n\u001b[0;32m   2210\u001b[0m             \u001b[38;5;241m*\u001b[39m\u001b[38;5;241m*\u001b[39mkwargs)\n\u001b[0;32m   2211\u001b[0m \u001b[38;5;28;01mfinally\u001b[39;00m:\n\u001b[0;32m   2212\u001b[0m     \u001b[38;5;28;01mif\u001b[39;00m bbox_inches \u001b[38;5;129;01mand\u001b[39;00m restore_bbox:\n",
      "File \u001b[1;32mc:\\Users\\KarlJ\\anaconda3\\envs\\kilosort\\lib\\site-packages\\matplotlib\\backend_bases.py:2054\u001b[0m, in \u001b[0;36mFigureCanvasBase._switch_canvas_and_return_print_method.<locals>.<lambda>\u001b[1;34m(*args, **kwargs)\u001b[0m\n\u001b[0;32m   2050\u001b[0m     optional_kws \u001b[38;5;241m=\u001b[39m {  \u001b[38;5;66;03m# Passed by print_figure for other renderers.\u001b[39;00m\n\u001b[0;32m   2051\u001b[0m         \u001b[38;5;124m\"\u001b[39m\u001b[38;5;124mdpi\u001b[39m\u001b[38;5;124m\"\u001b[39m, \u001b[38;5;124m\"\u001b[39m\u001b[38;5;124mfacecolor\u001b[39m\u001b[38;5;124m\"\u001b[39m, \u001b[38;5;124m\"\u001b[39m\u001b[38;5;124medgecolor\u001b[39m\u001b[38;5;124m\"\u001b[39m, \u001b[38;5;124m\"\u001b[39m\u001b[38;5;124morientation\u001b[39m\u001b[38;5;124m\"\u001b[39m,\n\u001b[0;32m   2052\u001b[0m         \u001b[38;5;124m\"\u001b[39m\u001b[38;5;124mbbox_inches_restore\u001b[39m\u001b[38;5;124m\"\u001b[39m}\n\u001b[0;32m   2053\u001b[0m     skip \u001b[38;5;241m=\u001b[39m optional_kws \u001b[38;5;241m-\u001b[39m {\u001b[38;5;241m*\u001b[39minspect\u001b[38;5;241m.\u001b[39msignature(meth)\u001b[38;5;241m.\u001b[39mparameters}\n\u001b[1;32m-> 2054\u001b[0m     print_method \u001b[38;5;241m=\u001b[39m functools\u001b[38;5;241m.\u001b[39mwraps(meth)(\u001b[38;5;28;01mlambda\u001b[39;00m \u001b[38;5;241m*\u001b[39margs, \u001b[38;5;241m*\u001b[39m\u001b[38;5;241m*\u001b[39mkwargs: meth(\n\u001b[0;32m   2055\u001b[0m         \u001b[38;5;241m*\u001b[39margs, \u001b[38;5;241m*\u001b[39m\u001b[38;5;241m*\u001b[39m{k: v \u001b[38;5;28;01mfor\u001b[39;00m k, v \u001b[38;5;129;01min\u001b[39;00m kwargs\u001b[38;5;241m.\u001b[39mitems() \u001b[38;5;28;01mif\u001b[39;00m k \u001b[38;5;129;01mnot\u001b[39;00m \u001b[38;5;129;01min\u001b[39;00m skip}))\n\u001b[0;32m   2056\u001b[0m \u001b[38;5;28;01melse\u001b[39;00m:  \u001b[38;5;66;03m# Let third-parties do as they see fit.\u001b[39;00m\n\u001b[0;32m   2057\u001b[0m     print_method \u001b[38;5;241m=\u001b[39m meth\n",
      "File \u001b[1;32mc:\\Users\\KarlJ\\anaconda3\\envs\\kilosort\\lib\\site-packages\\matplotlib\\backends\\backend_agg.py:496\u001b[0m, in \u001b[0;36mFigureCanvasAgg.print_png\u001b[1;34m(self, filename_or_obj, metadata, pil_kwargs)\u001b[0m\n\u001b[0;32m    449\u001b[0m \u001b[38;5;28;01mdef\u001b[39;00m \u001b[38;5;21mprint_png\u001b[39m(\u001b[38;5;28mself\u001b[39m, filename_or_obj, \u001b[38;5;241m*\u001b[39m, metadata\u001b[38;5;241m=\u001b[39m\u001b[38;5;28;01mNone\u001b[39;00m, pil_kwargs\u001b[38;5;241m=\u001b[39m\u001b[38;5;28;01mNone\u001b[39;00m):\n\u001b[0;32m    450\u001b[0m \u001b[38;5;250m    \u001b[39m\u001b[38;5;124;03m\"\"\"\u001b[39;00m\n\u001b[0;32m    451\u001b[0m \u001b[38;5;124;03m    Write the figure to a PNG file.\u001b[39;00m\n\u001b[0;32m    452\u001b[0m \n\u001b[1;32m   (...)\u001b[0m\n\u001b[0;32m    494\u001b[0m \u001b[38;5;124;03m        *metadata*, including the default 'Software' key.\u001b[39;00m\n\u001b[0;32m    495\u001b[0m \u001b[38;5;124;03m    \"\"\"\u001b[39;00m\n\u001b[1;32m--> 496\u001b[0m     \u001b[38;5;28;43mself\u001b[39;49m\u001b[38;5;241;43m.\u001b[39;49m\u001b[43m_print_pil\u001b[49m\u001b[43m(\u001b[49m\u001b[43mfilename_or_obj\u001b[49m\u001b[43m,\u001b[49m\u001b[43m \u001b[49m\u001b[38;5;124;43m\"\u001b[39;49m\u001b[38;5;124;43mpng\u001b[39;49m\u001b[38;5;124;43m\"\u001b[39;49m\u001b[43m,\u001b[49m\u001b[43m \u001b[49m\u001b[43mpil_kwargs\u001b[49m\u001b[43m,\u001b[49m\u001b[43m \u001b[49m\u001b[43mmetadata\u001b[49m\u001b[43m)\u001b[49m\n",
      "File \u001b[1;32mc:\\Users\\KarlJ\\anaconda3\\envs\\kilosort\\lib\\site-packages\\matplotlib\\backends\\backend_agg.py:445\u001b[0m, in \u001b[0;36mFigureCanvasAgg._print_pil\u001b[1;34m(self, filename_or_obj, fmt, pil_kwargs, metadata)\u001b[0m\n\u001b[0;32m    440\u001b[0m \u001b[38;5;250m\u001b[39m\u001b[38;5;124;03m\"\"\"\u001b[39;00m\n\u001b[0;32m    441\u001b[0m \u001b[38;5;124;03mDraw the canvas, then save it using `.image.imsave` (to which\u001b[39;00m\n\u001b[0;32m    442\u001b[0m \u001b[38;5;124;03m*pil_kwargs* and *metadata* are forwarded).\u001b[39;00m\n\u001b[0;32m    443\u001b[0m \u001b[38;5;124;03m\"\"\"\u001b[39;00m\n\u001b[0;32m    444\u001b[0m FigureCanvasAgg\u001b[38;5;241m.\u001b[39mdraw(\u001b[38;5;28mself\u001b[39m)\n\u001b[1;32m--> 445\u001b[0m \u001b[43mmpl\u001b[49m\u001b[38;5;241;43m.\u001b[39;49m\u001b[43mimage\u001b[49m\u001b[38;5;241;43m.\u001b[39;49m\u001b[43mimsave\u001b[49m\u001b[43m(\u001b[49m\n\u001b[0;32m    446\u001b[0m \u001b[43m    \u001b[49m\u001b[43mfilename_or_obj\u001b[49m\u001b[43m,\u001b[49m\u001b[43m \u001b[49m\u001b[38;5;28;43mself\u001b[39;49m\u001b[38;5;241;43m.\u001b[39;49m\u001b[43mbuffer_rgba\u001b[49m\u001b[43m(\u001b[49m\u001b[43m)\u001b[49m\u001b[43m,\u001b[49m\u001b[43m \u001b[49m\u001b[38;5;28;43mformat\u001b[39;49m\u001b[38;5;241;43m=\u001b[39;49m\u001b[43mfmt\u001b[49m\u001b[43m,\u001b[49m\u001b[43m \u001b[49m\u001b[43morigin\u001b[49m\u001b[38;5;241;43m=\u001b[39;49m\u001b[38;5;124;43m\"\u001b[39;49m\u001b[38;5;124;43mupper\u001b[39;49m\u001b[38;5;124;43m\"\u001b[39;49m\u001b[43m,\u001b[49m\n\u001b[0;32m    447\u001b[0m \u001b[43m    \u001b[49m\u001b[43mdpi\u001b[49m\u001b[38;5;241;43m=\u001b[39;49m\u001b[38;5;28;43mself\u001b[39;49m\u001b[38;5;241;43m.\u001b[39;49m\u001b[43mfigure\u001b[49m\u001b[38;5;241;43m.\u001b[39;49m\u001b[43mdpi\u001b[49m\u001b[43m,\u001b[49m\u001b[43m \u001b[49m\u001b[43mmetadata\u001b[49m\u001b[38;5;241;43m=\u001b[39;49m\u001b[43mmetadata\u001b[49m\u001b[43m,\u001b[49m\u001b[43m \u001b[49m\u001b[43mpil_kwargs\u001b[49m\u001b[38;5;241;43m=\u001b[39;49m\u001b[43mpil_kwargs\u001b[49m\u001b[43m)\u001b[49m\n",
      "File \u001b[1;32mc:\\Users\\KarlJ\\anaconda3\\envs\\kilosort\\lib\\site-packages\\matplotlib\\image.py:1676\u001b[0m, in \u001b[0;36mimsave\u001b[1;34m(fname, arr, vmin, vmax, cmap, format, origin, dpi, metadata, pil_kwargs)\u001b[0m\n\u001b[0;32m   1674\u001b[0m pil_kwargs\u001b[38;5;241m.\u001b[39msetdefault(\u001b[38;5;124m\"\u001b[39m\u001b[38;5;124mformat\u001b[39m\u001b[38;5;124m\"\u001b[39m, \u001b[38;5;28mformat\u001b[39m)\n\u001b[0;32m   1675\u001b[0m pil_kwargs\u001b[38;5;241m.\u001b[39msetdefault(\u001b[38;5;124m\"\u001b[39m\u001b[38;5;124mdpi\u001b[39m\u001b[38;5;124m\"\u001b[39m, (dpi, dpi))\n\u001b[1;32m-> 1676\u001b[0m image\u001b[38;5;241m.\u001b[39msave(fname, \u001b[38;5;241m*\u001b[39m\u001b[38;5;241m*\u001b[39mpil_kwargs)\n",
      "File \u001b[1;32mc:\\Users\\KarlJ\\anaconda3\\envs\\kilosort\\lib\\site-packages\\PIL\\Image.py:2600\u001b[0m, in \u001b[0;36mImage.save\u001b[1;34m(self, fp, format, **params)\u001b[0m\n\u001b[0;32m   2598\u001b[0m         fp \u001b[38;5;241m=\u001b[39m builtins\u001b[38;5;241m.\u001b[39mopen(filename, \u001b[38;5;124m\"\u001b[39m\u001b[38;5;124mr+b\u001b[39m\u001b[38;5;124m\"\u001b[39m)\n\u001b[0;32m   2599\u001b[0m     \u001b[38;5;28;01melse\u001b[39;00m:\n\u001b[1;32m-> 2600\u001b[0m         fp \u001b[38;5;241m=\u001b[39m \u001b[43mbuiltins\u001b[49m\u001b[38;5;241;43m.\u001b[39;49m\u001b[43mopen\u001b[49m\u001b[43m(\u001b[49m\u001b[43mfilename\u001b[49m\u001b[43m,\u001b[49m\u001b[43m \u001b[49m\u001b[38;5;124;43m\"\u001b[39;49m\u001b[38;5;124;43mw+b\u001b[39;49m\u001b[38;5;124;43m\"\u001b[39;49m\u001b[43m)\u001b[49m\n\u001b[0;32m   2601\u001b[0m \u001b[38;5;28;01melse\u001b[39;00m:\n\u001b[0;32m   2602\u001b[0m     fp \u001b[38;5;241m=\u001b[39m cast(IO[\u001b[38;5;28mbytes\u001b[39m], fp)\n",
      "\u001b[1;31mFileNotFoundError\u001b[0m: [Errno 2] No such file or directory: 'D:\\\\Data\\\\CMU.80 Data\\\\88 Analyzed Data\\\\88.002 Multi rat kilosort export\\\\figures\\\\spike_summary_DRGS_10_240911_155921.png'"
     ]
    },
    {
     "data": {
      "image/png": "[encoded data removed]",
      "text/plain": [
       "<Figure size 1000x1000 with 7 Axes>"
      ]
     },
     "metadata": {},
     "output_type": "display_data"
    }
   ],
   "source": [
    "# analysis.save_spinalcord_data_to_binary(TRIAL_NAMES=[\"VF_DRG_1_241115_145435\",\n",
    "#                                                      \"VF_DRG_1_241115_145435\",\n",
    "#                                                      \"VF_DRG_1_241115_145739\",\n",
    "#                                                      \"VF_DRG_4_241115_153512\",\n",
    "#                                                      \"VF_DRG_4_241115_170440\",\n",
    "#                                                      ])\n",
    "signals.save_spinalcord_data_to_binary()\n",
    "spikes.run_kilosort_trial_summary()"
   ]
  },
  {
   "cell_type": "markdown",
   "metadata": {},
   "source": [
    "# 🐁 Analysis DRG Stimulation Trial on Rat DW323\n",
    "---"
   ]
  },
  {
   "cell_type": "markdown",
   "metadata": {},
   "source": [
    "### defining filepaths"
   ]
  },
  {
   "cell_type": "code",
   "execution_count": null,
   "metadata": {},
   "outputs": [],
   "source": [
    "SAVE_DIRECTORY = Path(fr'D:\\Data\\CMU.80 Data\\88 Analyzed Data\\88.003 Initial Analysis, DW323')  # NOTE Specify the path where the data will be copied to, and where Kilosort4 results will be saved.\n",
    "DATA_DIRECTORY = Path(fr'D:\\Data\\CMU.80 Data\\82 External Data\\82.002 Sample Rat Data from RM1 Project')  # NOTE Specify the path where the data will be copied to, and where Kilosort4 results will be saved.\n",
    "# Create path if it doesn't exist\n",
    "DATA_DIRECTORY.mkdir(parents=True, exist_ok=True)\n",
    "SAVE_DIRECTORY.mkdir(parents=True, exist_ok=True)"
   ]
  },
  {
   "cell_type": "code",
   "execution_count": null,
   "metadata": {},
   "outputs": [],
   "source": [
    "DW323 = RM1.Rat(DATA_DIRECTORY, PROBE_DIRECTORY, \"DW323\")\n",
    "DW323.get_sc_data()"
   ]
  },
  {
   "cell_type": "markdown",
   "metadata": {},
   "source": [
    "## 🔬 Exploratory Data Analysis (EDA)\n",
    "\n",
    "\n",
    "see paper for more information. for this experiment, I elected to start my analysis with trial: \n",
    "\n",
    "**Rat: DW322 | Trial: DRGS_1_240918_125448**"
   ]
  },
  {
   "cell_type": "code",
   "execution_count": null,
   "metadata": {},
   "outputs": [],
   "source": [
    "DW323.sc_data.keys()"
   ]
  },
  {
   "cell_type": "code",
   "execution_count": null,
   "metadata": {},
   "outputs": [],
   "source": [
    "TRIAL_DRGS = \"DRGS_11_240911_160638\"\n",
    "TRIAL_VF = \"\""
   ]
  },
  {
   "cell_type": "markdown",
   "metadata": {},
   "source": [
    "## 📑 metadata - DRGS"
   ]
  },
  {
   "cell_type": "code",
   "execution_count": null,
   "metadata": {},
   "outputs": [],
   "source": [
    "DW323.drgs_experiment_notes"
   ]
  },
  {
   "cell_type": "code",
   "execution_count": null,
   "metadata": {},
   "outputs": [],
   "source": [
    "DW323.drgs_trial_notes.loc[11].to_latex(r\"D:\\Data\\CMU.80 Data\\88 Analyzed Data\\88.003 Initial Analysis, DW323\\tables\\drgs_trial_notes.tex\",\n",
    "                                        header=False,\n",
    "                                        )\n",
    "DW323.drgs_trial_notes.loc[11]"
   ]
  },
  {
   "cell_type": "markdown",
   "metadata": {},
   "source": [
    "## 📑 metadata - DRGS"
   ]
  },
  {
   "cell_type": "code",
   "execution_count": null,
   "metadata": {},
   "outputs": [],
   "source": [
    "DW323.qst_experiment_notes"
   ]
  },
  {
   "cell_type": "code",
   "execution_count": null,
   "metadata": {},
   "outputs": [],
   "source": [
    "DW323.qst_trial_notes"
   ]
  },
  {
   "cell_type": "markdown",
   "metadata": {},
   "source": [
    "## 📈 signals"
   ]
  },
  {
   "cell_type": "code",
   "execution_count": null,
   "metadata": {},
   "outputs": [],
   "source": [
    "DW323.intan_recordings_stream0[TRIAL_DRGS]"
   ]
  },
  {
   "cell_type": "code",
   "execution_count": null,
   "metadata": {},
   "outputs": [],
   "source": [
    "DW323.intan_recordings_stream1[TRIAL_DRGS]"
   ]
  },
  {
   "cell_type": "code",
   "execution_count": null,
   "metadata": {},
   "outputs": [],
   "source": [
    "DW323.intan_recordings_stream3[TRIAL_DRGS]"
   ]
  },
  {
   "cell_type": "code",
   "execution_count": null,
   "metadata": {},
   "outputs": [],
   "source": [
    "DW323.intan_recordings_stream4[TRIAL_DRGS]\n"
   ]
  },
  {
   "cell_type": "code",
   "execution_count": null,
   "metadata": {},
   "outputs": [],
   "source": [
    "DW323.sc_data[TRIAL_DRGS]"
   ]
  },
  {
   "cell_type": "code",
   "execution_count": null,
   "metadata": {},
   "outputs": [],
   "source": [
    "recording = DW323.sc_data[TRIAL_DRGS]"
   ]
  },
  {
   "cell_type": "code",
   "execution_count": null,
   "metadata": {},
   "outputs": [],
   "source": [
    "# Get all channel IDs\n",
    "channel_ids = recording.get_channel_ids()\n",
    "\n",
    "# Find the index of channel 'A-000'\n",
    "try:\n",
    "    channel_idx = list(channel_ids).index('A-000')\n",
    "except ValueError:\n",
    "    raise ValueError(\"Channel 'A-000' not found in the recording.\")\n",
    "\n",
    "channel_ids"
   ]
  },
  {
   "cell_type": "code",
   "execution_count": null,
   "metadata": {},
   "outputs": [],
   "source": [
    "# Retrieve gain and offset arrays for all channels\n",
    "gain_to_uV_array = recording.get_property('gain_to_uV')\n",
    "offset_to_uV_array = recording.get_property('offset_to_uV')\n",
    "\n",
    "# Get gain and offset for 'A-000' using the channel index\n",
    "gain_to_uV = gain_to_uV_array[channel_idx]\n",
    "offset_to_uV = offset_to_uV_array[channel_idx]\n",
    "print(gain_to_uV, offset_to_uV)"
   ]
  },
  {
   "cell_type": "code",
   "execution_count": null,
   "metadata": {},
   "outputs": [],
   "source": [
    "# Retrieve the trace for channel 'A-000'\n",
    "trace = recording.get_traces(channel_ids=['A-000'])  # to get only one datapoint, append with [0]\n"
   ]
  },
  {
   "cell_type": "code",
   "execution_count": null,
   "metadata": {},
   "outputs": [],
   "source": [
    "# Convert raw data to voltage\n",
    "voltage = trace * gain_to_uV + offset_to_uV\n",
    "voltage"
   ]
  },
  {
   "cell_type": "code",
   "execution_count": null,
   "metadata": {},
   "outputs": [],
   "source": [
    "# Get sampling frequency\n",
    "sampling_rate = recording.get_sampling_frequency()\n",
    "\n",
    "# Calculate time axis\n",
    "n_samples = len(voltage)\n",
    "time = np.arange(n_samples) / sampling_rate  # Time in seconds\n"
   ]
  },
  {
   "cell_type": "code",
   "execution_count": null,
   "metadata": {},
   "outputs": [],
   "source": [
    "plt.figure(figsize=(15, 5))\n",
    "plt.plot(time, voltage, label='Channel A-000')\n",
    "plt.xlabel('Time (s)')\n",
    "plt.ylabel('Voltage (µV)')\n",
    "plt.title('Voltage Trace for Channel A-000')\n",
    "plt.legend()\n",
    "plt.tight_layout()\n",
    "plt.show()\n"
   ]
  },
  {
   "cell_type": "code",
   "execution_count": null,
   "metadata": {},
   "outputs": [],
   "source": [
    "# plotting pre-drg stim window\n",
    "start_time = 0\n",
    "end_time = 25\n",
    "start_idx = int(start_time * sampling_rate)\n",
    "end_idx = int(end_time * sampling_rate)\n",
    "\n",
    "time_window = time[start_idx:end_idx]\n",
    "voltage_window = voltage[start_idx:end_idx]\n",
    "\n",
    "plt.figure(figsize=(15, 5))\n",
    "plt.plot(time_window, voltage_window, label='Channel A-000')\n",
    "plt.xlabel('Time (s)')\n",
    "plt.ylabel('Voltage (µV)')\n",
    "plt.title(f'Voltage Trace for Channel A-000 ({start_time}-{end_time} seconds)')\n",
    "plt.legend()\n",
    "plt.tight_layout()\n",
    "plt.show()"
   ]
  },
  {
   "cell_type": "code",
   "execution_count": null,
   "metadata": {},
   "outputs": [],
   "source": [
    "# plotting drg stim window\n",
    "start_time = 25\n",
    "end_time = 210\n",
    "start_idx = int(start_time * sampling_rate)\n",
    "end_idx = int(end_time * sampling_rate)\n",
    "\n",
    "time_window = time[start_idx:end_idx]\n",
    "voltage_window = voltage[start_idx:end_idx]\n",
    "\n",
    "plt.figure(figsize=(15, 5))\n",
    "plt.plot(time_window, voltage_window, label='Channel A-000')\n",
    "plt.xlabel('Time (s)')\n",
    "plt.ylabel('Voltage (µV)')\n",
    "plt.title(f'Voltage Trace for Channel A-000 ({start_time}-{end_time} seconds)')\n",
    "plt.legend()\n",
    "plt.tight_layout()\n",
    "plt.show()"
   ]
  },
  {
   "cell_type": "code",
   "execution_count": null,
   "metadata": {},
   "outputs": [],
   "source": [
    "# plotting post-drg stim window\n",
    "start_time = 265\n",
    "end_time = 300\n",
    "start_idx = int(start_time * sampling_rate)\n",
    "end_idx = int(end_time * sampling_rate)\n",
    "\n",
    "time_window = time[start_idx:end_idx]\n",
    "voltage_window = voltage[start_idx:end_idx]\n",
    "\n",
    "plt.figure(figsize=(15, 5))\n",
    "plt.plot(time_window, voltage_window, label='Channel A-000')\n",
    "plt.xlabel('Time (s)')\n",
    "plt.ylabel('Voltage (µV)')\n",
    "plt.title(f'Voltage Trace for Channel A-000 ({start_time}-{end_time} seconds)')\n",
    "plt.legend()\n",
    "plt.tight_layout()\n",
    "plt.show()"
   ]
  },
  {
   "cell_type": "code",
   "execution_count": null,
   "metadata": {},
   "outputs": [],
   "source": [
    "# # don't run yet - might have issues\n",
    "\n",
    "# import plotly.graph_objects as go\n",
    "# import numpy as np\n",
    "\n",
    "\n",
    "# # Create an interactive plot\n",
    "# fig = go.Figure()\n",
    "# fig.add_trace(go.Scatter(x=time.flatten(), y=voltage.flatten(), mode='lines', name='Sin(x)'))\n",
    "\n",
    "# # Show the interactive plot\n",
    "# fig.show()\n"
   ]
  },
  {
   "cell_type": "markdown",
   "metadata": {},
   "source": [
    "### analysis\n",
    "---"
   ]
  },
  {
   "cell_type": "markdown",
   "metadata": {},
   "source": [
    "### Identify Stimulation Times from Digital Channels"
   ]
  },
  {
   "cell_type": "markdown",
   "metadata": {},
   "source": [
    "Digital 1 - seems to be a start and end time to the experiment"
   ]
  },
  {
   "cell_type": "code",
   "execution_count": null,
   "metadata": {},
   "outputs": [],
   "source": [
    "# Extract the digital channel trace\n",
    "digital_trace = DW323.intan_recordings_stream4[TRIAL_DRGS].get_traces(channel_ids=['DIGITAL-IN-01'])\n",
    "plt.plot(digital_trace)"
   ]
  },
  {
   "cell_type": "markdown",
   "metadata": {},
   "source": [
    "Digital Input 2 - Entire Trace"
   ]
  },
  {
   "cell_type": "code",
   "execution_count": null,
   "metadata": {},
   "outputs": [],
   "source": [
    "# Extract the digital channel trace\n",
    "digital_trace = DW323.intan_recordings_stream4[TRIAL_DRGS].get_traces(channel_ids=['DIGITAL-IN-02'])\n",
    "plt.plot(digital_trace)"
   ]
  },
  {
   "cell_type": "markdown",
   "metadata": {},
   "source": [
    "Digital Input 2 - Pre-Stim Pulses\n",
    "\n",
    "each of these (9) stimulations has (10) pulse widths."
   ]
  },
  {
   "cell_type": "code",
   "execution_count": null,
   "metadata": {},
   "outputs": [],
   "source": [
    "plt.plot(digital_trace[150000:700000])"
   ]
  },
  {
   "cell_type": "markdown",
   "metadata": {},
   "source": [
    "Digital Input 2 - Spacing Between Stimulation"
   ]
  },
  {
   "cell_type": "markdown",
   "metadata": {},
   "source": [
    "There are about 60,000 samples in the digital trace. that corresponds to each stimulation occuring every (2) seconds. (60,000 samples / 30,000 samples/sec = 2 seconds)"
   ]
  },
  {
   "cell_type": "code",
   "execution_count": null,
   "metadata": {},
   "outputs": [],
   "source": [
    "plt.plot(digital_trace[159500:220000])"
   ]
  },
  {
   "cell_type": "markdown",
   "metadata": {},
   "source": [
    "Digital Input 2 - Intra-Stim Pulses\n",
    "\n",
    "there are (10) individual pulses across every 27,000 datapoints. \n",
    "27,000 / 9 = 3,000 samples between pulses.\n",
    "3,000 samples / 30,000 samples / sec = 0.1 seconds "
   ]
  },
  {
   "cell_type": "code",
   "execution_count": null,
   "metadata": {},
   "outputs": [],
   "source": [
    "plt.plot(digital_trace[159500:186600])"
   ]
  },
  {
   "cell_type": "markdown",
   "metadata": {},
   "source": [
    "Digital Input 2 - Individual Pulse Width"
   ]
  },
  {
   "cell_type": "markdown",
   "metadata": {},
   "source": [
    "Stimulation was occuring for (9) datapoints. Sampling frequency = 30kHz.  9 / 30E3 = 0.003 seconds = 300microseconds. This matches our expected pulse width."
   ]
  },
  {
   "cell_type": "code",
   "execution_count": null,
   "metadata": {},
   "outputs": [],
   "source": [
    "plt.plot(digital_trace[162504:162515])"
   ]
  },
  {
   "cell_type": "markdown",
   "metadata": {},
   "source": [
    "### Extract Stimulation Times:"
   ]
  },
  {
   "cell_type": "code",
   "execution_count": null,
   "metadata": {},
   "outputs": [],
   "source": [
    "# The digital trace is typically high (1) during a pulse and low (0) otherwise\n",
    "# We'll find the rising edges where the pulse starts\n",
    "\n",
    "# Threshold the digital trace to find rising edges\n",
    "threshold = 0.5  # Adjust based on your data\n",
    "digital_trace_binary = (digital_trace.astype(int) > threshold).astype(int).flatten()\n",
    "\n",
    "# Find indices where the digital trace goes from low to high (rising edge)\n",
    "rising_edges = np.where((digital_trace_binary[:-1] == 0) & (digital_trace_binary[1:] == 1))[0]\n",
    "\n",
    "# Convert indices to times\n",
    "sampling_rate = recording.get_sampling_frequency()\n",
    "stimulation_times = rising_edges / sampling_rate  # Times in seconds\n",
    "\n",
    "# Inspect the first 50 stimulation times\n",
    "stimulation_times[:100]"
   ]
  },
  {
   "cell_type": "code",
   "execution_count": null,
   "metadata": {},
   "outputs": [],
   "source": [
    "digital_trace.flatten()[159504:159515]"
   ]
  },
  {
   "cell_type": "code",
   "execution_count": null,
   "metadata": {},
   "outputs": [],
   "source": [
    "rising_edges"
   ]
  },
  {
   "cell_type": "markdown",
   "metadata": {},
   "source": [
    "### Perform Spike-Triggered Averaging (STA)"
   ]
  },
  {
   "cell_type": "markdown",
   "metadata": {},
   "source": [
    "Define the Time Window for STA:"
   ]
  },
  {
   "cell_type": "code",
   "execution_count": null,
   "metadata": {},
   "outputs": [],
   "source": [
    "# Define the time window around each stimulation pulse\n",
    "pre_time = -0.001  # setting it to negative so that I can delay the window 1 ms before the pulse\n",
    "post_time = 0.005  # 5 ms after the pulse\n",
    "window_samples = int((pre_time + post_time) * sampling_rate)\n",
    "window_samples"
   ]
  },
  {
   "cell_type": "code",
   "execution_count": null,
   "metadata": {},
   "outputs": [],
   "source": [
    "# # Parameters for the delayed window\n",
    "# delay_time = 0.002  # Delay of 2 ms after the rising edge\n",
    "# window_duration = 0.005  # Window length of 5 ms\n",
    "# delay_samples = int(delay_time * sampling_rate)  # Convert delay time to samples\n",
    "# window_samples = int(window_duration * sampling_rate)  # Convert window duration to samples\n",
    "# window_samples\n"
   ]
  },
  {
   "cell_type": "markdown",
   "metadata": {},
   "source": [
    "Extract Windows and Compute the Average:"
   ]
  },
  {
   "cell_type": "code",
   "execution_count": null,
   "metadata": {},
   "outputs": [],
   "source": [
    "# Choose the channel(s) to analyze (e.g., all channels or a specific one)\n",
    "# For this example, we'll use all channels except the digital channel\n",
    "channels_to_analyze = [\"A-000\"] # to analyze them all: [ch for ch in channel_ids]\n",
    "\n",
    "# Initialize an array to hold the extracted windows\n",
    "num_stims = len(stimulation_times)\n",
    "num_channels = len(channels_to_analyze)\n",
    "windows = np.zeros((num_stims, num_channels, window_samples))\n",
    "\n",
    "# Loop over each stimulation time and extract the window\n",
    "for i, stim_time in enumerate(stimulation_times):\n",
    "    # Convert time to sample index\n",
    "    stim_sample = int(stim_time * sampling_rate)\n",
    "    # Define window indices\n",
    "    start_sample = stim_sample - int(pre_time * sampling_rate)\n",
    "    end_sample = stim_sample + int(post_time * sampling_rate)\n",
    "    # Handle boundary conditions\n",
    "    if start_sample < 0 or end_sample > recording.get_num_frames():\n",
    "        continue  # Skip if window is out of bounds\n",
    "    # Extract the window for all channels\n",
    "    window = recording.get_traces(\n",
    "        channel_ids=channels_to_analyze,\n",
    "        start_frame=start_sample,\n",
    "        end_frame=end_sample\n",
    "    )\n",
    "    windows[i] = window.T  # Transpose to match dimensions\n"
   ]
  },
  {
   "cell_type": "markdown",
   "metadata": {},
   "source": [
    "Compute the Average ECAP:"
   ]
  },
  {
   "cell_type": "code",
   "execution_count": null,
   "metadata": {},
   "outputs": [],
   "source": [
    "# Compute the average across all stimulation windows\n",
    "average_ecap = np.mean(windows, axis=0)  # Shape: (num_channels, window_samples)\n",
    "average_ecap"
   ]
  },
  {
   "cell_type": "markdown",
   "metadata": {},
   "source": [
    "## Evoked Activity during DRG Stimulation\n",
    "\n",
    "when the DRG is stimulated, it sends an evoced compound action potential (ECAP) response to the spinal cord (SC) and an antidromic signal through the spinal nerve (SN). Literature demonstrates that at high frequencies, ECAP is attentuated significantly.  \n",
    "\n",
    "**Questions**\n",
    "\n",
    "1. "
   ]
  },
  {
   "cell_type": "markdown",
   "metadata": {},
   "source": [
    "### ECAP Attenuation\n",
    "\n",
    "DRG stim is a series of pulses. After each pulse, check to see the response of the nerve. If you do this over each window, you will get a response over time. This will be a TON of windows, so you will want to take an average per second. this is called spike trigger averaging. This is not a spike sorting approach, but instead, treats the signal collected from 1 channel as a representation of the *compound* activity\n"
   ]
  },
  {
   "cell_type": "markdown",
   "metadata": {},
   "source": [
    "## "
   ]
  },
  {
   "cell_type": "markdown",
   "metadata": {},
   "source": [
    "## ECAP Recovery After DRG Stimulation\n",
    "\n",
    "it is shown that DRG stimulation increate the activation threshold (AT)"
   ]
  },
  {
   "cell_type": "code",
   "execution_count": null,
   "metadata": {},
   "outputs": [],
   "source": []
  },
  {
   "cell_type": "markdown",
   "metadata": {},
   "source": [
    "## Spike Tracking"
   ]
  },
  {
   "cell_type": "markdown",
   "metadata": {},
   "source": [
    "### Spike Tracking\n",
    "\n",
    "\n",
    "**Questions**\n",
    "\n",
    "Perform Spike Sorting on Onset of Stimulation to End of Stimulation. Look at evoked responses over time. Take all of the 32 channels of data from SC. and the amplifier data from B. "
   ]
  },
  {
   "cell_type": "markdown",
   "metadata": {},
   "source": [
    "# Von Frey Analysis on DW 322"
   ]
  },
  {
   "cell_type": "markdown",
   "metadata": {},
   "source": [
    "### Spike Tracking\n",
    "\n",
    "\n",
    "**Questions**\n",
    "\n",
    "Perform Spike Sorting on Onset of Stimulation to End of Stimulation. Look at evoked responses over time. Take all of the 32 channels of data from SC. and the amplifier data from B. "
   ]
  },
  {
   "cell_type": "code",
   "execution_count": null,
   "metadata": {},
   "outputs": [],
   "source": []
  },
  {
   "cell_type": "markdown",
   "metadata": {},
   "source": []
  }
 ],
 "metadata": {
  "kernelspec": {
   "display_name": "kilosort",
   "language": "python",
   "name": "python3"
  },
  "language_info": {
   "codemirror_mode": {
    "name": "ipython",
    "version": 3
   },
   "file_extension": ".py",
   "mimetype": "text/x-python",
   "name": "python",
   "nbconvert_exporter": "python",
   "pygments_lexer": "ipython3",
   "version": "3.9.20"
  }
 },
 "nbformat": 4,
 "nbformat_minor": 2
}
